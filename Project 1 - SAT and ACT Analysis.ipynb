{
 "cells": [
  {
   "cell_type": "markdown",
   "metadata": {},
   "source": [
    "# Project 1: SAT & ACT Analysis"
   ]
  },
  {
   "cell_type": "markdown",
   "metadata": {},
   "source": [
    "## Problem Statement"
   ]
  },
  {
   "cell_type": "markdown",
   "metadata": {},
   "source": [
    "The Scholastic Assessment Test (SAT) and the American College Testing (ACT) are two widely used standardized testing methods for college admissions in the United States. As members of the College Board, our organization has been responsible for the development and administration of the SAT since its inception in 1926.\n",
    "\n",
    "In an effort to more closely align the SAT to reflect the problems encountered by high-school students during class, our SAT has undergone changes in 2016 to meet these goals. To improve student participation and combat perceived advantages in expensive SAT Test Preparation, the College Board has also partnered with the Khan Academy to provide free online SAT practice problems and video classes.\n",
    "\n",
    "Therefore, to further expand the reach of SAT in US high-schools, our team has been tasked to study and propose 1 US state for the College Board to target SAT promotion efforts. Using the SAT 2017/18 and ACT 2017/18 as initial data, any potential leads should be further investigated using external data. Finally, our findings and recommendations should be presented to the College Board in a non-technical setting."
   ]
  },
  {
   "cell_type": "markdown",
   "metadata": {},
   "source": [
    "## Executive Summary\n",
    "\n",
    "### Contents:\n",
    "- [2017 Data Import and Cleaning](#2017-Data-Import-and-Cleaning)\n",
    "- [2018 Data Import and Cleaning](#2018-Data-Import-and-Cleaning)\n",
    "- [Exploratory Data Analysis](#Exploratory-Data-Analysis)\n",
    "- [Data Visualization](#Data-Visualization)\n",
    "- [Descriptive and Inferential Statistics](#Descriptive-and-Inferential-Statistics)\n",
    "- [Outside Research](#Outside-Research)\n",
    "- [Conclusions and Recommendations](#Conclusions-and-Recommendations)"
   ]
  },
  {
   "cell_type": "markdown",
   "metadata": {},
   "source": [
    "#### Libraries used for this analysis"
   ]
  },
  {
   "cell_type": "code",
   "execution_count": 1,
   "metadata": {},
   "outputs": [],
   "source": [
    "import pandas as pd\n",
    "import numpy as np\n",
    "import matplotlib.pyplot as plt\n",
    "import seaborn as sns\n",
    "import scipy.stats as stats\n",
    "\n",
    "%matplotlib inline"
   ]
  },
  {
   "cell_type": "markdown",
   "metadata": {},
   "source": [
    "## 2017 Data Import and Cleaning"
   ]
  },
  {
   "cell_type": "markdown",
   "metadata": {},
   "source": [
    "### 1. Read In SAT & ACT  Data\n",
    "\n",
    "Read in the `sat_2017.csv` and `act_2017.csv` files and assign them to appropriately named pandas dataframes."
   ]
  },
  {
   "cell_type": "code",
   "execution_count": 2,
   "metadata": {},
   "outputs": [],
   "source": [
    "df_sat2017 = pd.read_csv(\"./data/sat_2017.csv\")\n",
    "df_act2017 = pd.read_csv(\"./data/act_2017.csv\")"
   ]
  },
  {
   "cell_type": "markdown",
   "metadata": {},
   "source": [
    "### 2. Display Data\n",
    "\n",
    "Print the first 10 rows of each dataframe to your jupyter notebook"
   ]
  },
  {
   "cell_type": "code",
   "execution_count": 3,
   "metadata": {},
   "outputs": [
    {
     "data": {
      "text/html": [
       "<div>\n",
       "<style scoped>\n",
       "    .dataframe tbody tr th:only-of-type {\n",
       "        vertical-align: middle;\n",
       "    }\n",
       "\n",
       "    .dataframe tbody tr th {\n",
       "        vertical-align: top;\n",
       "    }\n",
       "\n",
       "    .dataframe thead th {\n",
       "        text-align: right;\n",
       "    }\n",
       "</style>\n",
       "<table border=\"1\" class=\"dataframe\">\n",
       "  <thead>\n",
       "    <tr style=\"text-align: right;\">\n",
       "      <th></th>\n",
       "      <th>State</th>\n",
       "      <th>Participation</th>\n",
       "      <th>Evidence-Based Reading and Writing</th>\n",
       "      <th>Math</th>\n",
       "      <th>Total</th>\n",
       "    </tr>\n",
       "  </thead>\n",
       "  <tbody>\n",
       "    <tr>\n",
       "      <th>0</th>\n",
       "      <td>Alabama</td>\n",
       "      <td>5%</td>\n",
       "      <td>593</td>\n",
       "      <td>572</td>\n",
       "      <td>1165</td>\n",
       "    </tr>\n",
       "    <tr>\n",
       "      <th>1</th>\n",
       "      <td>Alaska</td>\n",
       "      <td>38%</td>\n",
       "      <td>547</td>\n",
       "      <td>533</td>\n",
       "      <td>1080</td>\n",
       "    </tr>\n",
       "    <tr>\n",
       "      <th>2</th>\n",
       "      <td>Arizona</td>\n",
       "      <td>30%</td>\n",
       "      <td>563</td>\n",
       "      <td>553</td>\n",
       "      <td>1116</td>\n",
       "    </tr>\n",
       "    <tr>\n",
       "      <th>3</th>\n",
       "      <td>Arkansas</td>\n",
       "      <td>3%</td>\n",
       "      <td>614</td>\n",
       "      <td>594</td>\n",
       "      <td>1208</td>\n",
       "    </tr>\n",
       "    <tr>\n",
       "      <th>4</th>\n",
       "      <td>California</td>\n",
       "      <td>53%</td>\n",
       "      <td>531</td>\n",
       "      <td>524</td>\n",
       "      <td>1055</td>\n",
       "    </tr>\n",
       "    <tr>\n",
       "      <th>5</th>\n",
       "      <td>Colorado</td>\n",
       "      <td>11%</td>\n",
       "      <td>606</td>\n",
       "      <td>595</td>\n",
       "      <td>1201</td>\n",
       "    </tr>\n",
       "    <tr>\n",
       "      <th>6</th>\n",
       "      <td>Connecticut</td>\n",
       "      <td>100%</td>\n",
       "      <td>530</td>\n",
       "      <td>512</td>\n",
       "      <td>1041</td>\n",
       "    </tr>\n",
       "    <tr>\n",
       "      <th>7</th>\n",
       "      <td>Delaware</td>\n",
       "      <td>100%</td>\n",
       "      <td>503</td>\n",
       "      <td>492</td>\n",
       "      <td>996</td>\n",
       "    </tr>\n",
       "    <tr>\n",
       "      <th>8</th>\n",
       "      <td>District of Columbia</td>\n",
       "      <td>100%</td>\n",
       "      <td>482</td>\n",
       "      <td>468</td>\n",
       "      <td>950</td>\n",
       "    </tr>\n",
       "    <tr>\n",
       "      <th>9</th>\n",
       "      <td>Florida</td>\n",
       "      <td>83%</td>\n",
       "      <td>520</td>\n",
       "      <td>497</td>\n",
       "      <td>1017</td>\n",
       "    </tr>\n",
       "  </tbody>\n",
       "</table>\n",
       "</div>"
      ],
      "text/plain": [
       "                  State Participation  Evidence-Based Reading and Writing  \\\n",
       "0               Alabama            5%                                 593   \n",
       "1                Alaska           38%                                 547   \n",
       "2               Arizona           30%                                 563   \n",
       "3              Arkansas            3%                                 614   \n",
       "4            California           53%                                 531   \n",
       "5              Colorado           11%                                 606   \n",
       "6           Connecticut          100%                                 530   \n",
       "7              Delaware          100%                                 503   \n",
       "8  District of Columbia          100%                                 482   \n",
       "9               Florida           83%                                 520   \n",
       "\n",
       "   Math  Total  \n",
       "0   572   1165  \n",
       "1   533   1080  \n",
       "2   553   1116  \n",
       "3   594   1208  \n",
       "4   524   1055  \n",
       "5   595   1201  \n",
       "6   512   1041  \n",
       "7   492    996  \n",
       "8   468    950  \n",
       "9   497   1017  "
      ]
     },
     "execution_count": 3,
     "metadata": {},
     "output_type": "execute_result"
    }
   ],
   "source": [
    "df_sat2017.head(10)   # SAT 2017"
   ]
  },
  {
   "cell_type": "code",
   "execution_count": 4,
   "metadata": {},
   "outputs": [
    {
     "data": {
      "text/html": [
       "<div>\n",
       "<style scoped>\n",
       "    .dataframe tbody tr th:only-of-type {\n",
       "        vertical-align: middle;\n",
       "    }\n",
       "\n",
       "    .dataframe tbody tr th {\n",
       "        vertical-align: top;\n",
       "    }\n",
       "\n",
       "    .dataframe thead th {\n",
       "        text-align: right;\n",
       "    }\n",
       "</style>\n",
       "<table border=\"1\" class=\"dataframe\">\n",
       "  <thead>\n",
       "    <tr style=\"text-align: right;\">\n",
       "      <th></th>\n",
       "      <th>State</th>\n",
       "      <th>Participation</th>\n",
       "      <th>English</th>\n",
       "      <th>Math</th>\n",
       "      <th>Reading</th>\n",
       "      <th>Science</th>\n",
       "      <th>Composite</th>\n",
       "    </tr>\n",
       "  </thead>\n",
       "  <tbody>\n",
       "    <tr>\n",
       "      <th>0</th>\n",
       "      <td>National</td>\n",
       "      <td>60%</td>\n",
       "      <td>20.3</td>\n",
       "      <td>20.7</td>\n",
       "      <td>21.4</td>\n",
       "      <td>21.0</td>\n",
       "      <td>21.0</td>\n",
       "    </tr>\n",
       "    <tr>\n",
       "      <th>1</th>\n",
       "      <td>Alabama</td>\n",
       "      <td>100%</td>\n",
       "      <td>18.9</td>\n",
       "      <td>18.4</td>\n",
       "      <td>19.7</td>\n",
       "      <td>19.4</td>\n",
       "      <td>19.2</td>\n",
       "    </tr>\n",
       "    <tr>\n",
       "      <th>2</th>\n",
       "      <td>Alaska</td>\n",
       "      <td>65%</td>\n",
       "      <td>18.7</td>\n",
       "      <td>19.8</td>\n",
       "      <td>20.4</td>\n",
       "      <td>19.9</td>\n",
       "      <td>19.8</td>\n",
       "    </tr>\n",
       "    <tr>\n",
       "      <th>3</th>\n",
       "      <td>Arizona</td>\n",
       "      <td>62%</td>\n",
       "      <td>18.6</td>\n",
       "      <td>19.8</td>\n",
       "      <td>20.1</td>\n",
       "      <td>19.8</td>\n",
       "      <td>19.7</td>\n",
       "    </tr>\n",
       "    <tr>\n",
       "      <th>4</th>\n",
       "      <td>Arkansas</td>\n",
       "      <td>100%</td>\n",
       "      <td>18.9</td>\n",
       "      <td>19.0</td>\n",
       "      <td>19.7</td>\n",
       "      <td>19.5</td>\n",
       "      <td>19.4</td>\n",
       "    </tr>\n",
       "    <tr>\n",
       "      <th>5</th>\n",
       "      <td>California</td>\n",
       "      <td>31%</td>\n",
       "      <td>22.5</td>\n",
       "      <td>22.7</td>\n",
       "      <td>23.1</td>\n",
       "      <td>22.2</td>\n",
       "      <td>22.8</td>\n",
       "    </tr>\n",
       "    <tr>\n",
       "      <th>6</th>\n",
       "      <td>Colorado</td>\n",
       "      <td>100%</td>\n",
       "      <td>20.1</td>\n",
       "      <td>20.3</td>\n",
       "      <td>21.2</td>\n",
       "      <td>20.9</td>\n",
       "      <td>20.8</td>\n",
       "    </tr>\n",
       "    <tr>\n",
       "      <th>7</th>\n",
       "      <td>Connecticut</td>\n",
       "      <td>31%</td>\n",
       "      <td>25.5</td>\n",
       "      <td>24.6</td>\n",
       "      <td>25.6</td>\n",
       "      <td>24.6</td>\n",
       "      <td>25.2</td>\n",
       "    </tr>\n",
       "    <tr>\n",
       "      <th>8</th>\n",
       "      <td>Delaware</td>\n",
       "      <td>18%</td>\n",
       "      <td>24.1</td>\n",
       "      <td>23.4</td>\n",
       "      <td>24.8</td>\n",
       "      <td>23.6</td>\n",
       "      <td>24.1</td>\n",
       "    </tr>\n",
       "    <tr>\n",
       "      <th>9</th>\n",
       "      <td>District of Columbia</td>\n",
       "      <td>32%</td>\n",
       "      <td>24.4</td>\n",
       "      <td>23.5</td>\n",
       "      <td>24.9</td>\n",
       "      <td>23.5</td>\n",
       "      <td>24.2</td>\n",
       "    </tr>\n",
       "  </tbody>\n",
       "</table>\n",
       "</div>"
      ],
      "text/plain": [
       "                  State Participation  English  Math  Reading  Science  \\\n",
       "0              National           60%     20.3  20.7     21.4     21.0   \n",
       "1               Alabama          100%     18.9  18.4     19.7     19.4   \n",
       "2                Alaska           65%     18.7  19.8     20.4     19.9   \n",
       "3               Arizona           62%     18.6  19.8     20.1     19.8   \n",
       "4              Arkansas          100%     18.9  19.0     19.7     19.5   \n",
       "5            California           31%     22.5  22.7     23.1     22.2   \n",
       "6              Colorado          100%     20.1  20.3     21.2     20.9   \n",
       "7           Connecticut           31%     25.5  24.6     25.6     24.6   \n",
       "8              Delaware           18%     24.1  23.4     24.8     23.6   \n",
       "9  District of Columbia           32%     24.4  23.5     24.9     23.5   \n",
       "\n",
       "  Composite  \n",
       "0      21.0  \n",
       "1      19.2  \n",
       "2      19.8  \n",
       "3      19.7  \n",
       "4      19.4  \n",
       "5      22.8  \n",
       "6      20.8  \n",
       "7      25.2  \n",
       "8      24.1  \n",
       "9      24.2  "
      ]
     },
     "execution_count": 4,
     "metadata": {},
     "output_type": "execute_result"
    }
   ],
   "source": [
    "df_act2017.head(10)   # ACT 2017"
   ]
  },
  {
   "cell_type": "markdown",
   "metadata": {},
   "source": [
    "### 3. Verbally Describe Data\n",
    "\n",
    "Take your time looking through the data and thoroughly describe the data in the markdown cell below. "
   ]
  },
  {
   "cell_type": "markdown",
   "metadata": {},
   "source": [
    "### <span style=\"color:red\">Answer:</span>\n",
    "\n",
    "These 2 datasets contains the results of the SAT/ACT participation rates/mean-scores at the individual US state levels.\n",
    "\n",
    "a) For the SAT scores (sat_2017.csv), the data covers the entire 50 US states + the District of Columbia (DC) region. Individual rows include the state-wide SAT participation rates (%) of high-school students in that year, as well as the breakdown of the state's mean EBRW and Math component scores. Cumulative SAT scores are also presented (EBRW + Math scores).\n",
    "\n",
    "b) For the ACT scores (act_2017.csv), the data covers all 50 US states, the DC region, as well as a \"National\" US-wide value of the ACT score. The breakdown of data includes the ACT state-wide participation rate (%), state-average test-scores (English / Math / Reading / Science), and a overall state-average \"Composite\" score (derived by getting the mean of ACT English / Math / Reading / Science scores).\n"
   ]
  },
  {
   "cell_type": "markdown",
   "metadata": {},
   "source": [
    "### 4a. Does the data look complete? "
   ]
  },
  {
   "cell_type": "markdown",
   "metadata": {},
   "source": [
    "### <span style=\"color:red\">Answer:</span>\n",
    "    \n",
    "Application of the .info() function did not reveal any missing datapoints. Therefore, these datasets appear to be complete."
   ]
  },
  {
   "cell_type": "code",
   "execution_count": 5,
   "metadata": {},
   "outputs": [
    {
     "name": "stdout",
     "output_type": "stream",
     "text": [
      "<class 'pandas.core.frame.DataFrame'>\n",
      "RangeIndex: 51 entries, 0 to 50\n",
      "Data columns (total 5 columns):\n",
      "State                                 51 non-null object\n",
      "Participation                         51 non-null object\n",
      "Evidence-Based Reading and Writing    51 non-null int64\n",
      "Math                                  51 non-null int64\n",
      "Total                                 51 non-null int64\n",
      "dtypes: int64(3), object(2)\n",
      "memory usage: 2.1+ KB\n"
     ]
    }
   ],
   "source": [
    "df_sat2017.info()   # Checking for missing values in SAT 2017 scores"
   ]
  },
  {
   "cell_type": "code",
   "execution_count": 6,
   "metadata": {},
   "outputs": [
    {
     "name": "stdout",
     "output_type": "stream",
     "text": [
      "<class 'pandas.core.frame.DataFrame'>\n",
      "RangeIndex: 52 entries, 0 to 51\n",
      "Data columns (total 7 columns):\n",
      "State            52 non-null object\n",
      "Participation    52 non-null object\n",
      "English          52 non-null float64\n",
      "Math             52 non-null float64\n",
      "Reading          52 non-null float64\n",
      "Science          52 non-null float64\n",
      "Composite        52 non-null object\n",
      "dtypes: float64(4), object(3)\n",
      "memory usage: 3.0+ KB\n"
     ]
    }
   ],
   "source": [
    "df_act2017.info()   # Checking for missing values in ACT 2017 scores"
   ]
  },
  {
   "cell_type": "markdown",
   "metadata": {},
   "source": [
    " "
   ]
  },
  {
   "cell_type": "markdown",
   "metadata": {},
   "source": [
    "### 4b. Are there any obvious issues with the observations?\n",
    "### What is the minimum *possible* value for each test/subtest? What is the maximum *possible* value?\n",
    "\n",
    "Consider comparing any questionable values to the sources of your data:\n",
    "- [SAT](https://blog.collegevine.com/here-are-the-average-sat-scores-by-state/)\n",
    "- [ACT](https://blog.prepscholar.com/act-scores-by-state-averages-highs-and-lows)"
   ]
  },
  {
   "cell_type": "markdown",
   "metadata": {},
   "source": [
    "### <span style=\"color:red\">Answer:</span>\n",
    "\n",
    "1) The SAT contains: a) Reading/Writing component, and b) Math section. Scores from each component will range from 200-800 (min-max), and the addition of both components will give the final SAT score of between 400-1600 (min-max).\n",
    "\n",
    "2) The ACT is made up of 4 sections (English, Math, Reading, Science), with individual section scores ranging from 1-36 (min-max). The final, or \"Composite\" score, is the final ACT score. This final result is derived by taking the average score of the 4 ACT sections."
   ]
  },
  {
   "cell_type": "markdown",
   "metadata": {},
   "source": [
    " "
   ]
  },
  {
   "cell_type": "code",
   "execution_count": 7,
   "metadata": {},
   "outputs": [
    {
     "data": {
      "text/html": [
       "<div>\n",
       "<style scoped>\n",
       "    .dataframe tbody tr th:only-of-type {\n",
       "        vertical-align: middle;\n",
       "    }\n",
       "\n",
       "    .dataframe tbody tr th {\n",
       "        vertical-align: top;\n",
       "    }\n",
       "\n",
       "    .dataframe thead th {\n",
       "        text-align: right;\n",
       "    }\n",
       "</style>\n",
       "<table border=\"1\" class=\"dataframe\">\n",
       "  <thead>\n",
       "    <tr style=\"text-align: right;\">\n",
       "      <th></th>\n",
       "      <th>Evidence-Based Reading and Writing</th>\n",
       "      <th>Math</th>\n",
       "      <th>Total</th>\n",
       "    </tr>\n",
       "  </thead>\n",
       "  <tbody>\n",
       "    <tr>\n",
       "      <th>count</th>\n",
       "      <td>51.000000</td>\n",
       "      <td>51.000000</td>\n",
       "      <td>51.000000</td>\n",
       "    </tr>\n",
       "    <tr>\n",
       "      <th>mean</th>\n",
       "      <td>569.117647</td>\n",
       "      <td>547.627451</td>\n",
       "      <td>1126.098039</td>\n",
       "    </tr>\n",
       "    <tr>\n",
       "      <th>std</th>\n",
       "      <td>45.666901</td>\n",
       "      <td>84.909119</td>\n",
       "      <td>92.494812</td>\n",
       "    </tr>\n",
       "    <tr>\n",
       "      <th>min</th>\n",
       "      <td>482.000000</td>\n",
       "      <td>52.000000</td>\n",
       "      <td>950.000000</td>\n",
       "    </tr>\n",
       "    <tr>\n",
       "      <th>25%</th>\n",
       "      <td>533.500000</td>\n",
       "      <td>522.000000</td>\n",
       "      <td>1055.500000</td>\n",
       "    </tr>\n",
       "    <tr>\n",
       "      <th>50%</th>\n",
       "      <td>559.000000</td>\n",
       "      <td>548.000000</td>\n",
       "      <td>1107.000000</td>\n",
       "    </tr>\n",
       "    <tr>\n",
       "      <th>75%</th>\n",
       "      <td>613.000000</td>\n",
       "      <td>599.000000</td>\n",
       "      <td>1212.000000</td>\n",
       "    </tr>\n",
       "    <tr>\n",
       "      <th>max</th>\n",
       "      <td>644.000000</td>\n",
       "      <td>651.000000</td>\n",
       "      <td>1295.000000</td>\n",
       "    </tr>\n",
       "  </tbody>\n",
       "</table>\n",
       "</div>"
      ],
      "text/plain": [
       "       Evidence-Based Reading and Writing        Math        Total\n",
       "count                           51.000000   51.000000    51.000000\n",
       "mean                           569.117647  547.627451  1126.098039\n",
       "std                             45.666901   84.909119    92.494812\n",
       "min                            482.000000   52.000000   950.000000\n",
       "25%                            533.500000  522.000000  1055.500000\n",
       "50%                            559.000000  548.000000  1107.000000\n",
       "75%                            613.000000  599.000000  1212.000000\n",
       "max                            644.000000  651.000000  1295.000000"
      ]
     },
     "execution_count": 7,
     "metadata": {},
     "output_type": "execute_result"
    }
   ],
   "source": [
    "df_sat2017.describe()   # Assessing the SAT 2017 data using .describe()"
   ]
  },
  {
   "cell_type": "code",
   "execution_count": 8,
   "metadata": {},
   "outputs": [
    {
     "data": {
      "text/html": [
       "<div>\n",
       "<style scoped>\n",
       "    .dataframe tbody tr th:only-of-type {\n",
       "        vertical-align: middle;\n",
       "    }\n",
       "\n",
       "    .dataframe tbody tr th {\n",
       "        vertical-align: top;\n",
       "    }\n",
       "\n",
       "    .dataframe thead th {\n",
       "        text-align: right;\n",
       "    }\n",
       "</style>\n",
       "<table border=\"1\" class=\"dataframe\">\n",
       "  <thead>\n",
       "    <tr style=\"text-align: right;\">\n",
       "      <th></th>\n",
       "      <th>English</th>\n",
       "      <th>Math</th>\n",
       "      <th>Reading</th>\n",
       "      <th>Science</th>\n",
       "    </tr>\n",
       "  </thead>\n",
       "  <tbody>\n",
       "    <tr>\n",
       "      <th>count</th>\n",
       "      <td>52.000000</td>\n",
       "      <td>52.000000</td>\n",
       "      <td>52.000000</td>\n",
       "      <td>52.000000</td>\n",
       "    </tr>\n",
       "    <tr>\n",
       "      <th>mean</th>\n",
       "      <td>20.919231</td>\n",
       "      <td>21.173077</td>\n",
       "      <td>22.001923</td>\n",
       "      <td>21.040385</td>\n",
       "    </tr>\n",
       "    <tr>\n",
       "      <th>std</th>\n",
       "      <td>2.332132</td>\n",
       "      <td>1.963602</td>\n",
       "      <td>2.048672</td>\n",
       "      <td>3.151113</td>\n",
       "    </tr>\n",
       "    <tr>\n",
       "      <th>min</th>\n",
       "      <td>16.300000</td>\n",
       "      <td>18.000000</td>\n",
       "      <td>18.100000</td>\n",
       "      <td>2.300000</td>\n",
       "    </tr>\n",
       "    <tr>\n",
       "      <th>25%</th>\n",
       "      <td>19.000000</td>\n",
       "      <td>19.400000</td>\n",
       "      <td>20.475000</td>\n",
       "      <td>19.900000</td>\n",
       "    </tr>\n",
       "    <tr>\n",
       "      <th>50%</th>\n",
       "      <td>20.550000</td>\n",
       "      <td>20.900000</td>\n",
       "      <td>21.700000</td>\n",
       "      <td>21.150000</td>\n",
       "    </tr>\n",
       "    <tr>\n",
       "      <th>75%</th>\n",
       "      <td>23.300000</td>\n",
       "      <td>23.100000</td>\n",
       "      <td>24.125000</td>\n",
       "      <td>22.525000</td>\n",
       "    </tr>\n",
       "    <tr>\n",
       "      <th>max</th>\n",
       "      <td>25.500000</td>\n",
       "      <td>25.300000</td>\n",
       "      <td>26.000000</td>\n",
       "      <td>24.900000</td>\n",
       "    </tr>\n",
       "  </tbody>\n",
       "</table>\n",
       "</div>"
      ],
      "text/plain": [
       "         English       Math    Reading    Science\n",
       "count  52.000000  52.000000  52.000000  52.000000\n",
       "mean   20.919231  21.173077  22.001923  21.040385\n",
       "std     2.332132   1.963602   2.048672   3.151113\n",
       "min    16.300000  18.000000  18.100000   2.300000\n",
       "25%    19.000000  19.400000  20.475000  19.900000\n",
       "50%    20.550000  20.900000  21.700000  21.150000\n",
       "75%    23.300000  23.100000  24.125000  22.525000\n",
       "max    25.500000  25.300000  26.000000  24.900000"
      ]
     },
     "execution_count": 8,
     "metadata": {},
     "output_type": "execute_result"
    }
   ],
   "source": [
    "df_act2017.describe()   # Assessing the ACT 2017 data using .describe()"
   ]
  },
  {
   "cell_type": "markdown",
   "metadata": {},
   "source": [
    "### <span style=\"color:red\">Answer:</span>\n",
    "Given these information, it was observed that several datapoints fall out of the expected SAT / ACT test score parameters. Additionally, incorrect datatype formats were also observed. To remedy such issues, the SAT and ACT datasets were cross-referenced with their respective original source for the necessary corrections. These errors are as listed below:"
   ]
  },
  {
   "cell_type": "markdown",
   "metadata": {},
   "source": [
    "### 4c. Fix any errors you identified\n",
    "\n",
    "**The data is available** so there's no need to guess or calculate anything. If you didn't find any errors, continue to the next step. "
   ]
  },
  {
   "cell_type": "markdown",
   "metadata": {},
   "source": [
    "### <span style=\"color:red\">Correcting error #1:</span>\n",
    "Minimum value of the SAT Math component is below the minimum possible score of 200, indicating an error. \n",
    "In this case, the state of Maryland's Math score is shown to be 52. The true value is actually 524."
   ]
  },
  {
   "cell_type": "code",
   "execution_count": 9,
   "metadata": {
    "scrolled": true
   },
   "outputs": [
    {
     "data": {
      "text/html": [
       "<div>\n",
       "<style scoped>\n",
       "    .dataframe tbody tr th:only-of-type {\n",
       "        vertical-align: middle;\n",
       "    }\n",
       "\n",
       "    .dataframe tbody tr th {\n",
       "        vertical-align: top;\n",
       "    }\n",
       "\n",
       "    .dataframe thead th {\n",
       "        text-align: right;\n",
       "    }\n",
       "</style>\n",
       "<table border=\"1\" class=\"dataframe\">\n",
       "  <thead>\n",
       "    <tr style=\"text-align: right;\">\n",
       "      <th></th>\n",
       "      <th>State</th>\n",
       "      <th>Participation</th>\n",
       "      <th>Evidence-Based Reading and Writing</th>\n",
       "      <th>Math</th>\n",
       "      <th>Total</th>\n",
       "    </tr>\n",
       "  </thead>\n",
       "  <tbody>\n",
       "    <tr>\n",
       "      <th>20</th>\n",
       "      <td>Maryland</td>\n",
       "      <td>69%</td>\n",
       "      <td>536</td>\n",
       "      <td>52</td>\n",
       "      <td>1060</td>\n",
       "    </tr>\n",
       "  </tbody>\n",
       "</table>\n",
       "</div>"
      ],
      "text/plain": [
       "       State Participation  Evidence-Based Reading and Writing  Math  Total\n",
       "20  Maryland           69%                                 536    52   1060"
      ]
     },
     "execution_count": 9,
     "metadata": {},
     "output_type": "execute_result"
    }
   ],
   "source": [
    "df_sat2017[df_sat2017[\"Math\"] <= 200]"
   ]
  },
  {
   "cell_type": "markdown",
   "metadata": {},
   "source": [
    "### <span style=\"color:red\">Correcting error #2:</span>\n",
    "The minimum ACT Science score for the state of Maryland is shown to be 2.3. This is not possible as the final value would be much less than the \"Composite\" score of 23.6. Checking the reference ACT values, it was revealed that the true ACT Science score in Maryland is 23.2."
   ]
  },
  {
   "cell_type": "code",
   "execution_count": 10,
   "metadata": {},
   "outputs": [
    {
     "data": {
      "text/html": [
       "<div>\n",
       "<style scoped>\n",
       "    .dataframe tbody tr th:only-of-type {\n",
       "        vertical-align: middle;\n",
       "    }\n",
       "\n",
       "    .dataframe tbody tr th {\n",
       "        vertical-align: top;\n",
       "    }\n",
       "\n",
       "    .dataframe thead th {\n",
       "        text-align: right;\n",
       "    }\n",
       "</style>\n",
       "<table border=\"1\" class=\"dataframe\">\n",
       "  <thead>\n",
       "    <tr style=\"text-align: right;\">\n",
       "      <th></th>\n",
       "      <th>State</th>\n",
       "      <th>Participation</th>\n",
       "      <th>English</th>\n",
       "      <th>Math</th>\n",
       "      <th>Reading</th>\n",
       "      <th>Science</th>\n",
       "      <th>Composite</th>\n",
       "    </tr>\n",
       "  </thead>\n",
       "  <tbody>\n",
       "    <tr>\n",
       "      <th>21</th>\n",
       "      <td>Maryland</td>\n",
       "      <td>28%</td>\n",
       "      <td>23.3</td>\n",
       "      <td>23.1</td>\n",
       "      <td>24.2</td>\n",
       "      <td>2.3</td>\n",
       "      <td>23.6</td>\n",
       "    </tr>\n",
       "  </tbody>\n",
       "</table>\n",
       "</div>"
      ],
      "text/plain": [
       "       State Participation  English  Math  Reading  Science Composite\n",
       "21  Maryland           28%     23.3  23.1     24.2      2.3      23.6"
      ]
     },
     "execution_count": 10,
     "metadata": {},
     "output_type": "execute_result"
    }
   ],
   "source": [
    "df_act2017[df_act2017[\"Science\"] == 2.3]"
   ]
  },
  {
   "cell_type": "markdown",
   "metadata": {},
   "source": [
    "### <span style=\"color:red\">Correcting error #3:</span>\n",
    "The SAT/ACT \"Math\" values in the state of Maryland is incorrect and needs to be replaced with its original values."
   ]
  },
  {
   "cell_type": "code",
   "execution_count": 11,
   "metadata": {},
   "outputs": [],
   "source": [
    "df_sat2017.loc[20, \"Math\"] = 524   # Correcting Maryland's SAT Math score"
   ]
  },
  {
   "cell_type": "code",
   "execution_count": 12,
   "metadata": {},
   "outputs": [
    {
     "data": {
      "text/html": [
       "<div>\n",
       "<style scoped>\n",
       "    .dataframe tbody tr th:only-of-type {\n",
       "        vertical-align: middle;\n",
       "    }\n",
       "\n",
       "    .dataframe tbody tr th {\n",
       "        vertical-align: top;\n",
       "    }\n",
       "\n",
       "    .dataframe thead th {\n",
       "        text-align: right;\n",
       "    }\n",
       "</style>\n",
       "<table border=\"1\" class=\"dataframe\">\n",
       "  <thead>\n",
       "    <tr style=\"text-align: right;\">\n",
       "      <th></th>\n",
       "      <th>State</th>\n",
       "      <th>Participation</th>\n",
       "      <th>Evidence-Based Reading and Writing</th>\n",
       "      <th>Math</th>\n",
       "      <th>Total</th>\n",
       "    </tr>\n",
       "  </thead>\n",
       "  <tbody>\n",
       "    <tr>\n",
       "      <th>20</th>\n",
       "      <td>Maryland</td>\n",
       "      <td>69%</td>\n",
       "      <td>536</td>\n",
       "      <td>524</td>\n",
       "      <td>1060</td>\n",
       "    </tr>\n",
       "  </tbody>\n",
       "</table>\n",
       "</div>"
      ],
      "text/plain": [
       "       State Participation  Evidence-Based Reading and Writing  Math  Total\n",
       "20  Maryland           69%                                 536   524   1060"
      ]
     },
     "execution_count": 12,
     "metadata": {},
     "output_type": "execute_result"
    }
   ],
   "source": [
    "df_sat2017[df_sat2017[\"State\"] == \"Maryland\"]"
   ]
  },
  {
   "cell_type": "code",
   "execution_count": 13,
   "metadata": {},
   "outputs": [],
   "source": [
    "df_act2017.loc[21, \"Science\"] = 23.2   # Correcting Maryland's ACT Science score"
   ]
  },
  {
   "cell_type": "code",
   "execution_count": 14,
   "metadata": {},
   "outputs": [
    {
     "data": {
      "text/html": [
       "<div>\n",
       "<style scoped>\n",
       "    .dataframe tbody tr th:only-of-type {\n",
       "        vertical-align: middle;\n",
       "    }\n",
       "\n",
       "    .dataframe tbody tr th {\n",
       "        vertical-align: top;\n",
       "    }\n",
       "\n",
       "    .dataframe thead th {\n",
       "        text-align: right;\n",
       "    }\n",
       "</style>\n",
       "<table border=\"1\" class=\"dataframe\">\n",
       "  <thead>\n",
       "    <tr style=\"text-align: right;\">\n",
       "      <th></th>\n",
       "      <th>State</th>\n",
       "      <th>Participation</th>\n",
       "      <th>English</th>\n",
       "      <th>Math</th>\n",
       "      <th>Reading</th>\n",
       "      <th>Science</th>\n",
       "      <th>Composite</th>\n",
       "    </tr>\n",
       "  </thead>\n",
       "  <tbody>\n",
       "    <tr>\n",
       "      <th>21</th>\n",
       "      <td>Maryland</td>\n",
       "      <td>28%</td>\n",
       "      <td>23.3</td>\n",
       "      <td>23.1</td>\n",
       "      <td>24.2</td>\n",
       "      <td>23.2</td>\n",
       "      <td>23.6</td>\n",
       "    </tr>\n",
       "  </tbody>\n",
       "</table>\n",
       "</div>"
      ],
      "text/plain": [
       "       State Participation  English  Math  Reading  Science Composite\n",
       "21  Maryland           28%     23.3  23.1     24.2     23.2      23.6"
      ]
     },
     "execution_count": 14,
     "metadata": {},
     "output_type": "execute_result"
    }
   ],
   "source": [
    "df_act2017[df_act2017[\"State\"] == \"Maryland\"]"
   ]
  },
  {
   "cell_type": "markdown",
   "metadata": {},
   "source": [
    "### 5. What are your data types? \n",
    "Display the data types of each feature. "
   ]
  },
  {
   "cell_type": "code",
   "execution_count": 15,
   "metadata": {},
   "outputs": [
    {
     "name": "stdout",
     "output_type": "stream",
     "text": [
      "State                                 object\n",
      "Participation                         object\n",
      "Evidence-Based Reading and Writing     int64\n",
      "Math                                   int64\n",
      "Total                                  int64\n",
      "dtype: object\n"
     ]
    }
   ],
   "source": [
    "print(df_sat2017.dtypes)   # Datatype of SAT 2017"
   ]
  },
  {
   "cell_type": "code",
   "execution_count": 16,
   "metadata": {},
   "outputs": [
    {
     "name": "stdout",
     "output_type": "stream",
     "text": [
      "State             object\n",
      "Participation     object\n",
      "English          float64\n",
      "Math             float64\n",
      "Reading          float64\n",
      "Science          float64\n",
      "Composite         object\n",
      "dtype: object\n"
     ]
    }
   ],
   "source": [
    "print(df_act2017.dtypes)   # Datatype of ACT 2017"
   ]
  },
  {
   "cell_type": "code",
   "execution_count": 17,
   "metadata": {},
   "outputs": [
    {
     "data": {
      "text/html": [
       "<div>\n",
       "<style scoped>\n",
       "    .dataframe tbody tr th:only-of-type {\n",
       "        vertical-align: middle;\n",
       "    }\n",
       "\n",
       "    .dataframe tbody tr th {\n",
       "        vertical-align: top;\n",
       "    }\n",
       "\n",
       "    .dataframe thead th {\n",
       "        text-align: right;\n",
       "    }\n",
       "</style>\n",
       "<table border=\"1\" class=\"dataframe\">\n",
       "  <thead>\n",
       "    <tr style=\"text-align: right;\">\n",
       "      <th></th>\n",
       "      <th>State</th>\n",
       "      <th>Participation</th>\n",
       "      <th>English</th>\n",
       "      <th>Math</th>\n",
       "      <th>Reading</th>\n",
       "      <th>Science</th>\n",
       "      <th>Composite</th>\n",
       "    </tr>\n",
       "  </thead>\n",
       "  <tbody>\n",
       "    <tr>\n",
       "      <th>51</th>\n",
       "      <td>Wyoming</td>\n",
       "      <td>100%</td>\n",
       "      <td>19.4</td>\n",
       "      <td>19.8</td>\n",
       "      <td>20.8</td>\n",
       "      <td>20.6</td>\n",
       "      <td>20.2x</td>\n",
       "    </tr>\n",
       "  </tbody>\n",
       "</table>\n",
       "</div>"
      ],
      "text/plain": [
       "      State Participation  English  Math  Reading  Science Composite\n",
       "51  Wyoming          100%     19.4  19.8     20.8     20.6     20.2x"
      ]
     },
     "execution_count": 17,
     "metadata": {},
     "output_type": "execute_result"
    }
   ],
   "source": [
    "df_act2017[-1:]   # Wrong value type in the \"Composite\" column in the state of Wyoming"
   ]
  },
  {
   "cell_type": "markdown",
   "metadata": {},
   "source": [
    "### What did you learn?\n",
    "- Do any of them seem odd?  \n",
    "- Which ones are not as they should be?  "
   ]
  },
  {
   "cell_type": "markdown",
   "metadata": {},
   "source": [
    "### <span style=\"color:red\">Answer:</span>\n",
    "\n",
    "1) The \"Participation\" column of both the SAT and ACT datasets were found to be \"object\" datatypes. As participation rates per state are best represented as \"int64\", this column should be corrected.\n",
    "\n",
    "2) While most of the SAT and ACT scores were correctly listed as either \"int64\" or \"float64\", it was observed that the \"Composite\" column of ACT is listed as a \"object\" datatype. Changing it into a \"float64\" type would be more appropriate. Manual inspection revealed that the state of Wyoming had a value of 20.2x in the \"Composite\" column. Based on the reference dataset, this value should be corrected to 20.2."
   ]
  },
  {
   "cell_type": "markdown",
   "metadata": {},
   "source": [
    "### 6. Fix Incorrect Data Types\n",
    "Based on what you discovered above, use appropriate methods to re-type incorrectly typed data.\n",
    "- Define a function that will allow you to convert participation rates to an appropriate numeric type. Use `map` or `apply` to change these columns in each dataframe."
   ]
  },
  {
   "cell_type": "code",
   "execution_count": 18,
   "metadata": {},
   "outputs": [],
   "source": [
    "#Removing the \"%\" symbol from the \"Participation\" column\n",
    "df_sat2017[\"Participation\"] = df_sat2017[\"Participation\"].map(lambda x: int(x.replace(\"%\",\"\")))\n",
    "df_act2017[\"Participation\"] = df_act2017[\"Participation\"].map(lambda x: int(x.replace(\"%\",\"\")))"
   ]
  },
  {
   "cell_type": "markdown",
   "metadata": {},
   "source": [
    "- Fix any individual values preventing other columns from being the appropriate type."
   ]
  },
  {
   "cell_type": "code",
   "execution_count": 19,
   "metadata": {},
   "outputs": [],
   "source": [
    "#Correcting the correct score for the state of Wyoming\n",
    "df_act2017.loc[51, \"Composite\"] = 20.2"
   ]
  },
  {
   "cell_type": "code",
   "execution_count": 20,
   "metadata": {},
   "outputs": [
    {
     "data": {
      "text/html": [
       "<div>\n",
       "<style scoped>\n",
       "    .dataframe tbody tr th:only-of-type {\n",
       "        vertical-align: middle;\n",
       "    }\n",
       "\n",
       "    .dataframe tbody tr th {\n",
       "        vertical-align: top;\n",
       "    }\n",
       "\n",
       "    .dataframe thead th {\n",
       "        text-align: right;\n",
       "    }\n",
       "</style>\n",
       "<table border=\"1\" class=\"dataframe\">\n",
       "  <thead>\n",
       "    <tr style=\"text-align: right;\">\n",
       "      <th></th>\n",
       "      <th>State</th>\n",
       "      <th>Participation</th>\n",
       "      <th>English</th>\n",
       "      <th>Math</th>\n",
       "      <th>Reading</th>\n",
       "      <th>Science</th>\n",
       "      <th>Composite</th>\n",
       "    </tr>\n",
       "  </thead>\n",
       "  <tbody>\n",
       "    <tr>\n",
       "      <th>51</th>\n",
       "      <td>Wyoming</td>\n",
       "      <td>100</td>\n",
       "      <td>19.4</td>\n",
       "      <td>19.8</td>\n",
       "      <td>20.8</td>\n",
       "      <td>20.6</td>\n",
       "      <td>20.2</td>\n",
       "    </tr>\n",
       "  </tbody>\n",
       "</table>\n",
       "</div>"
      ],
      "text/plain": [
       "      State  Participation  English  Math  Reading  Science Composite\n",
       "51  Wyoming            100     19.4  19.8     20.8     20.6      20.2"
      ]
     },
     "execution_count": 20,
     "metadata": {},
     "output_type": "execute_result"
    }
   ],
   "source": [
    "df_act2017[-1:]   # Data is now corrected"
   ]
  },
  {
   "cell_type": "markdown",
   "metadata": {},
   "source": [
    "- Finish your data modifications by making sure the columns are now typed appropriately."
   ]
  },
  {
   "cell_type": "code",
   "execution_count": 21,
   "metadata": {},
   "outputs": [],
   "source": [
    "#Converting the \"Composite\" scores into a \"float64\" datatype\n",
    "df_act2017.Composite = df_act2017.Composite.astype(\"float64\")"
   ]
  },
  {
   "cell_type": "markdown",
   "metadata": {},
   "source": [
    "- Display the data types again to confirm they are correct."
   ]
  },
  {
   "cell_type": "code",
   "execution_count": 22,
   "metadata": {},
   "outputs": [
    {
     "data": {
      "text/plain": [
       "State             object\n",
       "Participation      int64\n",
       "English          float64\n",
       "Math             float64\n",
       "Reading          float64\n",
       "Science          float64\n",
       "Composite        float64\n",
       "dtype: object"
      ]
     },
     "execution_count": 22,
     "metadata": {},
     "output_type": "execute_result"
    }
   ],
   "source": [
    "df_act2017.dtypes   # Data has been successfully converted"
   ]
  },
  {
   "cell_type": "markdown",
   "metadata": {},
   "source": [
    "### 7. Rename Columns\n",
    "Change the names of the columns to more expressive names so that you can tell the difference the SAT columns and the ACT columns. Your solution should map all column names being changed at once (no repeated singular name-changes). **We will be combining these data with some of the data from 2018, and so you should name columns in an appropriate way**.\n",
    "\n",
    "**Guidelines**:\n",
    "- Column names should be all lowercase (you will thank yourself when you start pushing data to SQL later in the course)\n",
    "- Column names should not contain spaces (underscores will suffice--this allows for using the `df.column_name` method to access columns in addition to `df['column_name']`.\n",
    "- Column names should be unique and informative (the only feature that we actually share between dataframes is the state)."
   ]
  },
  {
   "cell_type": "code",
   "execution_count": 23,
   "metadata": {},
   "outputs": [],
   "source": [
    "#Changing the column names\n",
    "df_sat2017.columns = [\"state\", \"sat_part_2017\", \"sat_ebrw_2017\",\n",
    "                      \"sat_math_2017\", \"sat_total_2017\"]\n",
    "df_act2017.columns = [\"state\", \"act_part_2017\", \"act_eng_2017\", \n",
    "                      \"act_math_2017\", \"act_read_2017\", \"act_sci_2017\",\n",
    "                      \"act_comp_2017\"]"
   ]
  },
  {
   "cell_type": "code",
   "execution_count": 24,
   "metadata": {},
   "outputs": [
    {
     "data": {
      "text/plain": [
       "state             object\n",
       "act_part_2017      int64\n",
       "act_eng_2017     float64\n",
       "act_math_2017    float64\n",
       "act_read_2017    float64\n",
       "act_sci_2017     float64\n",
       "act_comp_2017    float64\n",
       "dtype: object"
      ]
     },
     "execution_count": 24,
     "metadata": {},
     "output_type": "execute_result"
    }
   ],
   "source": [
    "df_act2017.dtypes   # Column names has been properly renamed"
   ]
  },
  {
   "cell_type": "markdown",
   "metadata": {},
   "source": [
    "### 8. Create a data dictionary\n",
    "\n",
    "Now that we've fixed our data, and given it appropriate names, let's create a [data dictionary](http://library.ucmerced.edu/node/10249). \n",
    "\n",
    "A data dictionary provides a quick overview of features/variables/columns, alongside data types and descriptions. The more descriptive you can be, the more useful this document is.\n",
    "\n",
    "Example of a Fictional Data Dictionary Entry: \n",
    "\n",
    "|Feature|Type|Dataset|Description|\n",
    "|---|---|---|---|\n",
    "|**county_pop**|*integer*|2010 census|The population of the county (units in thousands, where 2.5 represents 2500 people).| \n",
    "|**per_poverty**|*float*|2010 census|The percent of the county over the age of 18 living below the 200% of official US poverty rate (units percent to two decimal places 98.10 means 98.1%)|\n",
    "\n",
    "[Here's a quick link to a short guide for formatting markdown in Jupyter notebooks](https://jupyter-notebook.readthedocs.io/en/stable/examples/Notebook/Working%20With%20Markdown%20Cells.html).\n",
    "\n",
    "Provided is the skeleton for formatting a markdown table, with columns headers that will help you create a data dictionary to quickly summarize your data, as well as some examples. **This would be a great thing to copy and paste into your custom README for this project.**"
   ]
  },
  {
   "cell_type": "markdown",
   "metadata": {},
   "source": [
    "### <span style=\"color:red\">Answer: Data Dictionary for 2017</span>\n",
    "\n",
    "|Feature|Type|Dataset|Description|\n",
    "|:-------|---|---|---|\n",
    "|**state**|object|ACT/SAT|State name within the USA|\n",
    "|**sat_part_2017**|int64|SAT|State SAT participation rate (%) in 2017|\n",
    "|**sat_ebwr_2017**|int64|SAT|State average SAT EBRW score in 2017|\n",
    "|**sat_math_2017**|int64|SAT|State average SAT Math score in 2017|\n",
    "|**sat_total_2017**|int64|SAT|State average SAT Total score in 2017|\n",
    "|**act_part_2017**|int64|ACT|State ACT participation rate (%) in 2017|\n",
    "|**act_eng_2017**|float64|ACT|State average ACT English score in 2017|\n",
    "|**act_math_2017**|float64|ACT|State average ACT Math score in 2017|\n",
    "|**act_read_2017**|float64|ACT|State average ACT Reading score in 2017|\n",
    "|**act_sci_2017**|float64|ACT|State average ACT Science score in 2017|\n",
    "|**act_comp_2017**|float64|ACT|State average ACT Composite score in 2017|\n"
   ]
  },
  {
   "cell_type": "markdown",
   "metadata": {},
   "source": [
    "### 9. Drop unnecessary rows\n",
    "\n",
    "One of our dataframes contains an extra row. Identify and remove this from the dataframe."
   ]
  },
  {
   "cell_type": "code",
   "execution_count": 25,
   "metadata": {},
   "outputs": [
    {
     "data": {
      "text/html": [
       "<div>\n",
       "<style scoped>\n",
       "    .dataframe tbody tr th:only-of-type {\n",
       "        vertical-align: middle;\n",
       "    }\n",
       "\n",
       "    .dataframe tbody tr th {\n",
       "        vertical-align: top;\n",
       "    }\n",
       "\n",
       "    .dataframe thead th {\n",
       "        text-align: right;\n",
       "    }\n",
       "</style>\n",
       "<table border=\"1\" class=\"dataframe\">\n",
       "  <thead>\n",
       "    <tr style=\"text-align: right;\">\n",
       "      <th></th>\n",
       "      <th>state</th>\n",
       "      <th>act_part_2017</th>\n",
       "      <th>act_eng_2017</th>\n",
       "      <th>act_math_2017</th>\n",
       "      <th>act_read_2017</th>\n",
       "      <th>act_sci_2017</th>\n",
       "      <th>act_comp_2017</th>\n",
       "    </tr>\n",
       "  </thead>\n",
       "  <tbody>\n",
       "    <tr>\n",
       "      <th>1</th>\n",
       "      <td>Alabama</td>\n",
       "      <td>100</td>\n",
       "      <td>18.9</td>\n",
       "      <td>18.4</td>\n",
       "      <td>19.7</td>\n",
       "      <td>19.4</td>\n",
       "      <td>19.2</td>\n",
       "    </tr>\n",
       "    <tr>\n",
       "      <th>2</th>\n",
       "      <td>Alaska</td>\n",
       "      <td>65</td>\n",
       "      <td>18.7</td>\n",
       "      <td>19.8</td>\n",
       "      <td>20.4</td>\n",
       "      <td>19.9</td>\n",
       "      <td>19.8</td>\n",
       "    </tr>\n",
       "    <tr>\n",
       "      <th>3</th>\n",
       "      <td>Arizona</td>\n",
       "      <td>62</td>\n",
       "      <td>18.6</td>\n",
       "      <td>19.8</td>\n",
       "      <td>20.1</td>\n",
       "      <td>19.8</td>\n",
       "      <td>19.7</td>\n",
       "    </tr>\n",
       "    <tr>\n",
       "      <th>4</th>\n",
       "      <td>Arkansas</td>\n",
       "      <td>100</td>\n",
       "      <td>18.9</td>\n",
       "      <td>19.0</td>\n",
       "      <td>19.7</td>\n",
       "      <td>19.5</td>\n",
       "      <td>19.4</td>\n",
       "    </tr>\n",
       "    <tr>\n",
       "      <th>5</th>\n",
       "      <td>California</td>\n",
       "      <td>31</td>\n",
       "      <td>22.5</td>\n",
       "      <td>22.7</td>\n",
       "      <td>23.1</td>\n",
       "      <td>22.2</td>\n",
       "      <td>22.8</td>\n",
       "    </tr>\n",
       "  </tbody>\n",
       "</table>\n",
       "</div>"
      ],
      "text/plain": [
       "        state  act_part_2017  act_eng_2017  act_math_2017  act_read_2017  \\\n",
       "1     Alabama            100          18.9           18.4           19.7   \n",
       "2      Alaska             65          18.7           19.8           20.4   \n",
       "3     Arizona             62          18.6           19.8           20.1   \n",
       "4    Arkansas            100          18.9           19.0           19.7   \n",
       "5  California             31          22.5           22.7           23.1   \n",
       "\n",
       "   act_sci_2017  act_comp_2017  \n",
       "1          19.4           19.2  \n",
       "2          19.9           19.8  \n",
       "3          19.8           19.7  \n",
       "4          19.5           19.4  \n",
       "5          22.2           22.8  "
      ]
     },
     "execution_count": 25,
     "metadata": {},
     "output_type": "execute_result"
    }
   ],
   "source": [
    "#Removing the first row of the ACT 2017 dataset, which refers to the \"National\" ACT scores.\n",
    "df_act2017.drop(0, inplace = True)\n",
    "df_act2017.head()"
   ]
  },
  {
   "cell_type": "markdown",
   "metadata": {},
   "source": [
    "### 10. Merge Dataframes\n",
    "\n",
    "Join the 2017 ACT and SAT dataframes using the state in each dataframe as the key. Assign this to a new variable."
   ]
  },
  {
   "cell_type": "code",
   "execution_count": 26,
   "metadata": {},
   "outputs": [],
   "source": [
    "#Combining the 2017 ACT and SAT dataframes using \"state\" as the key combined_2017.to_csv('../data/combined_2017.csv')\n",
    "\n",
    "combined_2017 = pd.merge(df_sat2017, df_act2017, on = \"state\")"
   ]
  },
  {
   "cell_type": "code",
   "execution_count": 27,
   "metadata": {},
   "outputs": [
    {
     "data": {
      "text/html": [
       "<div>\n",
       "<style scoped>\n",
       "    .dataframe tbody tr th:only-of-type {\n",
       "        vertical-align: middle;\n",
       "    }\n",
       "\n",
       "    .dataframe tbody tr th {\n",
       "        vertical-align: top;\n",
       "    }\n",
       "\n",
       "    .dataframe thead th {\n",
       "        text-align: right;\n",
       "    }\n",
       "</style>\n",
       "<table border=\"1\" class=\"dataframe\">\n",
       "  <thead>\n",
       "    <tr style=\"text-align: right;\">\n",
       "      <th></th>\n",
       "      <th>state</th>\n",
       "      <th>sat_part_2017</th>\n",
       "      <th>sat_ebrw_2017</th>\n",
       "      <th>sat_math_2017</th>\n",
       "      <th>sat_total_2017</th>\n",
       "      <th>act_part_2017</th>\n",
       "      <th>act_eng_2017</th>\n",
       "      <th>act_math_2017</th>\n",
       "      <th>act_read_2017</th>\n",
       "      <th>act_sci_2017</th>\n",
       "      <th>act_comp_2017</th>\n",
       "    </tr>\n",
       "  </thead>\n",
       "  <tbody>\n",
       "    <tr>\n",
       "      <th>0</th>\n",
       "      <td>Alabama</td>\n",
       "      <td>5</td>\n",
       "      <td>593</td>\n",
       "      <td>572</td>\n",
       "      <td>1165</td>\n",
       "      <td>100</td>\n",
       "      <td>18.9</td>\n",
       "      <td>18.4</td>\n",
       "      <td>19.7</td>\n",
       "      <td>19.4</td>\n",
       "      <td>19.2</td>\n",
       "    </tr>\n",
       "    <tr>\n",
       "      <th>1</th>\n",
       "      <td>Alaska</td>\n",
       "      <td>38</td>\n",
       "      <td>547</td>\n",
       "      <td>533</td>\n",
       "      <td>1080</td>\n",
       "      <td>65</td>\n",
       "      <td>18.7</td>\n",
       "      <td>19.8</td>\n",
       "      <td>20.4</td>\n",
       "      <td>19.9</td>\n",
       "      <td>19.8</td>\n",
       "    </tr>\n",
       "    <tr>\n",
       "      <th>2</th>\n",
       "      <td>Arizona</td>\n",
       "      <td>30</td>\n",
       "      <td>563</td>\n",
       "      <td>553</td>\n",
       "      <td>1116</td>\n",
       "      <td>62</td>\n",
       "      <td>18.6</td>\n",
       "      <td>19.8</td>\n",
       "      <td>20.1</td>\n",
       "      <td>19.8</td>\n",
       "      <td>19.7</td>\n",
       "    </tr>\n",
       "    <tr>\n",
       "      <th>3</th>\n",
       "      <td>Arkansas</td>\n",
       "      <td>3</td>\n",
       "      <td>614</td>\n",
       "      <td>594</td>\n",
       "      <td>1208</td>\n",
       "      <td>100</td>\n",
       "      <td>18.9</td>\n",
       "      <td>19.0</td>\n",
       "      <td>19.7</td>\n",
       "      <td>19.5</td>\n",
       "      <td>19.4</td>\n",
       "    </tr>\n",
       "    <tr>\n",
       "      <th>4</th>\n",
       "      <td>California</td>\n",
       "      <td>53</td>\n",
       "      <td>531</td>\n",
       "      <td>524</td>\n",
       "      <td>1055</td>\n",
       "      <td>31</td>\n",
       "      <td>22.5</td>\n",
       "      <td>22.7</td>\n",
       "      <td>23.1</td>\n",
       "      <td>22.2</td>\n",
       "      <td>22.8</td>\n",
       "    </tr>\n",
       "  </tbody>\n",
       "</table>\n",
       "</div>"
      ],
      "text/plain": [
       "        state  sat_part_2017  sat_ebrw_2017  sat_math_2017  sat_total_2017  \\\n",
       "0     Alabama              5            593            572            1165   \n",
       "1      Alaska             38            547            533            1080   \n",
       "2     Arizona             30            563            553            1116   \n",
       "3    Arkansas              3            614            594            1208   \n",
       "4  California             53            531            524            1055   \n",
       "\n",
       "   act_part_2017  act_eng_2017  act_math_2017  act_read_2017  act_sci_2017  \\\n",
       "0            100          18.9           18.4           19.7          19.4   \n",
       "1             65          18.7           19.8           20.4          19.9   \n",
       "2             62          18.6           19.8           20.1          19.8   \n",
       "3            100          18.9           19.0           19.7          19.5   \n",
       "4             31          22.5           22.7           23.1          22.2   \n",
       "\n",
       "   act_comp_2017  \n",
       "0           19.2  \n",
       "1           19.8  \n",
       "2           19.7  \n",
       "3           19.4  \n",
       "4           22.8  "
      ]
     },
     "execution_count": 27,
     "metadata": {},
     "output_type": "execute_result"
    }
   ],
   "source": [
    "combined_2017.head()"
   ]
  },
  {
   "cell_type": "markdown",
   "metadata": {},
   "source": [
    "### 11. Save your cleaned, merged dataframe\n",
    "\n",
    "Use a relative path to save out your data as `combined_2017.csv`."
   ]
  },
  {
   "cell_type": "code",
   "execution_count": 29,
   "metadata": {},
   "outputs": [],
   "source": [
    "combined_2017.to_csv('./data/combined_2017.csv')"
   ]
  },
  {
   "cell_type": "markdown",
   "metadata": {},
   "source": [
    " "
   ]
  },
  {
   "cell_type": "markdown",
   "metadata": {},
   "source": [
    " "
   ]
  },
  {
   "cell_type": "markdown",
   "metadata": {},
   "source": [
    "# 2018 Data Import and Cleaning"
   ]
  },
  {
   "cell_type": "markdown",
   "metadata": {},
   "source": [
    "Links to the 2018 ACT and SAT data are provided in the README. These data live in PDFs, and so you'll get to enjoy practicing some *manual* data collection. Save these data as a CSV in your `data` directory, and import, explore, and clean these data in the same way you did above. **Make sure you comment on your steps so it is clear *why* you are doing each process**."
   ]
  },
  {
   "cell_type": "code",
   "execution_count": 34,
   "metadata": {},
   "outputs": [],
   "source": [
    "#Importing the 2018 ACT and SAT datasets from CSV.\n",
    "\n",
    "df_sat2018 = pd.read_csv(\"./data/sat_2018.csv\")\n",
    "df_act2018 = pd.read_csv(\"./data/act_2018.csv\")"
   ]
  },
  {
   "cell_type": "code",
   "execution_count": 35,
   "metadata": {},
   "outputs": [
    {
     "data": {
      "text/plain": [
       "State             object\n",
       "Participation     object\n",
       "Composite        float64\n",
       "dtype: object"
      ]
     },
     "execution_count": 35,
     "metadata": {},
     "output_type": "execute_result"
    }
   ],
   "source": [
    "#Displaying and checking the dtypes for the ACT and SAT 2018 results.\n",
    "df_act2018.dtypes   # ACT 2018"
   ]
  },
  {
   "cell_type": "code",
   "execution_count": 36,
   "metadata": {},
   "outputs": [
    {
     "data": {
      "text/plain": [
       "State                                 object\n",
       "Participation                         object\n",
       "Evidence-Based Reading and Writing     int64\n",
       "Math                                   int64\n",
       "Total                                  int64\n",
       "dtype: object"
      ]
     },
     "execution_count": 36,
     "metadata": {},
     "output_type": "execute_result"
    }
   ],
   "source": [
    "df_sat2018.dtypes   # SAT 2018"
   ]
  },
  {
   "cell_type": "code",
   "execution_count": 37,
   "metadata": {},
   "outputs": [
    {
     "name": "stdout",
     "output_type": "stream",
     "text": [
      "<class 'pandas.core.frame.DataFrame'>\n",
      "RangeIndex: 52 entries, 0 to 51\n",
      "Data columns (total 3 columns):\n",
      "State            52 non-null object\n",
      "Participation    52 non-null object\n",
      "Composite        52 non-null float64\n",
      "dtypes: float64(1), object(2)\n",
      "memory usage: 1.3+ KB\n"
     ]
    }
   ],
   "source": [
    "#Checking for missing values in the 2018 datasets\n",
    "df_act2018.info()   # ACT 2018"
   ]
  },
  {
   "cell_type": "code",
   "execution_count": 38,
   "metadata": {},
   "outputs": [
    {
     "name": "stdout",
     "output_type": "stream",
     "text": [
      "<class 'pandas.core.frame.DataFrame'>\n",
      "RangeIndex: 51 entries, 0 to 50\n",
      "Data columns (total 5 columns):\n",
      "State                                 51 non-null object\n",
      "Participation                         51 non-null object\n",
      "Evidence-Based Reading and Writing    51 non-null int64\n",
      "Math                                  51 non-null int64\n",
      "Total                                 51 non-null int64\n",
      "dtypes: int64(3), object(2)\n",
      "memory usage: 2.1+ KB\n"
     ]
    }
   ],
   "source": [
    "df_sat2018.info()   # SAT 2018"
   ]
  },
  {
   "cell_type": "code",
   "execution_count": 39,
   "metadata": {},
   "outputs": [
    {
     "data": {
      "text/html": [
       "<div>\n",
       "<style scoped>\n",
       "    .dataframe tbody tr th:only-of-type {\n",
       "        vertical-align: middle;\n",
       "    }\n",
       "\n",
       "    .dataframe tbody tr th {\n",
       "        vertical-align: top;\n",
       "    }\n",
       "\n",
       "    .dataframe thead th {\n",
       "        text-align: right;\n",
       "    }\n",
       "</style>\n",
       "<table border=\"1\" class=\"dataframe\">\n",
       "  <thead>\n",
       "    <tr style=\"text-align: right;\">\n",
       "      <th></th>\n",
       "      <th>count</th>\n",
       "      <th>mean</th>\n",
       "      <th>std</th>\n",
       "      <th>min</th>\n",
       "      <th>25%</th>\n",
       "      <th>50%</th>\n",
       "      <th>75%</th>\n",
       "      <th>max</th>\n",
       "    </tr>\n",
       "  </thead>\n",
       "  <tbody>\n",
       "    <tr>\n",
       "      <th>Composite</th>\n",
       "      <td>52.0</td>\n",
       "      <td>21.544231</td>\n",
       "      <td>2.119417</td>\n",
       "      <td>17.7</td>\n",
       "      <td>19.975</td>\n",
       "      <td>21.3</td>\n",
       "      <td>23.725</td>\n",
       "      <td>25.6</td>\n",
       "    </tr>\n",
       "  </tbody>\n",
       "</table>\n",
       "</div>"
      ],
      "text/plain": [
       "           count       mean       std   min     25%   50%     75%   max\n",
       "Composite   52.0  21.544231  2.119417  17.7  19.975  21.3  23.725  25.6"
      ]
     },
     "execution_count": 39,
     "metadata": {},
     "output_type": "execute_result"
    }
   ],
   "source": [
    "#Checking for correct max-min values\n",
    "df_act2018.describe().T   # ACT 2018"
   ]
  },
  {
   "cell_type": "code",
   "execution_count": 40,
   "metadata": {},
   "outputs": [
    {
     "data": {
      "text/html": [
       "<div>\n",
       "<style scoped>\n",
       "    .dataframe tbody tr th:only-of-type {\n",
       "        vertical-align: middle;\n",
       "    }\n",
       "\n",
       "    .dataframe tbody tr th {\n",
       "        vertical-align: top;\n",
       "    }\n",
       "\n",
       "    .dataframe thead th {\n",
       "        text-align: right;\n",
       "    }\n",
       "</style>\n",
       "<table border=\"1\" class=\"dataframe\">\n",
       "  <thead>\n",
       "    <tr style=\"text-align: right;\">\n",
       "      <th></th>\n",
       "      <th>count</th>\n",
       "      <th>mean</th>\n",
       "      <th>std</th>\n",
       "      <th>min</th>\n",
       "      <th>25%</th>\n",
       "      <th>50%</th>\n",
       "      <th>75%</th>\n",
       "      <th>max</th>\n",
       "    </tr>\n",
       "  </thead>\n",
       "  <tbody>\n",
       "    <tr>\n",
       "      <th>Evidence-Based Reading and Writing</th>\n",
       "      <td>51.0</td>\n",
       "      <td>563.686275</td>\n",
       "      <td>47.502627</td>\n",
       "      <td>480.0</td>\n",
       "      <td>534.5</td>\n",
       "      <td>552.0</td>\n",
       "      <td>610.5</td>\n",
       "      <td>643.0</td>\n",
       "    </tr>\n",
       "    <tr>\n",
       "      <th>Math</th>\n",
       "      <td>51.0</td>\n",
       "      <td>556.235294</td>\n",
       "      <td>47.772623</td>\n",
       "      <td>480.0</td>\n",
       "      <td>522.5</td>\n",
       "      <td>544.0</td>\n",
       "      <td>593.5</td>\n",
       "      <td>655.0</td>\n",
       "    </tr>\n",
       "    <tr>\n",
       "      <th>Total</th>\n",
       "      <td>51.0</td>\n",
       "      <td>1120.019608</td>\n",
       "      <td>94.155083</td>\n",
       "      <td>977.0</td>\n",
       "      <td>1057.5</td>\n",
       "      <td>1098.0</td>\n",
       "      <td>1204.0</td>\n",
       "      <td>1298.0</td>\n",
       "    </tr>\n",
       "  </tbody>\n",
       "</table>\n",
       "</div>"
      ],
      "text/plain": [
       "                                    count         mean        std    min  \\\n",
       "Evidence-Based Reading and Writing   51.0   563.686275  47.502627  480.0   \n",
       "Math                                 51.0   556.235294  47.772623  480.0   \n",
       "Total                                51.0  1120.019608  94.155083  977.0   \n",
       "\n",
       "                                       25%     50%     75%     max  \n",
       "Evidence-Based Reading and Writing   534.5   552.0   610.5   643.0  \n",
       "Math                                 522.5   544.0   593.5   655.0  \n",
       "Total                               1057.5  1098.0  1204.0  1298.0  "
      ]
     },
     "execution_count": 40,
     "metadata": {},
     "output_type": "execute_result"
    }
   ],
   "source": [
    "df_sat2018.describe().T  # SAT 2018"
   ]
  },
  {
   "cell_type": "markdown",
   "metadata": {},
   "source": [
    "### <span style=\"color:red\">Answer:</span>\n",
    "\n",
    "1) There are no missing values within the datasets, however, the number of \"State\" rows between the SAT and ACT 2018 scores are not similar (51 vs 52). Manual inspection revealed a duplicate ACT row from the state of Maine. This duplicate value has to be removed.\n",
    "\n",
    "2) Manual curation of the 2018 SAT data from the College Board's published website revealed two errors in the state's SAT participation rates. These are the states of Florida (true value: 97%) and Indiana (true value: 67%). These values have to be corrected.\n",
    "\n",
    "3) The 2018 ACT and SAT \"Participation\" column is an object datatype. To allow for the merging of the 2017/2018 data, this \"Participation\" column has to be converted to a \"float64\" datatype."
   ]
  },
  {
   "cell_type": "markdown",
   "metadata": {},
   "source": [
    "### <span style=\"color:red\">Correcting error #1: Removing duplicate entries</span>"
   ]
  },
  {
   "cell_type": "code",
   "execution_count": 41,
   "metadata": {},
   "outputs": [
    {
     "data": {
      "text/html": [
       "<div>\n",
       "<style scoped>\n",
       "    .dataframe tbody tr th:only-of-type {\n",
       "        vertical-align: middle;\n",
       "    }\n",
       "\n",
       "    .dataframe tbody tr th {\n",
       "        vertical-align: top;\n",
       "    }\n",
       "\n",
       "    .dataframe thead th {\n",
       "        text-align: right;\n",
       "    }\n",
       "</style>\n",
       "<table border=\"1\" class=\"dataframe\">\n",
       "  <thead>\n",
       "    <tr style=\"text-align: right;\">\n",
       "      <th></th>\n",
       "      <th>State</th>\n",
       "      <th>Participation</th>\n",
       "      <th>Composite</th>\n",
       "    </tr>\n",
       "  </thead>\n",
       "  <tbody>\n",
       "    <tr>\n",
       "      <th>19</th>\n",
       "      <td>Maine</td>\n",
       "      <td>7%</td>\n",
       "      <td>24.0</td>\n",
       "    </tr>\n",
       "    <tr>\n",
       "      <th>20</th>\n",
       "      <td>Maine</td>\n",
       "      <td>7%</td>\n",
       "      <td>24.0</td>\n",
       "    </tr>\n",
       "  </tbody>\n",
       "</table>\n",
       "</div>"
      ],
      "text/plain": [
       "    State Participation  Composite\n",
       "19  Maine            7%       24.0\n",
       "20  Maine            7%       24.0"
      ]
     },
     "execution_count": 41,
     "metadata": {},
     "output_type": "execute_result"
    }
   ],
   "source": [
    "# Removing duplicate rows\n",
    "df_act2018[df_act2018[\"State\"] == \"Maine\"]"
   ]
  },
  {
   "cell_type": "code",
   "execution_count": 42,
   "metadata": {},
   "outputs": [
    {
     "name": "stdout",
     "output_type": "stream",
     "text": [
      "<class 'pandas.core.frame.DataFrame'>\n",
      "Int64Index: 51 entries, 0 to 51\n",
      "Data columns (total 3 columns):\n",
      "State            51 non-null object\n",
      "Participation    51 non-null object\n",
      "Composite        51 non-null float64\n",
      "dtypes: float64(1), object(2)\n",
      "memory usage: 1.6+ KB\n"
     ]
    }
   ],
   "source": [
    "# Removing the duplicate \"Maine\" rows\n",
    "df_act2018.drop(19, inplace = True)\n",
    "df_act2018.info()"
   ]
  },
  {
   "cell_type": "markdown",
   "metadata": {},
   "source": [
    "### <span style=\"color:red\">Correcting error #2: Replacing wrong SAT participation values</span>"
   ]
  },
  {
   "cell_type": "code",
   "execution_count": 43,
   "metadata": {},
   "outputs": [],
   "source": [
    "df_sat2018.loc[9, \"Participation\"] = \"97%\"  # Correcting for Florida (row index is 9)\n",
    "df_sat2018.loc[14, \"Participation\"] = \"67%\" # Correcting for Indiana (row index is 14)"
   ]
  },
  {
   "cell_type": "code",
   "execution_count": 44,
   "metadata": {},
   "outputs": [
    {
     "data": {
      "text/plain": [
       "State                                 Florida\n",
       "Participation                             97%\n",
       "Evidence-Based Reading and Writing        550\n",
       "Math                                      549\n",
       "Total                                    1099\n",
       "Name: 9, dtype: object"
      ]
     },
     "execution_count": 44,
     "metadata": {},
     "output_type": "execute_result"
    }
   ],
   "source": [
    "df_sat2018.loc[9]    # The participation value is now correct"
   ]
  },
  {
   "cell_type": "code",
   "execution_count": 45,
   "metadata": {},
   "outputs": [
    {
     "data": {
      "text/plain": [
       "State                                 Indiana\n",
       "Participation                             67%\n",
       "Evidence-Based Reading and Writing        542\n",
       "Math                                      532\n",
       "Total                                    1074\n",
       "Name: 14, dtype: object"
      ]
     },
     "execution_count": 45,
     "metadata": {},
     "output_type": "execute_result"
    }
   ],
   "source": [
    "df_sat2018.loc[14]    # The participation value is now correct"
   ]
  },
  {
   "cell_type": "markdown",
   "metadata": {},
   "source": [
    "### <span style=\"color:red\">Correcting error #3: Changing object to int64 datatype</span>"
   ]
  },
  {
   "cell_type": "code",
   "execution_count": 46,
   "metadata": {},
   "outputs": [],
   "source": [
    "# Removing the \"%\" symbol and converting the 2018 \"Participation\" column into \"int64\" datatype.\n",
    "df_act2018[\"Participation\"] = df_act2018[\"Participation\"].map(lambda x: int(x.replace(\"%\", \"\")))\n",
    "df_sat2018[\"Participation\"] = df_sat2018[\"Participation\"].map(lambda x: int(x.replace(\"%\", \"\")))"
   ]
  },
  {
   "cell_type": "code",
   "execution_count": 47,
   "metadata": {},
   "outputs": [
    {
     "data": {
      "text/plain": [
       "State             object\n",
       "Participation      int64\n",
       "Composite        float64\n",
       "dtype: object"
      ]
     },
     "execution_count": 47,
     "metadata": {},
     "output_type": "execute_result"
    }
   ],
   "source": [
    "df_act2018.dtypes"
   ]
  },
  {
   "cell_type": "markdown",
   "metadata": {},
   "source": [
    "### <span style=\"color:red\">Correcting error #4: Changing the column names for merging</span>"
   ]
  },
  {
   "cell_type": "code",
   "execution_count": 48,
   "metadata": {},
   "outputs": [],
   "source": [
    "#Changing the column names\n",
    "df_sat2018.columns = [\"state\", \"sat_part_2018\", \"sat_ebrw_2018\", \"sat_math_2018\", \"sat_total_2018\"]\n",
    "df_act2018.columns = [\"state\", \"act_part_2018\", \"act_comp_2018\"]"
   ]
  },
  {
   "cell_type": "code",
   "execution_count": 49,
   "metadata": {},
   "outputs": [],
   "source": [
    "#Combining the 2018 ACT and SAT dataframes using \"state\" as the key combined_2018.to_csv('../data/combined_2018.csv')\n",
    "combined_2018 = pd.merge(df_sat2018, df_act2018, on = \"state\")"
   ]
  },
  {
   "cell_type": "code",
   "execution_count": 50,
   "metadata": {},
   "outputs": [
    {
     "data": {
      "text/html": [
       "<div>\n",
       "<style scoped>\n",
       "    .dataframe tbody tr th:only-of-type {\n",
       "        vertical-align: middle;\n",
       "    }\n",
       "\n",
       "    .dataframe tbody tr th {\n",
       "        vertical-align: top;\n",
       "    }\n",
       "\n",
       "    .dataframe thead th {\n",
       "        text-align: right;\n",
       "    }\n",
       "</style>\n",
       "<table border=\"1\" class=\"dataframe\">\n",
       "  <thead>\n",
       "    <tr style=\"text-align: right;\">\n",
       "      <th></th>\n",
       "      <th>state</th>\n",
       "      <th>sat_part_2018</th>\n",
       "      <th>sat_ebrw_2018</th>\n",
       "      <th>sat_math_2018</th>\n",
       "      <th>sat_total_2018</th>\n",
       "      <th>act_part_2018</th>\n",
       "      <th>act_comp_2018</th>\n",
       "    </tr>\n",
       "  </thead>\n",
       "  <tbody>\n",
       "    <tr>\n",
       "      <th>0</th>\n",
       "      <td>Alabama</td>\n",
       "      <td>6</td>\n",
       "      <td>595</td>\n",
       "      <td>571</td>\n",
       "      <td>1166</td>\n",
       "      <td>100</td>\n",
       "      <td>19.1</td>\n",
       "    </tr>\n",
       "    <tr>\n",
       "      <th>1</th>\n",
       "      <td>Alaska</td>\n",
       "      <td>43</td>\n",
       "      <td>562</td>\n",
       "      <td>544</td>\n",
       "      <td>1106</td>\n",
       "      <td>33</td>\n",
       "      <td>20.8</td>\n",
       "    </tr>\n",
       "    <tr>\n",
       "      <th>2</th>\n",
       "      <td>Arizona</td>\n",
       "      <td>29</td>\n",
       "      <td>577</td>\n",
       "      <td>572</td>\n",
       "      <td>1149</td>\n",
       "      <td>66</td>\n",
       "      <td>19.2</td>\n",
       "    </tr>\n",
       "    <tr>\n",
       "      <th>3</th>\n",
       "      <td>Arkansas</td>\n",
       "      <td>5</td>\n",
       "      <td>592</td>\n",
       "      <td>576</td>\n",
       "      <td>1169</td>\n",
       "      <td>100</td>\n",
       "      <td>19.4</td>\n",
       "    </tr>\n",
       "    <tr>\n",
       "      <th>4</th>\n",
       "      <td>California</td>\n",
       "      <td>60</td>\n",
       "      <td>540</td>\n",
       "      <td>536</td>\n",
       "      <td>1076</td>\n",
       "      <td>27</td>\n",
       "      <td>22.7</td>\n",
       "    </tr>\n",
       "  </tbody>\n",
       "</table>\n",
       "</div>"
      ],
      "text/plain": [
       "        state  sat_part_2018  sat_ebrw_2018  sat_math_2018  sat_total_2018  \\\n",
       "0     Alabama              6            595            571            1166   \n",
       "1      Alaska             43            562            544            1106   \n",
       "2     Arizona             29            577            572            1149   \n",
       "3    Arkansas              5            592            576            1169   \n",
       "4  California             60            540            536            1076   \n",
       "\n",
       "   act_part_2018  act_comp_2018  \n",
       "0            100           19.1  \n",
       "1             33           20.8  \n",
       "2             66           19.2  \n",
       "3            100           19.4  \n",
       "4             27           22.7  "
      ]
     },
     "execution_count": 50,
     "metadata": {},
     "output_type": "execute_result"
    }
   ],
   "source": [
    "combined_2018.head()"
   ]
  },
  {
   "cell_type": "code",
   "execution_count": 53,
   "metadata": {},
   "outputs": [],
   "source": [
    "combined_2018.to_csv('./data/combined_2018.csv')"
   ]
  },
  {
   "cell_type": "markdown",
   "metadata": {},
   "source": [
    "### Combine your 2017 and 2018 data into a single dataframe\n",
    "Joining on state names should work, assuming you formatted all your state names identically. Make sure none of your columns (other than state) have identical names. Do yourself a favor and decide if you're encoding participation rates as floats or integers and standardize this across your datasets.\n",
    "\n",
    "Save the contents of this merged dataframe as `final.csv`.\n",
    "\n",
    "**Use this combined dataframe for the remainder of the project**."
   ]
  },
  {
   "cell_type": "code",
   "execution_count": 54,
   "metadata": {},
   "outputs": [],
   "source": [
    "# Combining the full 2017 and full 2018 ACT/SAT dataframes\n",
    "\n",
    "final = pd.merge(combined_2017, combined_2018, on = \"state\")"
   ]
  },
  {
   "cell_type": "code",
   "execution_count": 55,
   "metadata": {},
   "outputs": [],
   "source": [
    "# Setting the state as the dataframe index\n",
    "\n",
    "final = final.set_index(\"state\")"
   ]
  },
  {
   "cell_type": "code",
   "execution_count": 56,
   "metadata": {},
   "outputs": [
    {
     "data": {
      "text/html": [
       "<div>\n",
       "<style scoped>\n",
       "    .dataframe tbody tr th:only-of-type {\n",
       "        vertical-align: middle;\n",
       "    }\n",
       "\n",
       "    .dataframe tbody tr th {\n",
       "        vertical-align: top;\n",
       "    }\n",
       "\n",
       "    .dataframe thead th {\n",
       "        text-align: right;\n",
       "    }\n",
       "</style>\n",
       "<table border=\"1\" class=\"dataframe\">\n",
       "  <thead>\n",
       "    <tr style=\"text-align: right;\">\n",
       "      <th></th>\n",
       "      <th>sat_part_2017</th>\n",
       "      <th>sat_ebrw_2017</th>\n",
       "      <th>sat_math_2017</th>\n",
       "      <th>sat_total_2017</th>\n",
       "      <th>act_part_2017</th>\n",
       "      <th>act_eng_2017</th>\n",
       "      <th>act_math_2017</th>\n",
       "      <th>act_read_2017</th>\n",
       "      <th>act_sci_2017</th>\n",
       "      <th>act_comp_2017</th>\n",
       "      <th>sat_part_2018</th>\n",
       "      <th>sat_ebrw_2018</th>\n",
       "      <th>sat_math_2018</th>\n",
       "      <th>sat_total_2018</th>\n",
       "      <th>act_part_2018</th>\n",
       "      <th>act_comp_2018</th>\n",
       "    </tr>\n",
       "    <tr>\n",
       "      <th>state</th>\n",
       "      <th></th>\n",
       "      <th></th>\n",
       "      <th></th>\n",
       "      <th></th>\n",
       "      <th></th>\n",
       "      <th></th>\n",
       "      <th></th>\n",
       "      <th></th>\n",
       "      <th></th>\n",
       "      <th></th>\n",
       "      <th></th>\n",
       "      <th></th>\n",
       "      <th></th>\n",
       "      <th></th>\n",
       "      <th></th>\n",
       "      <th></th>\n",
       "    </tr>\n",
       "  </thead>\n",
       "  <tbody>\n",
       "    <tr>\n",
       "      <th>Alabama</th>\n",
       "      <td>5</td>\n",
       "      <td>593</td>\n",
       "      <td>572</td>\n",
       "      <td>1165</td>\n",
       "      <td>100</td>\n",
       "      <td>18.9</td>\n",
       "      <td>18.4</td>\n",
       "      <td>19.7</td>\n",
       "      <td>19.4</td>\n",
       "      <td>19.2</td>\n",
       "      <td>6</td>\n",
       "      <td>595</td>\n",
       "      <td>571</td>\n",
       "      <td>1166</td>\n",
       "      <td>100</td>\n",
       "      <td>19.1</td>\n",
       "    </tr>\n",
       "    <tr>\n",
       "      <th>Alaska</th>\n",
       "      <td>38</td>\n",
       "      <td>547</td>\n",
       "      <td>533</td>\n",
       "      <td>1080</td>\n",
       "      <td>65</td>\n",
       "      <td>18.7</td>\n",
       "      <td>19.8</td>\n",
       "      <td>20.4</td>\n",
       "      <td>19.9</td>\n",
       "      <td>19.8</td>\n",
       "      <td>43</td>\n",
       "      <td>562</td>\n",
       "      <td>544</td>\n",
       "      <td>1106</td>\n",
       "      <td>33</td>\n",
       "      <td>20.8</td>\n",
       "    </tr>\n",
       "    <tr>\n",
       "      <th>Arizona</th>\n",
       "      <td>30</td>\n",
       "      <td>563</td>\n",
       "      <td>553</td>\n",
       "      <td>1116</td>\n",
       "      <td>62</td>\n",
       "      <td>18.6</td>\n",
       "      <td>19.8</td>\n",
       "      <td>20.1</td>\n",
       "      <td>19.8</td>\n",
       "      <td>19.7</td>\n",
       "      <td>29</td>\n",
       "      <td>577</td>\n",
       "      <td>572</td>\n",
       "      <td>1149</td>\n",
       "      <td>66</td>\n",
       "      <td>19.2</td>\n",
       "    </tr>\n",
       "    <tr>\n",
       "      <th>Arkansas</th>\n",
       "      <td>3</td>\n",
       "      <td>614</td>\n",
       "      <td>594</td>\n",
       "      <td>1208</td>\n",
       "      <td>100</td>\n",
       "      <td>18.9</td>\n",
       "      <td>19.0</td>\n",
       "      <td>19.7</td>\n",
       "      <td>19.5</td>\n",
       "      <td>19.4</td>\n",
       "      <td>5</td>\n",
       "      <td>592</td>\n",
       "      <td>576</td>\n",
       "      <td>1169</td>\n",
       "      <td>100</td>\n",
       "      <td>19.4</td>\n",
       "    </tr>\n",
       "    <tr>\n",
       "      <th>California</th>\n",
       "      <td>53</td>\n",
       "      <td>531</td>\n",
       "      <td>524</td>\n",
       "      <td>1055</td>\n",
       "      <td>31</td>\n",
       "      <td>22.5</td>\n",
       "      <td>22.7</td>\n",
       "      <td>23.1</td>\n",
       "      <td>22.2</td>\n",
       "      <td>22.8</td>\n",
       "      <td>60</td>\n",
       "      <td>540</td>\n",
       "      <td>536</td>\n",
       "      <td>1076</td>\n",
       "      <td>27</td>\n",
       "      <td>22.7</td>\n",
       "    </tr>\n",
       "  </tbody>\n",
       "</table>\n",
       "</div>"
      ],
      "text/plain": [
       "            sat_part_2017  sat_ebrw_2017  sat_math_2017  sat_total_2017  \\\n",
       "state                                                                     \n",
       "Alabama                 5            593            572            1165   \n",
       "Alaska                 38            547            533            1080   \n",
       "Arizona                30            563            553            1116   \n",
       "Arkansas                3            614            594            1208   \n",
       "California             53            531            524            1055   \n",
       "\n",
       "            act_part_2017  act_eng_2017  act_math_2017  act_read_2017  \\\n",
       "state                                                                   \n",
       "Alabama               100          18.9           18.4           19.7   \n",
       "Alaska                 65          18.7           19.8           20.4   \n",
       "Arizona                62          18.6           19.8           20.1   \n",
       "Arkansas              100          18.9           19.0           19.7   \n",
       "California             31          22.5           22.7           23.1   \n",
       "\n",
       "            act_sci_2017  act_comp_2017  sat_part_2018  sat_ebrw_2018  \\\n",
       "state                                                                   \n",
       "Alabama             19.4           19.2              6            595   \n",
       "Alaska              19.9           19.8             43            562   \n",
       "Arizona             19.8           19.7             29            577   \n",
       "Arkansas            19.5           19.4              5            592   \n",
       "California          22.2           22.8             60            540   \n",
       "\n",
       "            sat_math_2018  sat_total_2018  act_part_2018  act_comp_2018  \n",
       "state                                                                    \n",
       "Alabama               571            1166            100           19.1  \n",
       "Alaska                544            1106             33           20.8  \n",
       "Arizona               572            1149             66           19.2  \n",
       "Arkansas              576            1169            100           19.4  \n",
       "California            536            1076             27           22.7  "
      ]
     },
     "execution_count": 56,
     "metadata": {},
     "output_type": "execute_result"
    }
   ],
   "source": [
    "final.head()"
   ]
  },
  {
   "cell_type": "code",
   "execution_count": 58,
   "metadata": {},
   "outputs": [],
   "source": [
    "final.to_csv('./data/final.csv')"
   ]
  },
  {
   "cell_type": "markdown",
   "metadata": {},
   "source": [
    "### <span style=\"color:red\">Answer: Creating a combined Data Dictionary</span>\n",
    "\n",
    "|Feature|Type|Dataset|Description|\n",
    "|:-------|---|---|---|\n",
    "|**state**|object|ACT/SAT|State name within the USA|\n",
    "|**sat_part_2017**|int64|SAT|State SAT participation rate (%) in 2017|\n",
    "|**sat_ebwr_2017**|int64|SAT|State average SAT EBRW score in 2017|\n",
    "|**sat_math_2017**|int64|SAT|State average SAT Math score in 2017|\n",
    "|**sat_total_2017**|int64|SAT|State average SAT Total score in 2017|\n",
    "|**act_part_2017**|int64|ACT|State ACT participation rate (%) in 2017|\n",
    "|**act_eng_2017**|float64|ACT|State average ACT English score in 2017|\n",
    "|**act_math_2017**|float64|ACT|State average ACT Math score in 2017|\n",
    "|**act_read_2017**|float64|ACT|State average ACT Reading score in 2017|\n",
    "|**act_sci_2017**|float64|ACT|State average ACT Science score in 2017|\n",
    "|**act_comp_2017**|float64|ACT|State average ACT Composite score in 2017|\n",
    "|**sat_part_2018**|int64|SAT|State SAT participation rate (%) in 2018|\n",
    "|**sat_ebwr_2018**|int64|SAT|State average SAT EBRW score in 2018|\n",
    "|**sat_math_2018**|int64|SAT|State average SAT Math score in 2018|\n",
    "|**sat_total_2018**|int64|SAT|State average SAT Total score in 2018|\n",
    "|**act_part_2018**|int64|ACT|State ACT participation rate (%) in 2018|\n",
    "|**act_comp_2018**|float64|ACT|State average ACT Composite score in 2018|"
   ]
  },
  {
   "cell_type": "markdown",
   "metadata": {},
   "source": [
    "## Exploratory Data Analysis\n",
    "\n",
    "\n",
    "### Summary Statistics\n",
    "Transpose the output of pandas `describe` method to create a quick overview of each numeric feature."
   ]
  },
  {
   "cell_type": "code",
   "execution_count": 59,
   "metadata": {},
   "outputs": [
    {
     "data": {
      "text/html": [
       "<div>\n",
       "<style scoped>\n",
       "    .dataframe tbody tr th:only-of-type {\n",
       "        vertical-align: middle;\n",
       "    }\n",
       "\n",
       "    .dataframe tbody tr th {\n",
       "        vertical-align: top;\n",
       "    }\n",
       "\n",
       "    .dataframe thead th {\n",
       "        text-align: right;\n",
       "    }\n",
       "</style>\n",
       "<table border=\"1\" class=\"dataframe\">\n",
       "  <thead>\n",
       "    <tr style=\"text-align: right;\">\n",
       "      <th></th>\n",
       "      <th>count</th>\n",
       "      <th>mean</th>\n",
       "      <th>std</th>\n",
       "      <th>min</th>\n",
       "      <th>25%</th>\n",
       "      <th>50%</th>\n",
       "      <th>75%</th>\n",
       "      <th>max</th>\n",
       "    </tr>\n",
       "  </thead>\n",
       "  <tbody>\n",
       "    <tr>\n",
       "      <th>sat_part_2017</th>\n",
       "      <td>50.0</td>\n",
       "      <td>38.600</td>\n",
       "      <td>34.560211</td>\n",
       "      <td>2.0</td>\n",
       "      <td>4.000</td>\n",
       "      <td>34.00</td>\n",
       "      <td>65.000</td>\n",
       "      <td>100.0</td>\n",
       "    </tr>\n",
       "    <tr>\n",
       "      <th>sat_ebrw_2017</th>\n",
       "      <td>50.0</td>\n",
       "      <td>570.860</td>\n",
       "      <td>44.385146</td>\n",
       "      <td>503.0</td>\n",
       "      <td>535.250</td>\n",
       "      <td>559.50</td>\n",
       "      <td>613.500</td>\n",
       "      <td>644.0</td>\n",
       "    </tr>\n",
       "    <tr>\n",
       "      <th>sat_math_2017</th>\n",
       "      <td>50.0</td>\n",
       "      <td>558.660</td>\n",
       "      <td>45.839832</td>\n",
       "      <td>492.0</td>\n",
       "      <td>524.000</td>\n",
       "      <td>549.50</td>\n",
       "      <td>601.000</td>\n",
       "      <td>651.0</td>\n",
       "    </tr>\n",
       "    <tr>\n",
       "      <th>sat_total_2017</th>\n",
       "      <td>50.0</td>\n",
       "      <td>1129.620</td>\n",
       "      <td>89.913085</td>\n",
       "      <td>996.0</td>\n",
       "      <td>1057.000</td>\n",
       "      <td>1107.50</td>\n",
       "      <td>1214.000</td>\n",
       "      <td>1295.0</td>\n",
       "    </tr>\n",
       "    <tr>\n",
       "      <th>act_part_2017</th>\n",
       "      <td>50.0</td>\n",
       "      <td>65.920</td>\n",
       "      <td>32.110676</td>\n",
       "      <td>8.0</td>\n",
       "      <td>31.000</td>\n",
       "      <td>71.00</td>\n",
       "      <td>100.000</td>\n",
       "      <td>100.0</td>\n",
       "    </tr>\n",
       "    <tr>\n",
       "      <th>act_eng_2017</th>\n",
       "      <td>50.0</td>\n",
       "      <td>20.862</td>\n",
       "      <td>2.324307</td>\n",
       "      <td>16.3</td>\n",
       "      <td>19.000</td>\n",
       "      <td>20.55</td>\n",
       "      <td>23.100</td>\n",
       "      <td>25.5</td>\n",
       "    </tr>\n",
       "    <tr>\n",
       "      <th>act_math_2017</th>\n",
       "      <td>50.0</td>\n",
       "      <td>21.136</td>\n",
       "      <td>1.973990</td>\n",
       "      <td>18.0</td>\n",
       "      <td>19.400</td>\n",
       "      <td>20.90</td>\n",
       "      <td>23.000</td>\n",
       "      <td>25.3</td>\n",
       "    </tr>\n",
       "    <tr>\n",
       "      <th>act_read_2017</th>\n",
       "      <td>50.0</td>\n",
       "      <td>21.956</td>\n",
       "      <td>2.046317</td>\n",
       "      <td>18.1</td>\n",
       "      <td>20.425</td>\n",
       "      <td>21.70</td>\n",
       "      <td>23.875</td>\n",
       "      <td>26.0</td>\n",
       "    </tr>\n",
       "    <tr>\n",
       "      <th>act_sci_2017</th>\n",
       "      <td>50.0</td>\n",
       "      <td>21.410</td>\n",
       "      <td>1.731962</td>\n",
       "      <td>18.2</td>\n",
       "      <td>19.925</td>\n",
       "      <td>21.30</td>\n",
       "      <td>22.975</td>\n",
       "      <td>24.9</td>\n",
       "    </tr>\n",
       "    <tr>\n",
       "      <th>act_comp_2017</th>\n",
       "      <td>50.0</td>\n",
       "      <td>21.466</td>\n",
       "      <td>2.004241</td>\n",
       "      <td>17.8</td>\n",
       "      <td>19.800</td>\n",
       "      <td>21.40</td>\n",
       "      <td>23.400</td>\n",
       "      <td>25.5</td>\n",
       "    </tr>\n",
       "    <tr>\n",
       "      <th>sat_part_2018</th>\n",
       "      <td>50.0</td>\n",
       "      <td>45.720</td>\n",
       "      <td>37.838022</td>\n",
       "      <td>2.0</td>\n",
       "      <td>4.250</td>\n",
       "      <td>50.00</td>\n",
       "      <td>78.250</td>\n",
       "      <td>100.0</td>\n",
       "    </tr>\n",
       "    <tr>\n",
       "      <th>sat_ebrw_2018</th>\n",
       "      <td>50.0</td>\n",
       "      <td>565.020</td>\n",
       "      <td>47.010416</td>\n",
       "      <td>480.0</td>\n",
       "      <td>535.000</td>\n",
       "      <td>552.00</td>\n",
       "      <td>612.750</td>\n",
       "      <td>643.0</td>\n",
       "    </tr>\n",
       "    <tr>\n",
       "      <th>sat_math_2018</th>\n",
       "      <td>50.0</td>\n",
       "      <td>557.760</td>\n",
       "      <td>46.987432</td>\n",
       "      <td>486.0</td>\n",
       "      <td>524.250</td>\n",
       "      <td>545.50</td>\n",
       "      <td>594.250</td>\n",
       "      <td>655.0</td>\n",
       "    </tr>\n",
       "    <tr>\n",
       "      <th>sat_total_2018</th>\n",
       "      <td>50.0</td>\n",
       "      <td>1122.880</td>\n",
       "      <td>92.845634</td>\n",
       "      <td>998.0</td>\n",
       "      <td>1062.250</td>\n",
       "      <td>1098.50</td>\n",
       "      <td>1207.000</td>\n",
       "      <td>1298.0</td>\n",
       "    </tr>\n",
       "    <tr>\n",
       "      <th>act_part_2018</th>\n",
       "      <td>50.0</td>\n",
       "      <td>62.320</td>\n",
       "      <td>34.114118</td>\n",
       "      <td>7.0</td>\n",
       "      <td>27.750</td>\n",
       "      <td>66.00</td>\n",
       "      <td>100.000</td>\n",
       "      <td>100.0</td>\n",
       "    </tr>\n",
       "    <tr>\n",
       "      <th>act_comp_2018</th>\n",
       "      <td>50.0</td>\n",
       "      <td>21.454</td>\n",
       "      <td>2.111312</td>\n",
       "      <td>17.7</td>\n",
       "      <td>19.925</td>\n",
       "      <td>21.05</td>\n",
       "      <td>23.650</td>\n",
       "      <td>25.6</td>\n",
       "    </tr>\n",
       "  </tbody>\n",
       "</table>\n",
       "</div>"
      ],
      "text/plain": [
       "                count      mean        std    min       25%      50%  \\\n",
       "sat_part_2017    50.0    38.600  34.560211    2.0     4.000    34.00   \n",
       "sat_ebrw_2017    50.0   570.860  44.385146  503.0   535.250   559.50   \n",
       "sat_math_2017    50.0   558.660  45.839832  492.0   524.000   549.50   \n",
       "sat_total_2017   50.0  1129.620  89.913085  996.0  1057.000  1107.50   \n",
       "act_part_2017    50.0    65.920  32.110676    8.0    31.000    71.00   \n",
       "act_eng_2017     50.0    20.862   2.324307   16.3    19.000    20.55   \n",
       "act_math_2017    50.0    21.136   1.973990   18.0    19.400    20.90   \n",
       "act_read_2017    50.0    21.956   2.046317   18.1    20.425    21.70   \n",
       "act_sci_2017     50.0    21.410   1.731962   18.2    19.925    21.30   \n",
       "act_comp_2017    50.0    21.466   2.004241   17.8    19.800    21.40   \n",
       "sat_part_2018    50.0    45.720  37.838022    2.0     4.250    50.00   \n",
       "sat_ebrw_2018    50.0   565.020  47.010416  480.0   535.000   552.00   \n",
       "sat_math_2018    50.0   557.760  46.987432  486.0   524.250   545.50   \n",
       "sat_total_2018   50.0  1122.880  92.845634  998.0  1062.250  1098.50   \n",
       "act_part_2018    50.0    62.320  34.114118    7.0    27.750    66.00   \n",
       "act_comp_2018    50.0    21.454   2.111312   17.7    19.925    21.05   \n",
       "\n",
       "                     75%     max  \n",
       "sat_part_2017     65.000   100.0  \n",
       "sat_ebrw_2017    613.500   644.0  \n",
       "sat_math_2017    601.000   651.0  \n",
       "sat_total_2017  1214.000  1295.0  \n",
       "act_part_2017    100.000   100.0  \n",
       "act_eng_2017      23.100    25.5  \n",
       "act_math_2017     23.000    25.3  \n",
       "act_read_2017     23.875    26.0  \n",
       "act_sci_2017      22.975    24.9  \n",
       "act_comp_2017     23.400    25.5  \n",
       "sat_part_2018     78.250   100.0  \n",
       "sat_ebrw_2018    612.750   643.0  \n",
       "sat_math_2018    594.250   655.0  \n",
       "sat_total_2018  1207.000  1298.0  \n",
       "act_part_2018    100.000   100.0  \n",
       "act_comp_2018     23.650    25.6  "
      ]
     },
     "execution_count": 59,
     "metadata": {},
     "output_type": "execute_result"
    }
   ],
   "source": [
    "final.describe().T"
   ]
  },
  {
   "cell_type": "markdown",
   "metadata": {},
   "source": [
    "### Manually calculate standard deviation\n",
    "\n",
    "$$\\sigma = \\sqrt{\\frac{1}{n}\\sum_{i=1}^n(x_i - \\mu)^2}$$\n",
    "\n",
    "- Write a function to calculate standard deviation using the formula above"
   ]
  },
  {
   "cell_type": "code",
   "execution_count": 60,
   "metadata": {},
   "outputs": [],
   "source": [
    "def standard_deviation(values):\n",
    "    mean = sum(values) / len(values)    \n",
    "    x = 0\n",
    "    for i in values:\n",
    "        x += ((i - mean)**2)\n",
    "    stdev  = (x/len(values))**0.5\n",
    "    return stdev"
   ]
  },
  {
   "cell_type": "code",
   "execution_count": 61,
   "metadata": {},
   "outputs": [],
   "source": [
    "values = [10,9,8,7,6,5,4,3,2,1]   # Number list for testing"
   ]
  },
  {
   "cell_type": "code",
   "execution_count": 62,
   "metadata": {},
   "outputs": [
    {
     "data": {
      "text/plain": [
       "2.8722813232690143"
      ]
     },
     "execution_count": 62,
     "metadata": {},
     "output_type": "execute_result"
    }
   ],
   "source": [
    "standard_deviation(values)"
   ]
  },
  {
   "cell_type": "code",
   "execution_count": 63,
   "metadata": {},
   "outputs": [
    {
     "data": {
      "text/plain": [
       "2.8722813232690143"
      ]
     },
     "execution_count": 63,
     "metadata": {},
     "output_type": "execute_result"
    }
   ],
   "source": [
    "# Validating standard_deviation function using numpy\n",
    "\n",
    "np.std(values)"
   ]
  },
  {
   "cell_type": "markdown",
   "metadata": {},
   "source": [
    "- Use a **dictionary comprehension** to apply your standard deviation function to each numeric column in the dataframe.  **No loops**  \n",
    "- Assign the output to variable `sd` as a dictionary where: \n",
    "    - Each column name is now a key \n",
    "    - That standard deviation of the column is the value \n",
    "     \n",
    "*Example Output :* `{'ACT_Math': 120, 'ACT_Reading': 120, ...}`"
   ]
  },
  {
   "cell_type": "code",
   "execution_count": 64,
   "metadata": {},
   "outputs": [
    {
     "data": {
      "text/plain": [
       "{'sat_part_2017': 34.21286307808804,\n",
       " 'sat_ebrw_2017': 43.9390532442382,\n",
       " 'sat_math_2017': 45.37911854586864,\n",
       " 'sat_total_2017': 89.00941298536914,\n",
       " 'act_part_2017': 31.787947401491657,\n",
       " 'act_eng_2017': 2.3009467616613812,\n",
       " 'act_math_2017': 1.9541504548012678,\n",
       " 'act_read_2017': 2.025750231395766,\n",
       " 'act_sci_2017': 1.7145553359399048,\n",
       " 'act_comp_2017': 1.9840977798485642,\n",
       " 'sat_part_2018': 37.45773084424629,\n",
       " 'sat_ebrw_2018': 46.537937212558106,\n",
       " 'sat_math_2018': 46.51518461749884,\n",
       " 'sat_total_2018': 91.91248881408882,\n",
       " 'act_part_2018': 33.7712540483767,\n",
       " 'act_comp_2018': 2.090091864009809}"
      ]
     },
     "execution_count": 64,
     "metadata": {},
     "output_type": "execute_result"
    }
   ],
   "source": [
    "sd = {k: standard_deviation(final[k]) for k in final.columns}\n",
    "sd"
   ]
  },
  {
   "cell_type": "markdown",
   "metadata": {},
   "source": [
    "### Do your manually calculated standard deviations match up with the output from pandas `describe`? What about numpy's `std` method?"
   ]
  },
  {
   "cell_type": "markdown",
   "metadata": {},
   "source": [
    "### <span style=\"color:red\">Answer:</span>\n",
    "\n",
    "Yes and no. The manually calculated standard deviation matches the output from numpy's ```std``` method, but not from pandas ```describe```.\n",
    "\n",
    "This is because numpy's ```std``` uses the \"uncorrected\" standard deviation formula with sample-size (N):\n",
    "\n",
    "![alt_text](https://wikimedia.org/api/rest_v1/media/math/render/svg/bad80ea0e24daf81761136ee19f8e46b7c7a7628)\n",
    "\n",
    "While, pandas ```describe``` uses the \"corrected\" standard deviation formula with sample-sze (N-1):\n",
    "\n",
    "![alt_text](https://wikimedia.org/api/rest_v1/media/math/render/svg/1bffdcb1ecd0b326bb7ad67397b073af9c15fa6e)"
   ]
  },
  {
   "cell_type": "code",
   "execution_count": 65,
   "metadata": {},
   "outputs": [
    {
     "data": {
      "text/html": [
       "<div>\n",
       "<style scoped>\n",
       "    .dataframe tbody tr th:only-of-type {\n",
       "        vertical-align: middle;\n",
       "    }\n",
       "\n",
       "    .dataframe tbody tr th {\n",
       "        vertical-align: top;\n",
       "    }\n",
       "\n",
       "    .dataframe thead th {\n",
       "        text-align: right;\n",
       "    }\n",
       "</style>\n",
       "<table border=\"1\" class=\"dataframe\">\n",
       "  <thead>\n",
       "    <tr style=\"text-align: right;\">\n",
       "      <th></th>\n",
       "      <th>count</th>\n",
       "      <th>mean</th>\n",
       "      <th>std</th>\n",
       "      <th>min</th>\n",
       "      <th>25%</th>\n",
       "      <th>50%</th>\n",
       "      <th>75%</th>\n",
       "      <th>max</th>\n",
       "    </tr>\n",
       "  </thead>\n",
       "  <tbody>\n",
       "    <tr>\n",
       "      <th>sat_part_2017</th>\n",
       "      <td>50.0</td>\n",
       "      <td>38.600</td>\n",
       "      <td>34.560211</td>\n",
       "      <td>2.0</td>\n",
       "      <td>4.000</td>\n",
       "      <td>34.00</td>\n",
       "      <td>65.000</td>\n",
       "      <td>100.0</td>\n",
       "    </tr>\n",
       "    <tr>\n",
       "      <th>sat_ebrw_2017</th>\n",
       "      <td>50.0</td>\n",
       "      <td>570.860</td>\n",
       "      <td>44.385146</td>\n",
       "      <td>503.0</td>\n",
       "      <td>535.250</td>\n",
       "      <td>559.50</td>\n",
       "      <td>613.500</td>\n",
       "      <td>644.0</td>\n",
       "    </tr>\n",
       "    <tr>\n",
       "      <th>sat_math_2017</th>\n",
       "      <td>50.0</td>\n",
       "      <td>558.660</td>\n",
       "      <td>45.839832</td>\n",
       "      <td>492.0</td>\n",
       "      <td>524.000</td>\n",
       "      <td>549.50</td>\n",
       "      <td>601.000</td>\n",
       "      <td>651.0</td>\n",
       "    </tr>\n",
       "    <tr>\n",
       "      <th>sat_total_2017</th>\n",
       "      <td>50.0</td>\n",
       "      <td>1129.620</td>\n",
       "      <td>89.913085</td>\n",
       "      <td>996.0</td>\n",
       "      <td>1057.000</td>\n",
       "      <td>1107.50</td>\n",
       "      <td>1214.000</td>\n",
       "      <td>1295.0</td>\n",
       "    </tr>\n",
       "    <tr>\n",
       "      <th>act_part_2017</th>\n",
       "      <td>50.0</td>\n",
       "      <td>65.920</td>\n",
       "      <td>32.110676</td>\n",
       "      <td>8.0</td>\n",
       "      <td>31.000</td>\n",
       "      <td>71.00</td>\n",
       "      <td>100.000</td>\n",
       "      <td>100.0</td>\n",
       "    </tr>\n",
       "    <tr>\n",
       "      <th>act_eng_2017</th>\n",
       "      <td>50.0</td>\n",
       "      <td>20.862</td>\n",
       "      <td>2.324307</td>\n",
       "      <td>16.3</td>\n",
       "      <td>19.000</td>\n",
       "      <td>20.55</td>\n",
       "      <td>23.100</td>\n",
       "      <td>25.5</td>\n",
       "    </tr>\n",
       "    <tr>\n",
       "      <th>act_math_2017</th>\n",
       "      <td>50.0</td>\n",
       "      <td>21.136</td>\n",
       "      <td>1.973990</td>\n",
       "      <td>18.0</td>\n",
       "      <td>19.400</td>\n",
       "      <td>20.90</td>\n",
       "      <td>23.000</td>\n",
       "      <td>25.3</td>\n",
       "    </tr>\n",
       "    <tr>\n",
       "      <th>act_read_2017</th>\n",
       "      <td>50.0</td>\n",
       "      <td>21.956</td>\n",
       "      <td>2.046317</td>\n",
       "      <td>18.1</td>\n",
       "      <td>20.425</td>\n",
       "      <td>21.70</td>\n",
       "      <td>23.875</td>\n",
       "      <td>26.0</td>\n",
       "    </tr>\n",
       "    <tr>\n",
       "      <th>act_sci_2017</th>\n",
       "      <td>50.0</td>\n",
       "      <td>21.410</td>\n",
       "      <td>1.731962</td>\n",
       "      <td>18.2</td>\n",
       "      <td>19.925</td>\n",
       "      <td>21.30</td>\n",
       "      <td>22.975</td>\n",
       "      <td>24.9</td>\n",
       "    </tr>\n",
       "    <tr>\n",
       "      <th>act_comp_2017</th>\n",
       "      <td>50.0</td>\n",
       "      <td>21.466</td>\n",
       "      <td>2.004241</td>\n",
       "      <td>17.8</td>\n",
       "      <td>19.800</td>\n",
       "      <td>21.40</td>\n",
       "      <td>23.400</td>\n",
       "      <td>25.5</td>\n",
       "    </tr>\n",
       "    <tr>\n",
       "      <th>sat_part_2018</th>\n",
       "      <td>50.0</td>\n",
       "      <td>45.720</td>\n",
       "      <td>37.838022</td>\n",
       "      <td>2.0</td>\n",
       "      <td>4.250</td>\n",
       "      <td>50.00</td>\n",
       "      <td>78.250</td>\n",
       "      <td>100.0</td>\n",
       "    </tr>\n",
       "    <tr>\n",
       "      <th>sat_ebrw_2018</th>\n",
       "      <td>50.0</td>\n",
       "      <td>565.020</td>\n",
       "      <td>47.010416</td>\n",
       "      <td>480.0</td>\n",
       "      <td>535.000</td>\n",
       "      <td>552.00</td>\n",
       "      <td>612.750</td>\n",
       "      <td>643.0</td>\n",
       "    </tr>\n",
       "    <tr>\n",
       "      <th>sat_math_2018</th>\n",
       "      <td>50.0</td>\n",
       "      <td>557.760</td>\n",
       "      <td>46.987432</td>\n",
       "      <td>486.0</td>\n",
       "      <td>524.250</td>\n",
       "      <td>545.50</td>\n",
       "      <td>594.250</td>\n",
       "      <td>655.0</td>\n",
       "    </tr>\n",
       "    <tr>\n",
       "      <th>sat_total_2018</th>\n",
       "      <td>50.0</td>\n",
       "      <td>1122.880</td>\n",
       "      <td>92.845634</td>\n",
       "      <td>998.0</td>\n",
       "      <td>1062.250</td>\n",
       "      <td>1098.50</td>\n",
       "      <td>1207.000</td>\n",
       "      <td>1298.0</td>\n",
       "    </tr>\n",
       "    <tr>\n",
       "      <th>act_part_2018</th>\n",
       "      <td>50.0</td>\n",
       "      <td>62.320</td>\n",
       "      <td>34.114118</td>\n",
       "      <td>7.0</td>\n",
       "      <td>27.750</td>\n",
       "      <td>66.00</td>\n",
       "      <td>100.000</td>\n",
       "      <td>100.0</td>\n",
       "    </tr>\n",
       "    <tr>\n",
       "      <th>act_comp_2018</th>\n",
       "      <td>50.0</td>\n",
       "      <td>21.454</td>\n",
       "      <td>2.111312</td>\n",
       "      <td>17.7</td>\n",
       "      <td>19.925</td>\n",
       "      <td>21.05</td>\n",
       "      <td>23.650</td>\n",
       "      <td>25.6</td>\n",
       "    </tr>\n",
       "  </tbody>\n",
       "</table>\n",
       "</div>"
      ],
      "text/plain": [
       "                count      mean        std    min       25%      50%  \\\n",
       "sat_part_2017    50.0    38.600  34.560211    2.0     4.000    34.00   \n",
       "sat_ebrw_2017    50.0   570.860  44.385146  503.0   535.250   559.50   \n",
       "sat_math_2017    50.0   558.660  45.839832  492.0   524.000   549.50   \n",
       "sat_total_2017   50.0  1129.620  89.913085  996.0  1057.000  1107.50   \n",
       "act_part_2017    50.0    65.920  32.110676    8.0    31.000    71.00   \n",
       "act_eng_2017     50.0    20.862   2.324307   16.3    19.000    20.55   \n",
       "act_math_2017    50.0    21.136   1.973990   18.0    19.400    20.90   \n",
       "act_read_2017    50.0    21.956   2.046317   18.1    20.425    21.70   \n",
       "act_sci_2017     50.0    21.410   1.731962   18.2    19.925    21.30   \n",
       "act_comp_2017    50.0    21.466   2.004241   17.8    19.800    21.40   \n",
       "sat_part_2018    50.0    45.720  37.838022    2.0     4.250    50.00   \n",
       "sat_ebrw_2018    50.0   565.020  47.010416  480.0   535.000   552.00   \n",
       "sat_math_2018    50.0   557.760  46.987432  486.0   524.250   545.50   \n",
       "sat_total_2018   50.0  1122.880  92.845634  998.0  1062.250  1098.50   \n",
       "act_part_2018    50.0    62.320  34.114118    7.0    27.750    66.00   \n",
       "act_comp_2018    50.0    21.454   2.111312   17.7    19.925    21.05   \n",
       "\n",
       "                     75%     max  \n",
       "sat_part_2017     65.000   100.0  \n",
       "sat_ebrw_2017    613.500   644.0  \n",
       "sat_math_2017    601.000   651.0  \n",
       "sat_total_2017  1214.000  1295.0  \n",
       "act_part_2017    100.000   100.0  \n",
       "act_eng_2017      23.100    25.5  \n",
       "act_math_2017     23.000    25.3  \n",
       "act_read_2017     23.875    26.0  \n",
       "act_sci_2017      22.975    24.9  \n",
       "act_comp_2017     23.400    25.5  \n",
       "sat_part_2018     78.250   100.0  \n",
       "sat_ebrw_2018    612.750   643.0  \n",
       "sat_math_2018    594.250   655.0  \n",
       "sat_total_2018  1207.000  1298.0  \n",
       "act_part_2018    100.000   100.0  \n",
       "act_comp_2018     23.650    25.6  "
      ]
     },
     "execution_count": 65,
     "metadata": {},
     "output_type": "execute_result"
    }
   ],
   "source": [
    "final.describe().T  # Standard deviation using panda's describe does not match"
   ]
  },
  {
   "cell_type": "code",
   "execution_count": 66,
   "metadata": {},
   "outputs": [
    {
     "data": {
      "text/plain": [
       "sat_part_2017     34.212863\n",
       "sat_ebrw_2017     43.939053\n",
       "sat_math_2017     45.379119\n",
       "sat_total_2017    89.009413\n",
       "act_part_2017     31.787947\n",
       "act_eng_2017       2.300947\n",
       "act_math_2017      1.954150\n",
       "act_read_2017      2.025750\n",
       "act_sci_2017       1.714555\n",
       "act_comp_2017      1.984098\n",
       "sat_part_2018     37.457731\n",
       "sat_ebrw_2018     46.537937\n",
       "sat_math_2018     46.515185\n",
       "sat_total_2018    91.912489\n",
       "act_part_2018     33.771254\n",
       "act_comp_2018      2.090092\n",
       "dtype: float64"
      ]
     },
     "execution_count": 66,
     "metadata": {},
     "output_type": "execute_result"
    }
   ],
   "source": [
    "np.std(final)   # Standard deviation using numpy's std method gives a match"
   ]
  },
  {
   "cell_type": "markdown",
   "metadata": {},
   "source": [
    "### Investigate trends in the data\n",
    "Using sorting and/or masking (along with the `.head` method to not print our entire dataframe), consider the following questions:\n",
    "\n",
    "- Which states have the highest and lowest participation rates for the:\n",
    "    - 2017 SAT?\n",
    "    - 2018 SAT?\n",
    "    - 2017 ACT?\n",
    "    - 2018 ACT?\n",
    "- Which states have the highest and lowest mean total/composite scores for the:\n",
    "    - 2017 SAT?\n",
    "    - 2018 SAT?\n",
    "    - 2017 ACT?\n",
    "    - 2018 ACT?\n",
    "- Do any states with 100% participation on a given test have a rate change year-to-year?\n",
    "- Do any states show have >50% participation on *both* tests either year?\n",
    "\n",
    "Based on what you've just observed, have you identified any states that you're especially interested in? **Make a note of these and state *why* you think they're interesting**.\n",
    "\n",
    "**You should comment on your findings at each step in a markdown cell below your code block**. Make sure you include at least one example of sorting your dataframe by a column, and one example of using boolean filtering (i.e., masking) to select a subset of the dataframe."
   ]
  },
  {
   "cell_type": "markdown",
   "metadata": {},
   "source": [
    "### Q1: Which states have the highest/lowest participation rates for the SAT in 2017/2018"
   ]
  },
  {
   "cell_type": "markdown",
   "metadata": {},
   "source": [
    "### <span style=\"color:red\">SAT 2017 Participation:</span>\n",
    "- **Highest**: Michigan, Connecticut, Delaware, New Hampshire, Maine\n",
    "- **Lowest**: North Dakota, Mississippi, Iowa, Missouri, Utah"
   ]
  },
  {
   "cell_type": "code",
   "execution_count": 67,
   "metadata": {},
   "outputs": [
    {
     "data": {
      "text/plain": [
       "state\n",
       "Michigan         100\n",
       "Connecticut      100\n",
       "Delaware         100\n",
       "New Hampshire     96\n",
       "Maine             95\n",
       "Name: sat_part_2017, dtype: int64"
      ]
     },
     "execution_count": 67,
     "metadata": {},
     "output_type": "execute_result"
    }
   ],
   "source": [
    "# States with the highest 2017 SAT participation rates\n",
    "final.sort_values(\"sat_part_2017\", ascending = False)[\"sat_part_2017\"].head()"
   ]
  },
  {
   "cell_type": "code",
   "execution_count": 68,
   "metadata": {},
   "outputs": [
    {
     "data": {
      "text/plain": [
       "state\n",
       "North Dakota    2\n",
       "Mississippi     2\n",
       "Iowa            2\n",
       "Missouri        3\n",
       "Utah            3\n",
       "Name: sat_part_2017, dtype: int64"
      ]
     },
     "execution_count": 68,
     "metadata": {},
     "output_type": "execute_result"
    }
   ],
   "source": [
    "# States with the lowest 2017 SAT participation rates\n",
    "final.sort_values(\"sat_part_2017\", ascending = True)[\"sat_part_2017\"].head()"
   ]
  },
  {
   "cell_type": "markdown",
   "metadata": {},
   "source": [
    "### <span style=\"color:red\">SAT 2018 Participation</span>\n",
    "- **Highest**: Michigan, Connecticut, Delaware, New Hampshire, Maine\n",
    "- **Lowest**: North Dakota, Mississippi, Iowa, Missouri, Utah"
   ]
  },
  {
   "cell_type": "code",
   "execution_count": 69,
   "metadata": {},
   "outputs": [
    {
     "data": {
      "text/plain": [
       "state\n",
       "Michigan       100\n",
       "Colorado       100\n",
       "Connecticut    100\n",
       "Delaware       100\n",
       "Idaho          100\n",
       "Name: sat_part_2018, dtype: int64"
      ]
     },
     "execution_count": 69,
     "metadata": {},
     "output_type": "execute_result"
    }
   ],
   "source": [
    "# States with the highest 2018 SAT participation rates\n",
    "final.sort_values(\"sat_part_2018\", ascending = False)[\"sat_part_2018\"].head()"
   ]
  },
  {
   "cell_type": "code",
   "execution_count": 70,
   "metadata": {},
   "outputs": [
    {
     "data": {
      "text/plain": [
       "state\n",
       "North Dakota    2\n",
       "Wyoming         3\n",
       "South Dakota    3\n",
       "Nebraska        3\n",
       "Wisconsin       3\n",
       "Name: sat_part_2018, dtype: int64"
      ]
     },
     "execution_count": 70,
     "metadata": {},
     "output_type": "execute_result"
    }
   ],
   "source": [
    "# States with the lowest 2018 ACT participation rates\n",
    "final.sort_values(\"sat_part_2018\", ascending = True)[\"sat_part_2018\"].head()"
   ]
  },
  {
   "cell_type": "markdown",
   "metadata": {},
   "source": [
    "### <span style=\"color:red\">ACT 2017 Participation:</span>\n",
    "- **Highest**: Alabama, Kentucky, Wisconsin, Utah, Tennessee, South Carolina, Oklahoma, North Carolina, Nevada, Missouri, Mississippi, Minnesota, Louisiana, Montana, Wyoming, Arkansas, Colorado (all equal at 100%)\n",
    "\n",
    "- **Lowest**: Maine, Delaware, New Hampshire"
   ]
  },
  {
   "cell_type": "code",
   "execution_count": 71,
   "metadata": {},
   "outputs": [
    {
     "data": {
      "text/plain": [
       "state\n",
       "Alabama      100\n",
       "Kentucky     100\n",
       "Wisconsin    100\n",
       "Utah         100\n",
       "Tennessee    100\n",
       "Name: act_part_2017, dtype: int64"
      ]
     },
     "execution_count": 71,
     "metadata": {},
     "output_type": "execute_result"
    }
   ],
   "source": [
    "# States with the highest 2017 ACT participation rates\n",
    "final.sort_values(\"act_part_2017\", ascending = False)[\"act_part_2017\"].head()"
   ]
  },
  {
   "cell_type": "code",
   "execution_count": 72,
   "metadata": {},
   "outputs": [
    {
     "data": {
      "text/plain": [
       "state\n",
       "Pennsylvania     23\n",
       "Rhode Island     21\n",
       "New Hampshire    18\n",
       "Delaware         18\n",
       "Maine             8\n",
       "Name: act_part_2017, dtype: int64"
      ]
     },
     "execution_count": 72,
     "metadata": {},
     "output_type": "execute_result"
    }
   ],
   "source": [
    "# States with the lowest 2017 ACT participation rates\n",
    "final.sort_values(\"act_part_2017\", ascending = False)[\"act_part_2017\"].tail()"
   ]
  },
  {
   "cell_type": "markdown",
   "metadata": {},
   "source": [
    "### <span style=\"color:red\">ACT 2018 Participation:</span>\n",
    "\n",
    "- **Highest**: Alabama, Kentucky, Wisconsin, Utah, Tennessee, South Carolina, Oklahoma, Ohio, North Carolina, Nevada, Nebraska, Missouri, Mississippi, Louisiana, Montana, Wyoming, Arkansas (all equal at 100%)\n",
    "- **Lowest**: Maine, Rhode Island, New Hampshire, Delaware"
   ]
  },
  {
   "cell_type": "code",
   "execution_count": 73,
   "metadata": {},
   "outputs": [
    {
     "data": {
      "text/plain": [
       "state\n",
       "Alabama      100\n",
       "Kentucky     100\n",
       "Wisconsin    100\n",
       "Utah         100\n",
       "Tennessee    100\n",
       "Name: act_part_2018, dtype: int64"
      ]
     },
     "execution_count": 73,
     "metadata": {},
     "output_type": "execute_result"
    }
   ],
   "source": [
    "# Viewing the states with the highest 2018 ACT participation rates\n",
    "final.sort_values(\"act_part_2018\", ascending = False)[\"act_part_2018\"].head()"
   ]
  },
  {
   "cell_type": "code",
   "execution_count": 74,
   "metadata": {},
   "outputs": [
    {
     "data": {
      "text/plain": [
       "state\n",
       "Maine             7\n",
       "Rhode Island     15\n",
       "New Hampshire    16\n",
       "Delaware         17\n",
       "Pennsylvania     20\n",
       "Name: act_part_2018, dtype: int64"
      ]
     },
     "execution_count": 74,
     "metadata": {},
     "output_type": "execute_result"
    }
   ],
   "source": [
    "# Viewing the states with the lowest 2018 ACT participation rates\n",
    "final.sort_values(\"act_part_2018\", ascending = True)[\"act_part_2018\"].head()"
   ]
  },
  {
   "cell_type": "markdown",
   "metadata": {},
   "source": [
    " "
   ]
  },
  {
   "cell_type": "markdown",
   "metadata": {},
   "source": [
    "### Q2: Which states have the highest/lowest SAT scores in 2017/2018"
   ]
  },
  {
   "cell_type": "markdown",
   "metadata": {},
   "source": [
    "### <span style=\"color:red\">SAT 2017 scores</span>\n",
    "- **Highest**: Minnesota, Wisconsin, Iowa\n",
    "- **Lowest**: Delaware, Michigan, Idaho"
   ]
  },
  {
   "cell_type": "code",
   "execution_count": 75,
   "metadata": {},
   "outputs": [
    {
     "data": {
      "text/plain": [
       "state\n",
       "Minnesota    1295\n",
       "Wisconsin    1291\n",
       "Iowa         1275\n",
       "Name: sat_total_2017, dtype: int64"
      ]
     },
     "execution_count": 75,
     "metadata": {},
     "output_type": "execute_result"
    }
   ],
   "source": [
    "# States with the highest 3 SAT 2017 combined scores\n",
    "final.sort_values(\"sat_total_2017\", ascending = False)[\"sat_total_2017\"].head(3)"
   ]
  },
  {
   "cell_type": "code",
   "execution_count": 76,
   "metadata": {},
   "outputs": [
    {
     "data": {
      "text/plain": [
       "state\n",
       "Idaho       1005\n",
       "Michigan    1005\n",
       "Delaware     996\n",
       "Name: sat_total_2017, dtype: int64"
      ]
     },
     "execution_count": 76,
     "metadata": {},
     "output_type": "execute_result"
    }
   ],
   "source": [
    "# States with the lowest 3 SAT 2017 combined scores\n",
    "final.sort_values(\"sat_total_2017\", ascending = False)[\"sat_total_2017\"].tail(3)"
   ]
  },
  {
   "cell_type": "markdown",
   "metadata": {},
   "source": [
    "### <span style=\"color:red\">SAT 2018 scores</span>\n",
    "- **Highest**: Minnesota, Wisconsin, North Dakota\n",
    "- **Lowest**: Delaware, West Virginia, Idaho"
   ]
  },
  {
   "cell_type": "code",
   "execution_count": 77,
   "metadata": {},
   "outputs": [
    {
     "data": {
      "text/plain": [
       "state\n",
       "Minnesota       1298\n",
       "Wisconsin       1294\n",
       "North Dakota    1283\n",
       "Name: sat_total_2018, dtype: int64"
      ]
     },
     "execution_count": 77,
     "metadata": {},
     "output_type": "execute_result"
    }
   ],
   "source": [
    "# States with the top 3 SAT 2018 combined scores\n",
    "final.sort_values(\"sat_total_2018\", ascending = False)[\"sat_total_2018\"].head(3)"
   ]
  },
  {
   "cell_type": "code",
   "execution_count": 78,
   "metadata": {},
   "outputs": [
    {
     "data": {
      "text/plain": [
       "state\n",
       "Idaho            1001\n",
       "West Virginia     999\n",
       "Delaware          998\n",
       "Name: sat_total_2018, dtype: int64"
      ]
     },
     "execution_count": 78,
     "metadata": {},
     "output_type": "execute_result"
    }
   ],
   "source": [
    "# States with the lowest 3 SAT 2018 combined scores\n",
    "final.sort_values(\"sat_total_2018\", ascending = False)[\"sat_total_2018\"].tail(3)"
   ]
  },
  {
   "cell_type": "markdown",
   "metadata": {},
   "source": [
    "### <span style=\"color:red\">ACT 2017 scores</span>\n",
    "- **Highest**: New Hampshire, Massachusetts, Connecticut\n",
    "- **Lowest**: Nevada, Mississippi, South Carolina"
   ]
  },
  {
   "cell_type": "code",
   "execution_count": 79,
   "metadata": {},
   "outputs": [
    {
     "data": {
      "text/plain": [
       "state\n",
       "New Hampshire    25.5\n",
       "Massachusetts    25.4\n",
       "Connecticut      25.2\n",
       "Name: act_comp_2017, dtype: float64"
      ]
     },
     "execution_count": 79,
     "metadata": {},
     "output_type": "execute_result"
    }
   ],
   "source": [
    "# States with the top 3 ACT 2017 combined scores\n",
    "final.sort_values(\"act_comp_2017\", ascending = False)[\"act_comp_2017\"].head(3)"
   ]
  },
  {
   "cell_type": "code",
   "execution_count": 80,
   "metadata": {},
   "outputs": [
    {
     "data": {
      "text/plain": [
       "state\n",
       "South Carolina    18.7\n",
       "Mississippi       18.6\n",
       "Nevada            17.8\n",
       "Name: act_comp_2017, dtype: float64"
      ]
     },
     "execution_count": 80,
     "metadata": {},
     "output_type": "execute_result"
    }
   ],
   "source": [
    "# States with the top 3 ACT 2017 combined scores\n",
    "final.sort_values(\"act_comp_2017\", ascending = False)[\"act_comp_2017\"].tail(3)"
   ]
  },
  {
   "cell_type": "markdown",
   "metadata": {},
   "source": [
    "### <span style=\"color:red\">ACT 2018 scores</span>\n",
    "- **Highest**: Connecticut, Massachusetts, New Hampshire\n",
    "- **Lowest**: Nevada, South Carolina, Mississippi"
   ]
  },
  {
   "cell_type": "code",
   "execution_count": 81,
   "metadata": {},
   "outputs": [
    {
     "data": {
      "text/plain": [
       "state\n",
       "Connecticut      25.6\n",
       "Massachusetts    25.5\n",
       "New Hampshire    25.1\n",
       "Name: act_comp_2018, dtype: float64"
      ]
     },
     "execution_count": 81,
     "metadata": {},
     "output_type": "execute_result"
    }
   ],
   "source": [
    "# States with the top 3 ACT 2018 combined scores\n",
    "final.sort_values(\"act_comp_2018\", ascending = False)[\"act_comp_2018\"].head(3)"
   ]
  },
  {
   "cell_type": "code",
   "execution_count": 82,
   "metadata": {},
   "outputs": [
    {
     "data": {
      "text/plain": [
       "state\n",
       "Mississippi       18.6\n",
       "South Carolina    18.3\n",
       "Nevada            17.7\n",
       "Name: act_comp_2018, dtype: float64"
      ]
     },
     "execution_count": 82,
     "metadata": {},
     "output_type": "execute_result"
    }
   ],
   "source": [
    "# States with the top 3 ACT 2018 combined scores\n",
    "final.sort_values(\"act_comp_2018\", ascending = False)[\"act_comp_2018\"].tail(3)"
   ]
  },
  {
   "cell_type": "markdown",
   "metadata": {},
   "source": [
    " "
   ]
  },
  {
   "cell_type": "markdown",
   "metadata": {},
   "source": [
    "### Q3: Do states with 100% enrollment have year-to-year parcipation rate changes?"
   ]
  },
  {
   "cell_type": "markdown",
   "metadata": {},
   "source": [
    "### <span style=\"color:red\">SAT participation changes</span>\n",
    "- Three states in 2017 which had 100% SAT participation (Connecticut, Delaware, Michigan) continued to maintain full 100% levels in the 2018 SAT.\n",
    "- Interestingly, two other states (Colorado, Idaho) managed to achieve full 100% participation rate in the 2018 SAT, despite not being able to do so in 2017."
   ]
  },
  {
   "cell_type": "code",
   "execution_count": 83,
   "metadata": {},
   "outputs": [
    {
     "data": {
      "text/html": [
       "<div>\n",
       "<style scoped>\n",
       "    .dataframe tbody tr th:only-of-type {\n",
       "        vertical-align: middle;\n",
       "    }\n",
       "\n",
       "    .dataframe tbody tr th {\n",
       "        vertical-align: top;\n",
       "    }\n",
       "\n",
       "    .dataframe thead th {\n",
       "        text-align: right;\n",
       "    }\n",
       "</style>\n",
       "<table border=\"1\" class=\"dataframe\">\n",
       "  <thead>\n",
       "    <tr style=\"text-align: right;\">\n",
       "      <th></th>\n",
       "      <th>sat_part_2017</th>\n",
       "      <th>sat_part_2018</th>\n",
       "    </tr>\n",
       "    <tr>\n",
       "      <th>state</th>\n",
       "      <th></th>\n",
       "      <th></th>\n",
       "    </tr>\n",
       "  </thead>\n",
       "  <tbody>\n",
       "    <tr>\n",
       "      <th>Connecticut</th>\n",
       "      <td>100</td>\n",
       "      <td>100</td>\n",
       "    </tr>\n",
       "    <tr>\n",
       "      <th>Delaware</th>\n",
       "      <td>100</td>\n",
       "      <td>100</td>\n",
       "    </tr>\n",
       "    <tr>\n",
       "      <th>Michigan</th>\n",
       "      <td>100</td>\n",
       "      <td>100</td>\n",
       "    </tr>\n",
       "  </tbody>\n",
       "</table>\n",
       "</div>"
      ],
      "text/plain": [
       "             sat_part_2017  sat_part_2018\n",
       "state                                    \n",
       "Connecticut            100            100\n",
       "Delaware               100            100\n",
       "Michigan               100            100"
      ]
     },
     "execution_count": 83,
     "metadata": {},
     "output_type": "execute_result"
    }
   ],
   "source": [
    "# Year-to-year changes in states with 100% SAT participation in 2017\n",
    "state_100sat2017 = final.loc[final[\"sat_part_2017\"] == 100].index\n",
    "final.loc[state_100sat2017, [\"sat_part_2017\",\"sat_part_2018\"]]"
   ]
  },
  {
   "cell_type": "code",
   "execution_count": 84,
   "metadata": {},
   "outputs": [
    {
     "data": {
      "text/html": [
       "<div>\n",
       "<style scoped>\n",
       "    .dataframe tbody tr th:only-of-type {\n",
       "        vertical-align: middle;\n",
       "    }\n",
       "\n",
       "    .dataframe tbody tr th {\n",
       "        vertical-align: top;\n",
       "    }\n",
       "\n",
       "    .dataframe thead th {\n",
       "        text-align: right;\n",
       "    }\n",
       "</style>\n",
       "<table border=\"1\" class=\"dataframe\">\n",
       "  <thead>\n",
       "    <tr style=\"text-align: right;\">\n",
       "      <th></th>\n",
       "      <th>sat_part_2017</th>\n",
       "      <th>sat_part_2018</th>\n",
       "    </tr>\n",
       "    <tr>\n",
       "      <th>state</th>\n",
       "      <th></th>\n",
       "      <th></th>\n",
       "    </tr>\n",
       "  </thead>\n",
       "  <tbody>\n",
       "    <tr>\n",
       "      <th>Colorado</th>\n",
       "      <td>11</td>\n",
       "      <td>100</td>\n",
       "    </tr>\n",
       "    <tr>\n",
       "      <th>Idaho</th>\n",
       "      <td>93</td>\n",
       "      <td>100</td>\n",
       "    </tr>\n",
       "  </tbody>\n",
       "</table>\n",
       "</div>"
      ],
      "text/plain": [
       "          sat_part_2017  sat_part_2018\n",
       "state                                 \n",
       "Colorado             11            100\n",
       "Idaho                93            100"
      ]
     },
     "execution_count": 84,
     "metadata": {},
     "output_type": "execute_result"
    }
   ],
   "source": [
    "# Year-to-year changes in states with 100% SAT participation in 2018\n",
    "state_100sat2018 = final.loc[(final[\"sat_part_2018\"] == 100) & (final[\"sat_part_2017\"] != 100)].index\n",
    "final.loc[state_100sat2018, [\"sat_part_2017\",\"sat_part_2018\"]]"
   ]
  },
  {
   "cell_type": "markdown",
   "metadata": {},
   "source": [
    "### <span style=\"color:red\">ACT participation changes</span>\n",
    "- 17 states which had 100% ACT participation in 2017 continued to do so for the 2018 ACT.\n",
    "- 2 new states (Nebraska, Ohio), managed to achieve full 100% participation rate in the 2018 ACT, despite not being able to do so in 2017."
   ]
  },
  {
   "cell_type": "code",
   "execution_count": 85,
   "metadata": {},
   "outputs": [
    {
     "data": {
      "text/html": [
       "<div>\n",
       "<style scoped>\n",
       "    .dataframe tbody tr th:only-of-type {\n",
       "        vertical-align: middle;\n",
       "    }\n",
       "\n",
       "    .dataframe tbody tr th {\n",
       "        vertical-align: top;\n",
       "    }\n",
       "\n",
       "    .dataframe thead th {\n",
       "        text-align: right;\n",
       "    }\n",
       "</style>\n",
       "<table border=\"1\" class=\"dataframe\">\n",
       "  <thead>\n",
       "    <tr style=\"text-align: right;\">\n",
       "      <th></th>\n",
       "      <th>act_part_2017</th>\n",
       "      <th>act_part_2018</th>\n",
       "    </tr>\n",
       "    <tr>\n",
       "      <th>state</th>\n",
       "      <th></th>\n",
       "      <th></th>\n",
       "    </tr>\n",
       "  </thead>\n",
       "  <tbody>\n",
       "    <tr>\n",
       "      <th>Alabama</th>\n",
       "      <td>100</td>\n",
       "      <td>100</td>\n",
       "    </tr>\n",
       "    <tr>\n",
       "      <th>Arkansas</th>\n",
       "      <td>100</td>\n",
       "      <td>100</td>\n",
       "    </tr>\n",
       "    <tr>\n",
       "      <th>Colorado</th>\n",
       "      <td>100</td>\n",
       "      <td>30</td>\n",
       "    </tr>\n",
       "    <tr>\n",
       "      <th>Kentucky</th>\n",
       "      <td>100</td>\n",
       "      <td>100</td>\n",
       "    </tr>\n",
       "    <tr>\n",
       "      <th>Louisiana</th>\n",
       "      <td>100</td>\n",
       "      <td>100</td>\n",
       "    </tr>\n",
       "    <tr>\n",
       "      <th>Minnesota</th>\n",
       "      <td>100</td>\n",
       "      <td>99</td>\n",
       "    </tr>\n",
       "    <tr>\n",
       "      <th>Mississippi</th>\n",
       "      <td>100</td>\n",
       "      <td>100</td>\n",
       "    </tr>\n",
       "    <tr>\n",
       "      <th>Missouri</th>\n",
       "      <td>100</td>\n",
       "      <td>100</td>\n",
       "    </tr>\n",
       "    <tr>\n",
       "      <th>Montana</th>\n",
       "      <td>100</td>\n",
       "      <td>100</td>\n",
       "    </tr>\n",
       "    <tr>\n",
       "      <th>Nevada</th>\n",
       "      <td>100</td>\n",
       "      <td>100</td>\n",
       "    </tr>\n",
       "    <tr>\n",
       "      <th>North Carolina</th>\n",
       "      <td>100</td>\n",
       "      <td>100</td>\n",
       "    </tr>\n",
       "    <tr>\n",
       "      <th>Oklahoma</th>\n",
       "      <td>100</td>\n",
       "      <td>100</td>\n",
       "    </tr>\n",
       "    <tr>\n",
       "      <th>South Carolina</th>\n",
       "      <td>100</td>\n",
       "      <td>100</td>\n",
       "    </tr>\n",
       "    <tr>\n",
       "      <th>Tennessee</th>\n",
       "      <td>100</td>\n",
       "      <td>100</td>\n",
       "    </tr>\n",
       "    <tr>\n",
       "      <th>Utah</th>\n",
       "      <td>100</td>\n",
       "      <td>100</td>\n",
       "    </tr>\n",
       "    <tr>\n",
       "      <th>Wisconsin</th>\n",
       "      <td>100</td>\n",
       "      <td>100</td>\n",
       "    </tr>\n",
       "    <tr>\n",
       "      <th>Wyoming</th>\n",
       "      <td>100</td>\n",
       "      <td>100</td>\n",
       "    </tr>\n",
       "  </tbody>\n",
       "</table>\n",
       "</div>"
      ],
      "text/plain": [
       "                act_part_2017  act_part_2018\n",
       "state                                       \n",
       "Alabama                   100            100\n",
       "Arkansas                  100            100\n",
       "Colorado                  100             30\n",
       "Kentucky                  100            100\n",
       "Louisiana                 100            100\n",
       "Minnesota                 100             99\n",
       "Mississippi               100            100\n",
       "Missouri                  100            100\n",
       "Montana                   100            100\n",
       "Nevada                    100            100\n",
       "North Carolina            100            100\n",
       "Oklahoma                  100            100\n",
       "South Carolina            100            100\n",
       "Tennessee                 100            100\n",
       "Utah                      100            100\n",
       "Wisconsin                 100            100\n",
       "Wyoming                   100            100"
      ]
     },
     "execution_count": 85,
     "metadata": {},
     "output_type": "execute_result"
    }
   ],
   "source": [
    "# Year-to-year changes in states with 100% ACT participation in 2017\n",
    "state_100act2017 = final.loc[final[\"act_part_2017\"] == 100].index\n",
    "\n",
    "final.loc[state_100act2017,[\"act_part_2017\",\"act_part_2018\"]]"
   ]
  },
  {
   "cell_type": "code",
   "execution_count": 86,
   "metadata": {},
   "outputs": [
    {
     "data": {
      "text/html": [
       "<div>\n",
       "<style scoped>\n",
       "    .dataframe tbody tr th:only-of-type {\n",
       "        vertical-align: middle;\n",
       "    }\n",
       "\n",
       "    .dataframe tbody tr th {\n",
       "        vertical-align: top;\n",
       "    }\n",
       "\n",
       "    .dataframe thead th {\n",
       "        text-align: right;\n",
       "    }\n",
       "</style>\n",
       "<table border=\"1\" class=\"dataframe\">\n",
       "  <thead>\n",
       "    <tr style=\"text-align: right;\">\n",
       "      <th></th>\n",
       "      <th>act_part_2017</th>\n",
       "      <th>act_part_2018</th>\n",
       "    </tr>\n",
       "    <tr>\n",
       "      <th>state</th>\n",
       "      <th></th>\n",
       "      <th></th>\n",
       "    </tr>\n",
       "  </thead>\n",
       "  <tbody>\n",
       "    <tr>\n",
       "      <th>Nebraska</th>\n",
       "      <td>84</td>\n",
       "      <td>100</td>\n",
       "    </tr>\n",
       "    <tr>\n",
       "      <th>Ohio</th>\n",
       "      <td>75</td>\n",
       "      <td>100</td>\n",
       "    </tr>\n",
       "  </tbody>\n",
       "</table>\n",
       "</div>"
      ],
      "text/plain": [
       "          act_part_2017  act_part_2018\n",
       "state                                 \n",
       "Nebraska             84            100\n",
       "Ohio                 75            100"
      ]
     },
     "execution_count": 86,
     "metadata": {},
     "output_type": "execute_result"
    }
   ],
   "source": [
    "# Year-to-year changes in states with 100% ACT participation in 2018\n",
    "state_100act2018 = final.loc[(final[\"act_part_2018\"] == 100) & (final[\"act_part_2017\"] != 100)].index\n",
    "\n",
    "final.loc[state_100act2018,[\"act_part_2017\",\"act_part_2018\"]]"
   ]
  },
  {
   "cell_type": "markdown",
   "metadata": {},
   "source": [
    " "
   ]
  },
  {
   "cell_type": "markdown",
   "metadata": {},
   "source": [
    "### Q4: Do any states achieve >50% test participation in both SAT/ACT in 2017-2018?"
   ]
  },
  {
   "cell_type": "markdown",
   "metadata": {},
   "source": [
    "### <span style=\"color:red\">States with more than 50% SAT/ACT participation</span>\n",
    "- 2017: Florida, Georgia, Hawaii, South Carolina\n",
    "- 2018: Florida, Georgia, Hawaii, North Carolina, South Carolina"
   ]
  },
  {
   "cell_type": "code",
   "execution_count": 87,
   "metadata": {},
   "outputs": [
    {
     "data": {
      "text/html": [
       "<div>\n",
       "<style scoped>\n",
       "    .dataframe tbody tr th:only-of-type {\n",
       "        vertical-align: middle;\n",
       "    }\n",
       "\n",
       "    .dataframe tbody tr th {\n",
       "        vertical-align: top;\n",
       "    }\n",
       "\n",
       "    .dataframe thead th {\n",
       "        text-align: right;\n",
       "    }\n",
       "</style>\n",
       "<table border=\"1\" class=\"dataframe\">\n",
       "  <thead>\n",
       "    <tr style=\"text-align: right;\">\n",
       "      <th></th>\n",
       "      <th>sat_part_2017</th>\n",
       "      <th>act_part_2017</th>\n",
       "    </tr>\n",
       "    <tr>\n",
       "      <th>state</th>\n",
       "      <th></th>\n",
       "      <th></th>\n",
       "    </tr>\n",
       "  </thead>\n",
       "  <tbody>\n",
       "    <tr>\n",
       "      <th>Florida</th>\n",
       "      <td>83</td>\n",
       "      <td>73</td>\n",
       "    </tr>\n",
       "    <tr>\n",
       "      <th>Georgia</th>\n",
       "      <td>61</td>\n",
       "      <td>55</td>\n",
       "    </tr>\n",
       "    <tr>\n",
       "      <th>Hawaii</th>\n",
       "      <td>55</td>\n",
       "      <td>90</td>\n",
       "    </tr>\n",
       "    <tr>\n",
       "      <th>South Carolina</th>\n",
       "      <td>50</td>\n",
       "      <td>100</td>\n",
       "    </tr>\n",
       "  </tbody>\n",
       "</table>\n",
       "</div>"
      ],
      "text/plain": [
       "                sat_part_2017  act_part_2017\n",
       "state                                       \n",
       "Florida                    83             73\n",
       "Georgia                    61             55\n",
       "Hawaii                     55             90\n",
       "South Carolina             50            100"
      ]
     },
     "execution_count": 87,
     "metadata": {},
     "output_type": "execute_result"
    }
   ],
   "source": [
    "# States with more than 50% SAT/ACT participation in 2017\n",
    "final.loc[(final[\"sat_part_2017\"] >= 50) & (final[\"act_part_2017\"] >= 50), [\"sat_part_2017\", \"act_part_2017\"]]"
   ]
  },
  {
   "cell_type": "code",
   "execution_count": 88,
   "metadata": {},
   "outputs": [
    {
     "data": {
      "text/html": [
       "<div>\n",
       "<style scoped>\n",
       "    .dataframe tbody tr th:only-of-type {\n",
       "        vertical-align: middle;\n",
       "    }\n",
       "\n",
       "    .dataframe tbody tr th {\n",
       "        vertical-align: top;\n",
       "    }\n",
       "\n",
       "    .dataframe thead th {\n",
       "        text-align: right;\n",
       "    }\n",
       "</style>\n",
       "<table border=\"1\" class=\"dataframe\">\n",
       "  <thead>\n",
       "    <tr style=\"text-align: right;\">\n",
       "      <th></th>\n",
       "      <th>sat_part_2018</th>\n",
       "      <th>act_part_2018</th>\n",
       "    </tr>\n",
       "    <tr>\n",
       "      <th>state</th>\n",
       "      <th></th>\n",
       "      <th></th>\n",
       "    </tr>\n",
       "  </thead>\n",
       "  <tbody>\n",
       "    <tr>\n",
       "      <th>Florida</th>\n",
       "      <td>97</td>\n",
       "      <td>66</td>\n",
       "    </tr>\n",
       "    <tr>\n",
       "      <th>Georgia</th>\n",
       "      <td>70</td>\n",
       "      <td>53</td>\n",
       "    </tr>\n",
       "    <tr>\n",
       "      <th>Hawaii</th>\n",
       "      <td>56</td>\n",
       "      <td>89</td>\n",
       "    </tr>\n",
       "    <tr>\n",
       "      <th>North Carolina</th>\n",
       "      <td>52</td>\n",
       "      <td>100</td>\n",
       "    </tr>\n",
       "    <tr>\n",
       "      <th>South Carolina</th>\n",
       "      <td>55</td>\n",
       "      <td>100</td>\n",
       "    </tr>\n",
       "  </tbody>\n",
       "</table>\n",
       "</div>"
      ],
      "text/plain": [
       "                sat_part_2018  act_part_2018\n",
       "state                                       \n",
       "Florida                    97             66\n",
       "Georgia                    70             53\n",
       "Hawaii                     56             89\n",
       "North Carolina             52            100\n",
       "South Carolina             55            100"
      ]
     },
     "execution_count": 88,
     "metadata": {},
     "output_type": "execute_result"
    }
   ],
   "source": [
    "# States with more than 50% SAT/ACT participation in 2018\n",
    "final.loc[(final[\"sat_part_2018\"] >= 50) & (final[\"act_part_2018\"] >= 50), [\"sat_part_2018\", \"act_part_2018\"]]"
   ]
  },
  {
   "cell_type": "markdown",
   "metadata": {},
   "source": [
    " "
   ]
  },
  {
   "cell_type": "markdown",
   "metadata": {},
   "source": [
    "## Data Visualization"
   ]
  },
  {
   "cell_type": "markdown",
   "metadata": {},
   "source": [
    "There's not a magic bullet recommendation for the right number of plots to understand a given dataset, but visualizing your data is *always* a good idea. Not only does it allow you to quickly convey your findings (even if you have a non-technical audience), it will often reveal trends in your data that escaped you when you were looking only at numbers.\n",
    "\n",
    "Some recommendations on plotting:\n",
    "- Plots have titles\n",
    "- Plots have axis labels\n",
    "- Plots have appropriate tick labels\n",
    "- All text is legible in a plot\n",
    "- Plots demonstrate meaningful and valid relationships\n",
    "- Plots are interpreted to aid understanding\n",
    "\n",
    "There is such a thing as too many plots, and there are a *lot* of bad plots. You might make some! (But hopefully not with the guided prompts below)."
   ]
  },
  {
   "cell_type": "markdown",
   "metadata": {},
   "source": [
    "### Use Seaborn's heatmap with pandas `.corr()` to visualize correlations between all numeric features\n",
    "\n",
    "Heatmaps are generally not appropriate for presentations, and should often be excluded from reports as they can be visually overwhelming. **However**, they can be extremely useful in identify relationships of potential interest (as well as identifying potential collinearity before modeling).\n",
    "\n",
    "*example*:\n",
    "```python\n",
    "sns.heatmap(df.corr())\n",
    "```\n",
    "\n",
    "Please take time to format your output, adding a title. Look through some of the additional arguments and options. (Axis labels aren't really necessary, as long as the title is informative)."
   ]
  },
  {
   "cell_type": "code",
   "execution_count": 89,
   "metadata": {},
   "outputs": [
    {
     "data": {
      "image/png": "[encoded data removed]",
      "text/plain": [
       "<Figure size 1080x720 with 2 Axes>"
      ]
     },
     "metadata": {
      "needs_background": "light"
     },
     "output_type": "display_data"
    }
   ],
   "source": [
    "# Setting the figure size\n",
    "plt.subplots(figsize=(15,10))\n",
    "plt.title(\"Correlation Heatmap of SAT/ACT scores from 2017-2018\", fontsize = 20)\n",
    "\n",
    "# Creating the mask\n",
    "mask = np.zeros_like(final.corr(), dtype=np.bool)\n",
    "mask[np.triu_indices_from(mask)] = True\n",
    "\n",
    "# Plotting the correlation heatmap\n",
    "graph = sns.heatmap(final.corr(), mask=mask, annot=True, annot_kws={\"size\":10}, vmin=-1, vmax=1, cmap=\"Blues\");"
   ]
  },
  {
   "cell_type": "markdown",
   "metadata": {},
   "source": [
    "### Define a custom function to subplot histograms\n",
    "\n",
    "We have data for two tests for two years. We only have composite (and not subtest scores) for the 2018 ACT. We should write a function that will take the names of 2+ columns and subplot histograms. While you can use pandas plotting or Seaborn here, matplotlib gives you greater control over all aspects of your plots.\n",
    "\n",
    "[Helpful Link for Plotting Multiple Figures](https://matplotlib.org/users/pyplot_tutorial.html#working-with-multiple-figures-and-axes)\n",
    "\n",
    "Here's some starter code:"
   ]
  },
  {
   "cell_type": "code",
   "execution_count": 90,
   "metadata": {},
   "outputs": [],
   "source": [
    "def subplot_histograms(dataframe, list_of_columns, list_of_titles, list_of_xlabels):\n",
    "    nrows = int(np.ceil(len(list_of_columns)/2)) # Makes sure you have enough rows\n",
    "    fig, ax = plt.subplots(nrows=nrows, ncols=2, figsize=(12, 8)) # You'll want to specify your figsize\n",
    "    plt.subplots_adjust(left=None, bottom=None, right=None, top=None, wspace=None, hspace=0.4)\n",
    "    \n",
    "    ax = ax.ravel() # Ravel turns a matrix into a vector, which is easier to iterate\n",
    "    \n",
    "    for i, column in enumerate(list_of_columns): # Gives us an index value to get into all our lists\n",
    "        ax[i].hist(dataframe[column], bins=10) # feel free to add more settings\n",
    "        ax[i].set_title(list_of_titles[i], fontsize =18)\n",
    "        ax[i].set_ylabel('No. of States',fontsize=12)\n",
    "        ax[i].set_xlabel(list_of_xlabels,fontsize=12)\n",
    "        ax[i].locator_params(axis='y', integer=True)"
   ]
  },
  {
   "cell_type": "markdown",
   "metadata": {},
   "source": [
    "### Plot and interpret histograms \n",
    "For each of the following:\n",
    "- Participation rates for SAT & ACT\n",
    "- Math scores for SAT & ACT\n",
    "- Reading/verbal scores for SAT & ACT"
   ]
  },
  {
   "cell_type": "markdown",
   "metadata": {},
   "source": [
    "### <span style=\"color:red\">Participation rates for SAT and ACT</span>\n",
    "\n",
    "- **SAT**: State participation for SAT ranges widely from single-digit to 100% enrollment. From the SAT histogram, it can be observed that there is a sizable portion of states that have poor SAT participation rates.\n",
    "\n",
    "- **ACT**: From the ACT histogram, ACT participation also ranges widely from single-digit to 100% enrollment. However, it is observed that more US states have full 100% ACT participation."
   ]
  },
  {
   "cell_type": "code",
   "execution_count": 91,
   "metadata": {},
   "outputs": [
    {
     "data": {
      "image/png": "[encoded data removed]",
      "text/plain": [
       "<Figure size 864x576 with 4 Axes>"
      ]
     },
     "metadata": {
      "needs_background": "light"
     },
     "output_type": "display_data"
    }
   ],
   "source": [
    "subplot_histograms(final, [\"sat_part_2017\", \"sat_part_2018\", \"act_part_2017\", \"act_part_2017\"],\n",
    "                   [\"State participation in SAT 2017\", \"State participation in SAT 2018\", \n",
    "                    \"State participation in ACT 2017\", \"State participation in ACT 2018\" ],\n",
    "                   \"Participation rate\")"
   ]
  },
  {
   "cell_type": "markdown",
   "metadata": {},
   "source": [
    "### <span style=\"color:red\">Math scores for SAT and ACT</span>\n",
    "\n",
    "- **SAT**: Math scores range from approximately 500-650. Distribution of math scores is not normal, and appear to be bimodal.\n",
    "\n",
    "- **ACT**: Math scores range from around 18-25. Similar to SAT, the distribution of ACT math scores is not nomal, an appears to be bimodally distributed."
   ]
  },
  {
   "cell_type": "code",
   "execution_count": 92,
   "metadata": {},
   "outputs": [
    {
     "data": {
      "image/png": "[encoded data removed]",
      "text/plain": [
       "<Figure size 864x576 with 4 Axes>"
      ]
     },
     "metadata": {
      "needs_background": "light"
     },
     "output_type": "display_data"
    }
   ],
   "source": [
    "subplot_histograms(final, [\"sat_math_2017\", \"sat_math_2018\", \"act_math_2017\", \"act_math_2017\"],\n",
    "                   [\"SAT Math 2017\", \"SAT Math 2018\", \"ACT Math 2017\", \"ACT Math 2018\"],\n",
    "                   \"Average Score\")"
   ]
  },
  {
   "cell_type": "markdown",
   "metadata": {},
   "source": [
    "### <span style=\"color:red\">Reading/Verbal scores for SAT and ACT</span>\n",
    "- **SAT**: EBRW scores range from approximately 500-650. Distribution of these scores appears to be bimodal in nature.\n",
    "\n",
    "- **ACT**: English scores range from 16-25, while Reading scores range from 18-26. The distribution in this case does not appear to be normal."
   ]
  },
  {
   "cell_type": "code",
   "execution_count": 93,
   "metadata": {},
   "outputs": [
    {
     "data": {
      "image/png": "[encoded data removed]",
      "text/plain": [
       "<Figure size 864x576 with 4 Axes>"
      ]
     },
     "metadata": {
      "needs_background": "light"
     },
     "output_type": "display_data"
    }
   ],
   "source": [
    "subplot_histograms(final, [\"sat_ebrw_2017\", \"sat_ebrw_2018\", \"act_eng_2017\", \"act_read_2017\"],\n",
    "                   [\"SAT EBRW 2017\", \"SAT EBRW 2018\", \"ACT English 2017\", \"ACT Reading 2017\"],\n",
    "                   \"Average Score\")"
   ]
  },
  {
   "cell_type": "markdown",
   "metadata": {},
   "source": [
    "### Plot and interpret scatter plots\n",
    "\n",
    "For each of the following:\n",
    "- SAT vs. ACT math scores for 2017\n",
    "- SAT vs. ACT verbal/reading scores for 2017\n",
    "- SAT vs. ACT total/composite scores for 2017\n",
    "- Total scores for SAT 2017 vs. 2018\n",
    "- Composite scores for ACT 2017 vs. 2018\n",
    "\n",
    "Plot the two variables against each other using matplotlib or Seaborn\n",
    "\n",
    "Your plots should show:\n",
    "- Two clearly labeled axes\n",
    "- A proper title\n",
    "- Using colors and symbols that are clear and unmistakable\n",
    "\n",
    "**Feel free to write a custom function, and subplot if you'd like.** Functions save both time and space.\n"
   ]
  },
  {
   "cell_type": "code",
   "execution_count": 94,
   "metadata": {},
   "outputs": [],
   "source": [
    "def scatter(dataframe, x_data, y_data):\n",
    "    nrows = int(np.ceil(len(x_data)/2)) # Makes sure you have enough rows\n",
    "    fig, ax = plt.subplots(nrows=nrows, ncols=2, figsize=(15,5*nrows)) # You'll want to specify your figsize\n",
    "    plt.subplots_adjust(left=None, bottom=None, right=None, top=None, wspace=None, hspace=0.4)\n",
    "    \n",
    "    ax = ax.ravel() # Ravel turns a matrix into a vector, which is easier to iterate\n",
    "\n",
    "    if len(x_data) %2 !=0:   # Removes any empty boxes\n",
    "        ax[len(x_data)].set_visible(False)\n",
    "                \n",
    "    for i in range(len(x_data)): # Gives us an index value to get into all our lists\n",
    "        sns.scatterplot(data=dataframe, x=x_data[i], y=y_data[i], ax = ax[i])\n",
    "        ax[i].set_title(str(x_data[i] + \" vs. \" + str(y_data[i])), fontsize =18)\n",
    "        ax[i].set_ylabel(str(y_data[i]) + \" scores\", fontsize=12)\n",
    "        ax[i].set_xlabel(str(x_data[i]) + \" scores\", fontsize=12)\n",
    "        ax[i].locator_params(axis='y', integer=True)"
   ]
  },
  {
   "cell_type": "markdown",
   "metadata": {},
   "source": [
    "### <span style=\"color:red\">Using Scatterplot to interprete data</span>"
   ]
  },
  {
   "cell_type": "markdown",
   "metadata": {},
   "source": [
    "#### <span style=\"color:red\">SAT vs ACT Math/Verbal scores in 2017</span>\n",
    "- No discernable relationships were observed between the 1) SAT/ACT Math, or 2) SAT/ACT Verbal-Reading scores using the Scatterplot visualization method."
   ]
  },
  {
   "cell_type": "code",
   "execution_count": 95,
   "metadata": {},
   "outputs": [
    {
     "data": {
      "image/png": "[encoded data removed]",
      "text/plain": [
       "<Figure size 1080x720 with 4 Axes>"
      ]
     },
     "metadata": {
      "needs_background": "light"
     },
     "output_type": "display_data"
    }
   ],
   "source": [
    "scatter(final,[\"sat_math_2017\", \"sat_ebrw_2017\", \"sat_ebrw_2017\"], [\"act_math_2017\",\"act_read_2017\", \"act_eng_2017\"])"
   ]
  },
  {
   "cell_type": "markdown",
   "metadata": {},
   "source": [
    "#### <span style=\"color:red\">SAT vs ACT Total scores in 2017</span>\n",
    "- Similar to the comparison between SAT/ACT individual components, no discernable relationships were found when comparing the total SAT vs ACT scores."
   ]
  },
  {
   "cell_type": "code",
   "execution_count": 96,
   "metadata": {},
   "outputs": [
    {
     "data": {
      "image/png": "[encoded data removed]",
      "text/plain": [
       "<Figure size 1080x360 with 2 Axes>"
      ]
     },
     "metadata": {
      "needs_background": "light"
     },
     "output_type": "display_data"
    }
   ],
   "source": [
    "scatter(final,[\"sat_total_2017\"], [\"act_comp_2017\"])"
   ]
  },
  {
   "cell_type": "markdown",
   "metadata": {},
   "source": [
    "#### <span style=\"color:red\">SAT 2017 vs SAT 2018 Total Scores</span>\n",
    "- As expected, a linear relationship is observed between a state's SAT 2017 and SAT 2018 total scores. Interestingly, the scatterplot has revealed several states which have done well in 2017, but failed to continue doing so in 2018."
   ]
  },
  {
   "cell_type": "code",
   "execution_count": 97,
   "metadata": {},
   "outputs": [
    {
     "data": {
      "image/png": "[encoded data removed]",
      "text/plain": [
       "<Figure size 1080x360 with 2 Axes>"
      ]
     },
     "metadata": {
      "needs_background": "light"
     },
     "output_type": "display_data"
    }
   ],
   "source": [
    "scatter(final,[\"sat_total_2017\"], [\"sat_total_2018\"])"
   ]
  },
  {
   "cell_type": "markdown",
   "metadata": {},
   "source": [
    "#### <span style=\"color:red\">ACT 2017 vs ACT 2018 Total Scores</span>\n",
    "- A linear relationship is also observed between a state's ACT 2017 and ACT 2018 composite score. Two states were found to have an improved composite score in 2018."
   ]
  },
  {
   "cell_type": "code",
   "execution_count": 98,
   "metadata": {},
   "outputs": [
    {
     "data": {
      "image/png": "[encoded data removed]",
      "text/plain": [
       "<Figure size 1080x360 with 2 Axes>"
      ]
     },
     "metadata": {
      "needs_background": "light"
     },
     "output_type": "display_data"
    }
   ],
   "source": [
    "scatter(final,[\"act_comp_2017\"], [\"act_comp_2018\"])"
   ]
  },
  {
   "cell_type": "markdown",
   "metadata": {},
   "source": [
    " "
   ]
  },
  {
   "cell_type": "markdown",
   "metadata": {},
   "source": [
    " "
   ]
  },
  {
   "cell_type": "markdown",
   "metadata": {},
   "source": [
    "### Plot and interpret boxplots\n",
    "\n",
    "For each numeric variable in the dataframe create a boxplot using Seaborn. Boxplots demonstrate central tendency and spread in variables. In a certain sense, these are somewhat redundant with histograms, but you may be better able to identify clear outliers or differences in IQR, etc.\n",
    "\n",
    "Multiple values can be plotted to a single boxplot as long as they are of the same relative scale (meaning they have similar min/max values).\n",
    "\n",
    "Each boxplot should:\n",
    "- Only include variables of a similar scale\n",
    "- Have clear labels for each variable\n",
    "- Have appropriate titles and labels"
   ]
  },
  {
   "cell_type": "markdown",
   "metadata": {},
   "source": [
    "### <span style=\"color:red\">Boxplot for ACT vs SAT data</span>\n",
    "- From the boxplot, it can be observed that ACT participation rates tends to be higher than those of SAT.\n",
    "- While the interquartile range for SAT and ACT test scores covers the same region, it can be observed that the median ACT test scores are also higher than the median SAT test scores."
   ]
  },
  {
   "cell_type": "code",
   "execution_count": 99,
   "metadata": {},
   "outputs": [
    {
     "data": {
      "image/png": "[encoded data removed]",
      "text/plain": [
       "<Figure size 1080x576 with 1 Axes>"
      ]
     },
     "metadata": {
      "needs_background": "light"
     },
     "output_type": "display_data"
    }
   ],
   "source": [
    "fig, ax = plt.subplots(figsize=(15,8))\n",
    "\n",
    "# Normalizing the dataset using each column[x] min-max\n",
    "normalized = pd.DataFrame([(final[x]-final[x].min())/ (final[x].max()-final[x].min()) for x in final]).T\n",
    "\n",
    "sns.boxplot(data=normalized, width = 0.5, orient = \"h\")\n",
    "plt.title(\"Normalized ACT and SAT participation/scores from 2017-2018\",fontsize=20);"
   ]
  },
  {
   "cell_type": "markdown",
   "metadata": {},
   "source": [
    "#### Feel free to do additional plots below\n",
    "*(do research and choose your own chart types & variables)*\n",
    "\n",
    "Are there any additional trends or relationships you haven't explored? Was there something interesting you saw that you'd like to dive further into? It's likely that there are a few more plots you might want to generate to support your narrative and recommendations that you are building toward. **As always, make sure you're interpreting your plots as you go**."
   ]
  },
  {
   "cell_type": "markdown",
   "metadata": {},
   "source": [
    "#### (Optional): Using Tableau, create a choropleth map for each variable using a map of the US. \n",
    "\n",
    "Save this plot as an image file in an images directory, provide a relative path, and insert the image into notebook in markdown."
   ]
  },
  {
   "cell_type": "markdown",
   "metadata": {},
   "source": [
    " "
   ]
  },
  {
   "cell_type": "markdown",
   "metadata": {},
   "source": [
    "## Descriptive and Inferential Statistics"
   ]
  },
  {
   "cell_type": "markdown",
   "metadata": {},
   "source": [
    "#### Summarizing Distributions\n",
    "\n",
    "Above, we used pandas `describe` to provide quick summary statistics of our numeric columns. We also demonstrated many visual relationships.\n",
    "\n",
    "As data scientists, having a complete understanding of data is imperative prior to modeling.\n",
    "\n",
    "While we will continue to build our analytic tools, we know that measures of *central tendency*, *spread*, and *shape/skewness* provide a quick summary of distributions.\n",
    "\n",
    "For each variable in your data, summarize the underlying distributions (in words & statistics)\n",
    " - Be thorough in your verbal description of these distributions.\n",
    " - Be sure to back up these summaries with statistics."
   ]
  },
  {
   "cell_type": "markdown",
   "metadata": {},
   "source": [
    "### <span style=\"color:red\">Numerical statistical values for SAT/ACT data</span>\n",
    "\n",
    "- The table below will summarize the statistics on mean, median, standard deviation, Inner Quartile Range, Min/Max, and skew. Normality testing using the **Shapiro-Wilk Test** will be used to determine if our SAT/ACT distributions are normally distributed. "
   ]
  },
  {
   "cell_type": "code",
   "execution_count": 100,
   "metadata": {},
   "outputs": [],
   "source": [
    "# Calculating the normality of our SAT/ACT data using the Shapiro-Wilk test\n",
    "\n",
    "normal = []\n",
    "pval = []\n",
    "\n",
    "for x in final:\n",
    "    stat, p_value = stats.shapiro(final[x])\n",
    "    if p_value < 0.05:        \n",
    "        normal.append(\"No\")\n",
    "        pval.append(p_value)\n",
    "    else:\n",
    "        normal.append(\"Yes\")\n",
    "        pval.append(p_value)"
   ]
  },
  {
   "cell_type": "code",
   "execution_count": 101,
   "metadata": {},
   "outputs": [
    {
     "data": {
      "text/html": [
       "<div>\n",
       "<style scoped>\n",
       "    .dataframe tbody tr th:only-of-type {\n",
       "        vertical-align: middle;\n",
       "    }\n",
       "\n",
       "    .dataframe tbody tr th {\n",
       "        vertical-align: top;\n",
       "    }\n",
       "\n",
       "    .dataframe thead th {\n",
       "        text-align: right;\n",
       "    }\n",
       "</style>\n",
       "<table border=\"1\" class=\"dataframe\">\n",
       "  <thead>\n",
       "    <tr style=\"text-align: right;\">\n",
       "      <th></th>\n",
       "      <th>mean</th>\n",
       "      <th>50%</th>\n",
       "      <th>std</th>\n",
       "      <th>25%</th>\n",
       "      <th>75%</th>\n",
       "      <th>min</th>\n",
       "      <th>max</th>\n",
       "      <th>skew</th>\n",
       "      <th>normal_dist</th>\n",
       "      <th>p_value</th>\n",
       "    </tr>\n",
       "  </thead>\n",
       "  <tbody>\n",
       "    <tr>\n",
       "      <th>sat_part_2017</th>\n",
       "      <td>38.600</td>\n",
       "      <td>34.00</td>\n",
       "      <td>34.560211</td>\n",
       "      <td>4.000</td>\n",
       "      <td>65.000</td>\n",
       "      <td>2.0</td>\n",
       "      <td>100.0</td>\n",
       "      <td>0.372844</td>\n",
       "      <td>No</td>\n",
       "      <td>0.000019</td>\n",
       "    </tr>\n",
       "    <tr>\n",
       "      <th>sat_ebrw_2017</th>\n",
       "      <td>570.860</td>\n",
       "      <td>559.50</td>\n",
       "      <td>44.385146</td>\n",
       "      <td>535.250</td>\n",
       "      <td>613.500</td>\n",
       "      <td>503.0</td>\n",
       "      <td>644.0</td>\n",
       "      <td>0.341324</td>\n",
       "      <td>No</td>\n",
       "      <td>0.000618</td>\n",
       "    </tr>\n",
       "    <tr>\n",
       "      <th>sat_math_2017</th>\n",
       "      <td>558.660</td>\n",
       "      <td>549.50</td>\n",
       "      <td>45.839832</td>\n",
       "      <td>524.000</td>\n",
       "      <td>601.000</td>\n",
       "      <td>492.0</td>\n",
       "      <td>651.0</td>\n",
       "      <td>0.438667</td>\n",
       "      <td>No</td>\n",
       "      <td>0.007150</td>\n",
       "    </tr>\n",
       "    <tr>\n",
       "      <th>sat_total_2017</th>\n",
       "      <td>1129.620</td>\n",
       "      <td>1107.50</td>\n",
       "      <td>89.913085</td>\n",
       "      <td>1057.000</td>\n",
       "      <td>1214.000</td>\n",
       "      <td>996.0</td>\n",
       "      <td>1295.0</td>\n",
       "      <td>0.382887</td>\n",
       "      <td>No</td>\n",
       "      <td>0.002126</td>\n",
       "    </tr>\n",
       "    <tr>\n",
       "      <th>act_part_2017</th>\n",
       "      <td>65.920</td>\n",
       "      <td>71.00</td>\n",
       "      <td>32.110676</td>\n",
       "      <td>31.000</td>\n",
       "      <td>100.000</td>\n",
       "      <td>8.0</td>\n",
       "      <td>100.0</td>\n",
       "      <td>-0.243889</td>\n",
       "      <td>No</td>\n",
       "      <td>0.000008</td>\n",
       "    </tr>\n",
       "    <tr>\n",
       "      <th>act_eng_2017</th>\n",
       "      <td>20.862</td>\n",
       "      <td>20.55</td>\n",
       "      <td>2.324307</td>\n",
       "      <td>19.000</td>\n",
       "      <td>23.100</td>\n",
       "      <td>16.3</td>\n",
       "      <td>25.5</td>\n",
       "      <td>0.396624</td>\n",
       "      <td>No</td>\n",
       "      <td>0.033479</td>\n",
       "    </tr>\n",
       "    <tr>\n",
       "      <th>act_math_2017</th>\n",
       "      <td>21.136</td>\n",
       "      <td>20.90</td>\n",
       "      <td>1.973990</td>\n",
       "      <td>19.400</td>\n",
       "      <td>23.000</td>\n",
       "      <td>18.0</td>\n",
       "      <td>25.3</td>\n",
       "      <td>0.382885</td>\n",
       "      <td>No</td>\n",
       "      <td>0.045031</td>\n",
       "    </tr>\n",
       "    <tr>\n",
       "      <th>act_read_2017</th>\n",
       "      <td>21.956</td>\n",
       "      <td>21.70</td>\n",
       "      <td>2.046317</td>\n",
       "      <td>20.425</td>\n",
       "      <td>23.875</td>\n",
       "      <td>18.1</td>\n",
       "      <td>26.0</td>\n",
       "      <td>0.312151</td>\n",
       "      <td>Yes</td>\n",
       "      <td>0.070063</td>\n",
       "    </tr>\n",
       "    <tr>\n",
       "      <th>act_sci_2017</th>\n",
       "      <td>21.410</td>\n",
       "      <td>21.30</td>\n",
       "      <td>1.731962</td>\n",
       "      <td>19.925</td>\n",
       "      <td>22.975</td>\n",
       "      <td>18.2</td>\n",
       "      <td>24.9</td>\n",
       "      <td>0.265099</td>\n",
       "      <td>Yes</td>\n",
       "      <td>0.132051</td>\n",
       "    </tr>\n",
       "    <tr>\n",
       "      <th>act_comp_2017</th>\n",
       "      <td>21.466</td>\n",
       "      <td>21.40</td>\n",
       "      <td>2.004241</td>\n",
       "      <td>19.800</td>\n",
       "      <td>23.400</td>\n",
       "      <td>17.8</td>\n",
       "      <td>25.5</td>\n",
       "      <td>0.367470</td>\n",
       "      <td>No</td>\n",
       "      <td>0.038854</td>\n",
       "    </tr>\n",
       "    <tr>\n",
       "      <th>sat_part_2018</th>\n",
       "      <td>45.720</td>\n",
       "      <td>50.00</td>\n",
       "      <td>37.838022</td>\n",
       "      <td>4.250</td>\n",
       "      <td>78.250</td>\n",
       "      <td>2.0</td>\n",
       "      <td>100.0</td>\n",
       "      <td>0.150830</td>\n",
       "      <td>No</td>\n",
       "      <td>0.000014</td>\n",
       "    </tr>\n",
       "    <tr>\n",
       "      <th>sat_ebrw_2018</th>\n",
       "      <td>565.020</td>\n",
       "      <td>552.00</td>\n",
       "      <td>47.010416</td>\n",
       "      <td>535.000</td>\n",
       "      <td>612.750</td>\n",
       "      <td>480.0</td>\n",
       "      <td>643.0</td>\n",
       "      <td>0.269446</td>\n",
       "      <td>No</td>\n",
       "      <td>0.003781</td>\n",
       "    </tr>\n",
       "    <tr>\n",
       "      <th>sat_math_2018</th>\n",
       "      <td>557.760</td>\n",
       "      <td>545.50</td>\n",
       "      <td>46.987432</td>\n",
       "      <td>524.250</td>\n",
       "      <td>594.250</td>\n",
       "      <td>486.0</td>\n",
       "      <td>655.0</td>\n",
       "      <td>0.558639</td>\n",
       "      <td>No</td>\n",
       "      <td>0.006012</td>\n",
       "    </tr>\n",
       "    <tr>\n",
       "      <th>sat_total_2018</th>\n",
       "      <td>1122.880</td>\n",
       "      <td>1098.50</td>\n",
       "      <td>92.845634</td>\n",
       "      <td>1062.250</td>\n",
       "      <td>1207.000</td>\n",
       "      <td>998.0</td>\n",
       "      <td>1298.0</td>\n",
       "      <td>0.478176</td>\n",
       "      <td>No</td>\n",
       "      <td>0.001347</td>\n",
       "    </tr>\n",
       "    <tr>\n",
       "      <th>act_part_2018</th>\n",
       "      <td>62.320</td>\n",
       "      <td>66.00</td>\n",
       "      <td>34.114118</td>\n",
       "      <td>27.750</td>\n",
       "      <td>100.000</td>\n",
       "      <td>7.0</td>\n",
       "      <td>100.0</td>\n",
       "      <td>-0.067772</td>\n",
       "      <td>No</td>\n",
       "      <td>0.000004</td>\n",
       "    </tr>\n",
       "    <tr>\n",
       "      <th>act_comp_2018</th>\n",
       "      <td>21.454</td>\n",
       "      <td>21.05</td>\n",
       "      <td>2.111312</td>\n",
       "      <td>19.925</td>\n",
       "      <td>23.650</td>\n",
       "      <td>17.7</td>\n",
       "      <td>25.6</td>\n",
       "      <td>0.318689</td>\n",
       "      <td>No</td>\n",
       "      <td>0.022896</td>\n",
       "    </tr>\n",
       "  </tbody>\n",
       "</table>\n",
       "</div>"
      ],
      "text/plain": [
       "                    mean      50%        std       25%       75%    min  \\\n",
       "sat_part_2017     38.600    34.00  34.560211     4.000    65.000    2.0   \n",
       "sat_ebrw_2017    570.860   559.50  44.385146   535.250   613.500  503.0   \n",
       "sat_math_2017    558.660   549.50  45.839832   524.000   601.000  492.0   \n",
       "sat_total_2017  1129.620  1107.50  89.913085  1057.000  1214.000  996.0   \n",
       "act_part_2017     65.920    71.00  32.110676    31.000   100.000    8.0   \n",
       "act_eng_2017      20.862    20.55   2.324307    19.000    23.100   16.3   \n",
       "act_math_2017     21.136    20.90   1.973990    19.400    23.000   18.0   \n",
       "act_read_2017     21.956    21.70   2.046317    20.425    23.875   18.1   \n",
       "act_sci_2017      21.410    21.30   1.731962    19.925    22.975   18.2   \n",
       "act_comp_2017     21.466    21.40   2.004241    19.800    23.400   17.8   \n",
       "sat_part_2018     45.720    50.00  37.838022     4.250    78.250    2.0   \n",
       "sat_ebrw_2018    565.020   552.00  47.010416   535.000   612.750  480.0   \n",
       "sat_math_2018    557.760   545.50  46.987432   524.250   594.250  486.0   \n",
       "sat_total_2018  1122.880  1098.50  92.845634  1062.250  1207.000  998.0   \n",
       "act_part_2018     62.320    66.00  34.114118    27.750   100.000    7.0   \n",
       "act_comp_2018     21.454    21.05   2.111312    19.925    23.650   17.7   \n",
       "\n",
       "                   max      skew normal_dist   p_value  \n",
       "sat_part_2017    100.0  0.372844          No  0.000019  \n",
       "sat_ebrw_2017    644.0  0.341324          No  0.000618  \n",
       "sat_math_2017    651.0  0.438667          No  0.007150  \n",
       "sat_total_2017  1295.0  0.382887          No  0.002126  \n",
       "act_part_2017    100.0 -0.243889          No  0.000008  \n",
       "act_eng_2017      25.5  0.396624          No  0.033479  \n",
       "act_math_2017     25.3  0.382885          No  0.045031  \n",
       "act_read_2017     26.0  0.312151         Yes  0.070063  \n",
       "act_sci_2017      24.9  0.265099         Yes  0.132051  \n",
       "act_comp_2017     25.5  0.367470          No  0.038854  \n",
       "sat_part_2018    100.0  0.150830          No  0.000014  \n",
       "sat_ebrw_2018    643.0  0.269446          No  0.003781  \n",
       "sat_math_2018    655.0  0.558639          No  0.006012  \n",
       "sat_total_2018  1298.0  0.478176          No  0.001347  \n",
       "act_part_2018    100.0 -0.067772          No  0.000004  \n",
       "act_comp_2018     25.6  0.318689          No  0.022896  "
      ]
     },
     "execution_count": 101,
     "metadata": {},
     "output_type": "execute_result"
    }
   ],
   "source": [
    "# Compiling the values\n",
    "df_describe = final.describe().T\n",
    "dist_values = df_describe[[\"mean\", \"50%\", \"std\", \"25%\", \"75%\", \"min\", \"max\"]]  # Rearranging the column order\n",
    "\n",
    "# New column for distribution skew\n",
    "dist_values[\"skew\"] = final.skew(axis=0).to_frame()\n",
    "\n",
    "# New column for normality and respective pvalue\n",
    "normal = pd.DataFrame(normal, index=dist_values.index)\n",
    "pval = pd.DataFrame(pval, index=dist_values.index)\n",
    "dist_values[\"normal_dist\"] = normal\n",
    "dist_values[\"p_value\"] = pval\n",
    "\n",
    "dist_values"
   ]
  },
  {
   "cell_type": "markdown",
   "metadata": {},
   "source": [
    "### <span style=\"color:red\">Description of SAT/ACT data distributions</span>\n",
    "\n",
    "**SAT 2017**\n",
    "- sat_part_2017: Flat bimodal distribution\n",
    "- sat_ebrw_2017: Bimodal distribution\n",
    "- sat_math_2017: Slight bimodal distribution\n",
    "- sat_total_2017: Bimodal distribution\n",
    "\n",
    "**ACT 2017**\n",
    "- act_part_2017: Flat bimodal distribution\n",
    "- act_eng_2017: Near-normal distribution\n",
    "- act_math_2017: **Normal distribution**\n",
    "- act_read_2017: **Normal distribution**\n",
    "- act_sci_2017: Near-normal distribution\n",
    "- act_comp_2017: Near-normal distribution\n",
    "\n",
    "**SAT 2018**\n",
    "- sat_part_2018: Bimodal distribution\n",
    "- sat_ebrw_2018: Bimodal distribution\n",
    "- sat_math_2018: Bimodal distribution\n",
    "- sat_total_2018: Bimodal distribution\n",
    "\n",
    "**ACT 2018**\n",
    "- act_part_2018: Bimodal distribution\n",
    "- act_comp_2018: Near-normal distribution\n"
   ]
  },
  {
   "cell_type": "markdown",
   "metadata": {},
   "source": [
    "### We generally assuming that data we sample from a population will be normally distributed. Do we observe this trend?"
   ]
  },
  {
   "cell_type": "markdown",
   "metadata": {},
   "source": [
    "Does This Assumption Hold for:\n",
    "    - Math\n",
    "    - Reading\n",
    "    - Rates\n",
    "Explain your answers for each distribution and how you think this will affect estimates made from these data."
   ]
  },
  {
   "cell_type": "markdown",
   "metadata": {},
   "source": [
    "### <span style=\"color:red\">Answer: </span>\n",
    "No, we observed that most of our sample data are not normally distributed.\n",
    "- **Math/Reading**: Yes, it will be affected. Any statistical calculations to derive confidence intervals require the underlying distribution to be a normal distribution. Given that the distribution of our SAT/ACT scores data is not normal, any estimations made using these insufficient data would not be useful.\n",
    "- **Participation rates**: Yes, it will also be affected. The SAT/ACT participation rates in 2017/2018 is also not normal. Hence, any statistical estimates made will not be useful."
   ]
  },
  {
   "cell_type": "markdown",
   "metadata": {},
   "source": [
    "### Estimate Limits of Data\n",
    "\n",
    "Suppose we only seek to understand the relationship between SAT and ACT participation rates in 2017. \n",
    "\n",
    "### Q1. Does it make sense to conduct statistical inference given these data specifically? \n",
    "\n",
    "Why or why not?\n",
    "\n",
    "*(think about granularity, aggregation, the relationships between populations size & rates...consider the actually populations these data describe in answering this question)*"
   ]
  },
  {
   "cell_type": "markdown",
   "metadata": {},
   "source": [
    "### <span style=\"color:red\">Answer: </span>\n",
    "- No, it does not make sense to compare between these data given that they are both not normally distributed. Any statistical inference derived would be inaccurate."
   ]
  },
  {
   "cell_type": "code",
   "execution_count": 102,
   "metadata": {},
   "outputs": [
    {
     "data": {
      "image/png": "[encoded data removed]",
      "text/plain": [
       "<Figure size 1080x360 with 2 Axes>"
      ]
     },
     "metadata": {
      "needs_background": "light"
     },
     "output_type": "display_data"
    }
   ],
   "source": [
    "# plot the Figure object\n",
    "fig = plt.figure(figsize=(15,5))\n",
    "\n",
    "# SAT 2017 Plot (Normalized)\n",
    "ax1 = fig.add_subplot(1,2,1)\n",
    "sns.distplot(normalized[\"sat_part_2017\"],bins=10)\n",
    "ax1.axvline(normalized[\"sat_part_2017\"].mean(), c='red', linestyle=\"dashed\", linewidth=1, label=\"mean\")\n",
    "ax1.axvline(normalized[\"sat_part_2017\"].mode()[0], c='blue', linestyle=\"dashed\", linewidth=1, label=\"mode\")\n",
    "ax1.axvline(normalized[\"sat_part_2017\"].median(), c='green', linestyle=\"dashed\", linewidth=1, label=\"median\")\n",
    "plt.xlabel(\"Rates\", size=12)\n",
    "plt.ylabel(\"Frequency\", size=12)\n",
    "plt.title(\"2017 SAT Participation\", size=16)\n",
    "ax1.legend();\n",
    "\n",
    "# SAT 2018 Plot (Normalized)\n",
    "ax2 = fig.add_subplot(1,2,2)\n",
    "sns.distplot(normalized[\"sat_part_2018\"],bins=10, color=\"green\")\n",
    "ax2.axvline(normalized[\"sat_part_2018\"].mean(), c=\"red\", linestyle=\"dashed\", linewidth=1, label=\"mean\")\n",
    "ax2.axvline(normalized[\"sat_part_2018\"].mode()[0], c='blue', linestyle=\"dashed\", linewidth=1, label=\"mode\")\n",
    "ax2.axvline(normalized[\"sat_part_2018\"].median(), c='green', linestyle=\"dashed\", linewidth=1, label=\"median\")\n",
    "plt.xlabel(\"Rates\", size=12)\n",
    "plt.ylabel(\"Frequency\", size=12)\n",
    "plt.title(\"2018 SAT Participation\", size=16)\n",
    "ax2.legend();"
   ]
  },
  {
   "cell_type": "markdown",
   "metadata": {},
   "source": [
    "### Q2. Is it appropriate to compare *these* specific SAT and ACT math scores? \n",
    "\n",
    "Why or why not?"
   ]
  },
  {
   "cell_type": "markdown",
   "metadata": {},
   "source": [
    "### <span style=\"color:red\">Answer: </span>\n",
    "- No, it does not make sense to compare between specific SAT and ACT math scores given that they are both not normally distributed. Any statistical inference derived would be inaccurate."
   ]
  },
  {
   "cell_type": "code",
   "execution_count": 103,
   "metadata": {},
   "outputs": [
    {
     "data": {
      "image/png": "[encoded data removed]",
      "text/plain": [
       "<Figure size 1080x360 with 2 Axes>"
      ]
     },
     "metadata": {
      "needs_background": "light"
     },
     "output_type": "display_data"
    }
   ],
   "source": [
    "# plot the Figure object\n",
    "fig = plt.figure(figsize=(15,5))\n",
    "\n",
    "# SAT 2017 Plot\n",
    "ax1 = fig.add_subplot(1,2,1)\n",
    "sns.distplot(normalized[\"sat_math_2017\"],bins=10)\n",
    "ax1.axvline(normalized[\"sat_math_2017\"].mean(), c='red', linestyle=\"dashed\", linewidth=1, label=\"mean\")\n",
    "ax1.axvline(normalized[\"sat_math_2017\"].mode()[0], c='blue', linestyle=\"dashed\", linewidth=1, label=\"mode\")\n",
    "ax1.axvline(normalized[\"sat_math_2017\"].median(), c='green', linestyle=\"dashed\", linewidth=1, label=\"median\")\n",
    "plt.xlabel(\"Rates\", size=12)\n",
    "plt.ylabel(\"Frequency\", size=12)\n",
    "plt.title(\"2017 SAT Math Score\", size=16)\n",
    "ax1.legend();\n",
    "\n",
    "# ACT 2017 Plot\n",
    "ax2 = fig.add_subplot(1,2,2)\n",
    "sns.distplot(normalized[\"act_math_2017\"],bins=10, color=\"green\")\n",
    "ax2.axvline(normalized[\"act_math_2017\"].mean(), c=\"red\", linestyle=\"dashed\", linewidth=1, label=\"mean\")\n",
    "ax2.axvline(normalized[\"act_math_2017\"].mode()[0], c='blue', linestyle=\"dashed\", linewidth=1, label=\"mode\")\n",
    "ax2.axvline(normalized[\"act_math_2017\"].median(), c='green', linestyle=\"dashed\", linewidth=1, label=\"median\")\n",
    "plt.xlabel(\"Rates\", size=12)\n",
    "plt.ylabel(\"Frequency\", size=12)\n",
    "plt.title(\"2017 ACT Math Score\", size=16)\n",
    "ax2.legend();"
   ]
  },
  {
   "cell_type": "markdown",
   "metadata": {},
   "source": [
    "### Statistical Evaluation of Distributions \n",
    "\n",
    "**If you feel it's appropriate**, using methods we discussed in class, run hypothesis tests to compare variables of interest in our dataset. "
   ]
  },
  {
   "cell_type": "markdown",
   "metadata": {},
   "source": [
    "### <span style=\"color:red\">Answer: </span>\n",
    "- Previously using the Shapiro-Wilk test to assess for the normality of our data, it was found that only the **ACT Reading 2017**, and **ACT Science 2017** scores had p-values > 0.05. \n",
    "- This meant that we were unable to reject the null-hypothesis that these distributions were not-normal. A distplot of these two datasets are as plotted below. It would thus be interesting to further investigate if this distribution is truly indeed normal."
   ]
  },
  {
   "cell_type": "code",
   "execution_count": 104,
   "metadata": {},
   "outputs": [
    {
     "data": {
      "image/png": "[encoded data removed]",
      "text/plain": [
       "<Figure size 1080x360 with 2 Axes>"
      ]
     },
     "metadata": {
      "needs_background": "light"
     },
     "output_type": "display_data"
    }
   ],
   "source": [
    "# plot the Figure object\n",
    "fig = plt.figure(figsize=(15,5))\n",
    "\n",
    "# ACT Reading 2017 Plot\n",
    "ax1 = fig.add_subplot(1,2,1)\n",
    "sns.distplot(normalized[\"act_read_2017\"],bins=10)\n",
    "ax1.axvline(normalized[\"act_read_2017\"].mean(), c='red', linestyle=\"dashed\", linewidth=1, label=\"mean\")\n",
    "ax1.axvline(normalized[\"act_read_2017\"].mode()[0], c='blue', linestyle=\"dashed\", linewidth=1, label=\"mode\")\n",
    "ax1.axvline(normalized[\"act_read_2017\"].median(), c='green', linestyle=\"dashed\", linewidth=1, label=\"median\")\n",
    "plt.xlabel(\"Rates\", size=12)\n",
    "plt.ylabel(\"Frequency\", size=12)\n",
    "plt.title(\"2017 ACT Reading Score\", size=16)\n",
    "ax1.legend();\n",
    "\n",
    "# ACT Science 2017 Plot\n",
    "ax2 = fig.add_subplot(1,2,2)\n",
    "sns.distplot(normalized[\"act_sci_2017\"],bins=10, color=\"green\")\n",
    "ax2.axvline(normalized[\"act_sci_2017\"].mean(), c=\"red\", linestyle=\"dashed\", linewidth=1, label=\"mean\")\n",
    "ax2.axvline(normalized[\"act_sci_2017\"].mode()[0], c='blue', linestyle=\"dashed\", linewidth=1, label=\"mode\")\n",
    "ax2.axvline(normalized[\"act_sci_2017\"].median(), c='green', linestyle=\"dashed\", linewidth=1, label=\"median\")\n",
    "plt.xlabel(\"Rates\", size=12)\n",
    "plt.ylabel(\"Frequency\", size=12)\n",
    "plt.title(\"2017 ACT Science Score\", size=16)\n",
    "ax2.legend();"
   ]
  },
  {
   "cell_type": "markdown",
   "metadata": {},
   "source": [
    "## Outside Research"
   ]
  },
  {
   "cell_type": "markdown",
   "metadata": {},
   "source": [
    "Based upon your observations, choose **three** states that demonstrate interesting trends in their SAT and/or ACT participation rates. Spend some time doing outside research on state policies that might influence these rates, and summarize your findings below. **Feel free to go back and create new plots that highlight these states of interest**. If you bring in any outside tables or charts, make sure you are explicit about having borrowed them. If you quote any text, make sure that it renders as being quoted. (Make sure that you cite your sources -- check with you local instructor for citation preferences)."
   ]
  },
  {
   "cell_type": "markdown",
   "metadata": {},
   "source": [
    "### <span style=\"color:red\">Relationship between SAT and ACT participation rates </span>"
   ]
  },
  {
   "cell_type": "code",
   "execution_count": 105,
   "metadata": {},
   "outputs": [
    {
     "data": {
      "image/png": "[encoded data removed]",
      "text/plain": [
       "<Figure size 576x864 with 2 Axes>"
      ]
     },
     "metadata": {
      "needs_background": "light"
     },
     "output_type": "display_data"
    }
   ],
   "source": [
    "plt.figure(figsize=(8, 12))\n",
    "plt.title(\"Correlation Heatmap of SAT vs ACT\"\n",
    "          \"\\nparticipation rates from 2017-2018\", fontsize = 16, y=1.02)\n",
    "\n",
    "sns.heatmap(final[[\"sat_part_2017\", \"sat_part_2018\", \"act_part_2017\", \"act_part_2018\"]].\n",
    "            sort_values(by=\"sat_part_2018\", ascending=False), cmap=\"RdBu_r\", center=50, square=True);"
   ]
  },
  {
   "cell_type": "markdown",
   "metadata": {},
   "source": [
    "### <span style=\"color:red\">Answer: </span>\n",
    "A heatmap was plotted to observe the relationships between year-on-year SAT and ACT participation rates. The values are sorted based on SAT 2017 participation rates, with states with the highest SAT partipcation being at the rop. The heatmap center point is set at 50% participation.\n",
    "\n",
    "- Based on the above heatmap and earlier data analysis in this assigment, it is known that several US states already have high SAT participation rates (e.g. Idaho, Colorado, Connecticut, Delaware, Michigan etc). It would hence not make economical sense to further target these states with our SAT advertisement campaigns.\n",
    "\n",
    "- There are on the other hand, several other states (*bottom of the heatmap*) with very low SAT participation rates. These include the states of North Dakota, Wyoming, Wisconsin, Iowa etc. It would make logical sense to focus our promotion campaigns in these states given the low SAT interest. \n",
    "\n",
    "- Notably, several of these low SAT participation states have very high levels of ACT participation. This is due to the state's mandatory requirement of applying ACT testing all junior students, such as the states of North Dakota, Wyoming and Wisconsin. These leaves several non-ACT mandatory states with low SAT participation rates in which our organization may be able to target:\n",
    "    - Iowa\n",
    "    - South Dakota\n",
    "    - Kansas\n",
    "    - Minnesota\n",
    "    - Missouri\n",
    "    - Arkansas\n",
    "    - Tennessee"
   ]
  },
  {
   "cell_type": "markdown",
   "metadata": {},
   "source": [
    "### <span style=\"color:red\">Number of SAT eligible high-schools students in 2018</span>\n",
    "Data is derived from the state-by-state reports in the  \"2018 SAT Suite Assessments Annual Report\" by the College Board."
   ]
  },
  {
   "cell_type": "markdown",
   "metadata": {},
   "source": [
    "<img src=\"https://tinyurl.com/yxfdbsyh\" style=\"width:800\" style=\"height:800\">"
   ]
  },
  {
   "cell_type": "code",
   "execution_count": 108,
   "metadata": {},
   "outputs": [],
   "source": [
    "# 2018 high-school student population data obtained from the 2018 SAT College Board report\n",
    "\n",
    "df_highschool_students = pd.read_csv(\"./data/sat_2018_studentpop.csv\")"
   ]
  },
  {
   "cell_type": "code",
   "execution_count": 109,
   "metadata": {},
   "outputs": [
    {
     "data": {
      "text/html": [
       "<div>\n",
       "<style scoped>\n",
       "    .dataframe tbody tr th:only-of-type {\n",
       "        vertical-align: middle;\n",
       "    }\n",
       "\n",
       "    .dataframe tbody tr th {\n",
       "        vertical-align: top;\n",
       "    }\n",
       "\n",
       "    .dataframe thead th {\n",
       "        text-align: right;\n",
       "    }\n",
       "</style>\n",
       "<table border=\"1\" class=\"dataframe\">\n",
       "  <thead>\n",
       "    <tr style=\"text-align: right;\">\n",
       "      <th></th>\n",
       "      <th>State</th>\n",
       "      <th>No of SAT Takers</th>\n",
       "      <th>High School Students</th>\n",
       "      <th>Percentage(%)</th>\n",
       "    </tr>\n",
       "  </thead>\n",
       "  <tbody>\n",
       "    <tr>\n",
       "      <th>4</th>\n",
       "      <td>California</td>\n",
       "      <td>262228</td>\n",
       "      <td>435365</td>\n",
       "      <td>60</td>\n",
       "    </tr>\n",
       "    <tr>\n",
       "      <th>42</th>\n",
       "      <td>Texas</td>\n",
       "      <td>226374</td>\n",
       "      <td>341613</td>\n",
       "      <td>66</td>\n",
       "    </tr>\n",
       "    <tr>\n",
       "      <th>31</th>\n",
       "      <td>New York</td>\n",
       "      <td>162551</td>\n",
       "      <td>206830</td>\n",
       "      <td>79</td>\n",
       "    </tr>\n",
       "    <tr>\n",
       "      <th>8</th>\n",
       "      <td>Florida</td>\n",
       "      <td>176746</td>\n",
       "      <td>181306</td>\n",
       "      <td>97</td>\n",
       "    </tr>\n",
       "    <tr>\n",
       "      <th>12</th>\n",
       "      <td>Illinois</td>\n",
       "      <td>145919</td>\n",
       "      <td>146800</td>\n",
       "      <td>99</td>\n",
       "    </tr>\n",
       "  </tbody>\n",
       "</table>\n",
       "</div>"
      ],
      "text/plain": [
       "         State  No of SAT Takers  High School Students  Percentage(%)\n",
       "4   California            262228                435365             60\n",
       "42       Texas            226374                341613             66\n",
       "31    New York            162551                206830             79\n",
       "8      Florida            176746                181306             97\n",
       "12    Illinois            145919                146800             99"
      ]
     },
     "execution_count": 109,
     "metadata": {},
     "output_type": "execute_result"
    }
   ],
   "source": [
    "df_highschool_students.sort_values(\"High School Students\", ascending=False).head()\n"
   ]
  },
  {
   "cell_type": "markdown",
   "metadata": {},
   "source": [
    "### <span style=\"color:red\">Answer: </span>\n",
    "\n",
    "- Among the top 5 states with the largest high-school student population, Florida and Illinois already have close to 100% SAT participation rates. As such, we should not be focusing our efforts to target these states.\n",
    "- This leaves the states of **New York**, **Texas** and **California** as the three most populous states which have not yet achieved full SAT participation."
   ]
  },
  {
   "cell_type": "markdown",
   "metadata": {},
   "source": [
    "### <span style=\"color:red\">Growth projections of future high-schools student numbers in California, Texas and New York.</span>\n",
    "Data derived from \"Knocking at the College Door: Projections of High School Graduates\" by Bransberger and Michelau (2016)"
   ]
  },
  {
   "cell_type": "markdown",
   "metadata": {},
   "source": [
    "### <span style=\"color:red\">Answer: </span>\n",
    "From the report \"Knocking at the College Door: Projections of High School Graduates\" by the Western Interstate Commission for Higher Education (Bransberger and Michelau)\n",
    "\n",
    "- **California**: The number #1 producer of high-school students in the US. However, this number is not projected to increase in the next decade.\n",
    "- **Texas**: The second highest producer of high-school students. This number is projected to increase for the coming 4-5 years.\n",
    "- **New York**: The third highest producer of high-school students in the US. The number of high-school student is estimated to remain constant."
   ]
  },
  {
   "cell_type": "markdown",
   "metadata": {},
   "source": [
    "### <span style=\"color:red\">A majority of California SAT takers send their reports to universities within California</span>"
   ]
  },
  {
   "cell_type": "markdown",
   "metadata": {},
   "source": [
    "### <span style=\"color:red\">Answer: </span>\n",
    "Data is derived from the report \"California 2018 SAT Suite Assessments Annual Report\" by the College Board.\n",
    "- Of the 262,228 California students that took the SAT, 198,757 of them requested for their scores to be send to University institutions. \n",
    "- While students may designate more than 1 institute to receive their scores, it is interesting to note that a large marjority of California students choose to send their scores to local state public/private colleges. \n",
    "- This piece of data may be useful in helping the California Education Board to help formulate policies (i.e. state sponsored SAT tests) which could help encourage local high-school students to attend local colleges."
   ]
  },
  {
   "cell_type": "markdown",
   "metadata": {},
   "source": [
    "## Conclusions and Recommendations"
   ]
  },
  {
   "cell_type": "markdown",
   "metadata": {},
   "source": [
    "Based on your exploration of the data, what are you key takeaways and recommendations? Choose one state with a lower participation rate and provide a suggestion for how the College Board might increase participation amongst graduating seniors in this state. Are there additional data you desire that would better inform your investigations?"
   ]
  },
  {
   "cell_type": "markdown",
   "metadata": {},
   "source": [
    "### <span style=\"color:red\">Key Findings</span>\n",
    "- **It is proposed that the College Board increase their efforts in targeting high-school students in the state of California**.\n",
    "- This is due to their large population of annually graduating high-school students, of which lies a sizable 100-150 thousand students (~40%) that have yet to take the SAT. \n",
    "- A small percentage increase in SAT participation from California would have a huge numerical increase in student participation number. This is as opposed to lower density US states with much fewer student numbers.\n",
    "- From a growth projection point of view, it also logical given that California be chosen given that this large student body population is expected to remain the largest in US for the the coming decade.\n",
    "\n",
    "### <span style=\"color:red\">Recommendations</span>\n",
    "- To fully develop a comprehensive strategy to help improve SAT enrollment, we propose additional studies to identify and address the underlying concerns affecting SAT participation in Californian high-school students. We propose a three-pronged investigation into the following:\n",
    "\n",
    "    - **California State Education Policy**: \n",
    "        - What are the schemes in place to help high-school students explore college opportunities and their application rates?\n",
    "        - Are there state-sponsored college scholarships or tuition grants, and do students utilize such resources? \n",
    "        - Is there sufficient demand/need to justify implementing mandatory SAT tests for all students?\n",
    "    - **High-school Students Background**: \n",
    "        - How is the receptivity of California High School students towards college education or seeking employment?\n",
    "        - How do their family backgrounds affect their choices to either work, or attend college? \n",
    "        - Are they receptive towards taking an SAT test? \n",
    "        - Do they believe that taking the SAT will help improve their chances to getting into college?\n",
    "    - **College Admission Policy**:\n",
    "        - How do California state colleges rank potential students for admission?\n",
    "        - How much does the SAT score impact the student's chances of entering college?\n",
    "        - What are the schemes in place to help disadvantage students to attend college?"
   ]
  },
  {
   "cell_type": "markdown",
   "metadata": {},
   "source": [
    "## List of References\n",
    "1) Bramberger. P. and Michelau. D.K. (2016) \"*Knocking at the College Door: Projections of High School Graduates*\".\n",
    "\n",
    "2) College Board. (2018) \"*California. 2018 SAT Suite Assessments Annual Report*\".\n",
    "\n",
    "3) College Board. (2018) \"*Total Group. 2018 SAT Suite Assessments Annual Report*\".\n",
    "\n",
    "4) SAT Scores (2017) - https://blog.collegevine.com/here-are-the-average-sat-scores-by-state/\n",
    "\n",
    "5) ACT Scores (2017) - https://blog.prepscholar.com/act-scores-by-state-averages-highs-and-lows/\n",
    "\n",
    "6) ACT Scores (2018) - http://www.act.org/content/dam/act/unsecured/documents/cccr2018/Average-Scores-by-State.pdf/ \n"
   ]
  }
 ],
 "metadata": {
  "anaconda-cloud": {},
  "kernelspec": {
   "display_name": "Python 3",
   "language": "python",
   "name": "python3"
  },
  "language_info": {
   "codemirror_mode": {
    "name": "ipython",
    "version": 3
   },
   "file_extension": ".py",
   "mimetype": "text/x-python",
   "name": "python",
   "nbconvert_exporter": "python",
   "pygments_lexer": "ipython3",
   "version": "3.7.3"
  }
 },
 "nbformat": 4,
 "nbformat_minor": 2
}
